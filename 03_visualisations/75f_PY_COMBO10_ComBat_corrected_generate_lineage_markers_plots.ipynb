{
 "cells": [
  {
   "cell_type": "markdown",
   "metadata": {},
   "source": [
    "### Generates chosen DR scatter plots \n",
    "### with expression highlighted for input gene sets\n",
    "---\n",
    "#### Combined 10 donors (NO SPL3)\n",
    "\n",
    "#### ComBat batch corrected values\n",
    "\n",
    "#### Exploring lineage identification through lineage gene markers\n",
    "---\n",
    "##### hpb29"
   ]
  },
  {
   "cell_type": "markdown",
   "metadata": {},
   "source": [
    "Date: 2021-02-23"
   ]
  },
  {
   "cell_type": "code",
   "execution_count": null,
   "metadata": {},
   "outputs": [],
   "source": [
    "%matplotlib widget\n",
    "\n",
    "import warnings\n",
    "warnings.filterwarnings('ignore')\n",
    "\n",
    "import os, sys, json, operator, getpass\n",
    "from pathlib import Path\n",
    "from datetime import datetime\n",
    "\n",
    "import numpy as np\n",
    "import pandas as pd\n",
    "import scanpy as sc\n",
    "\n",
    "import matplotlib as mpl\n",
    "import matplotlib.pyplot as plt\n",
    "from ipywidgets import widgets\n",
    "\n",
    "from scipy.sparse import csr_matrix"
   ]
  },
  {
   "cell_type": "code",
   "execution_count": null,
   "metadata": {},
   "outputs": [],
   "source": [
    "with open('/.singularity.d/labels.json') as fh:\n",
    "    singularity = json.load(fh)\n",
    "    \n",
    "singularity['Version']"
   ]
  },
  {
   "cell_type": "code",
   "execution_count": null,
   "metadata": {},
   "outputs": [],
   "source": [
    "sc.settings.verbosity = 3             # show some output\n",
    "sc.settings.file_format_figs = 'svg'  # set this to 'svg' (notebook) or 'pdf' (files) if you want vector graphics\n",
    "sc.settings.savefigs = False\n",
    "#sc.set_figure_params(dpi=150)"
   ]
  },
  {
   "cell_type": "code",
   "execution_count": null,
   "metadata": {},
   "outputs": [],
   "source": [
    "plt.rcParams['font.family'] = 'sans-serif'\n",
    "plt.rcParams['font.sans-serif'] = 'Arial'\n",
    "plt.rc('font', size=14)"
   ]
  },
  {
   "cell_type": "code",
   "execution_count": null,
   "metadata": {},
   "outputs": [],
   "source": [
    "home = str(Path.home())\n",
    "user = getpass.getuser()\n",
    "\n",
    "basedir = os.path.join(home, 'datafloor/users', user, '2020/SLX19841/')\n",
    "\n",
    "sc.settings.writedir = os.path.join(basedir, 'analysis/h5ad/')"
   ]
  },
  {
   "cell_type": "code",
   "execution_count": null,
   "metadata": {},
   "outputs": [],
   "source": [
    "now = datetime.now()\n",
    "prefix = now.strftime('%Y%m%d')\n",
    "print(prefix)"
   ]
  },
  {
   "cell_type": "code",
   "execution_count": null,
   "metadata": {},
   "outputs": [],
   "source": []
  },
  {
   "cell_type": "code",
   "execution_count": null,
   "metadata": {},
   "outputs": [],
   "source": [
    "plt.rcParams['image.cmap'] = 'YlOrRd'"
   ]
  },
  {
   "cell_type": "code",
   "execution_count": null,
   "metadata": {},
   "outputs": [],
   "source": []
  },
  {
   "cell_type": "code",
   "execution_count": null,
   "metadata": {},
   "outputs": [],
   "source": [
    "def plotarama(plot_type, ann, targets, extra=[], ncols=4, components=['1,2'], raw=False, savename=None):\n",
    "\n",
    "    # augment target gene plots w/ possible extra observations (e.g. ['leiden'] )\n",
    "    targets = targets + extra\n",
    "        \n",
    "    if plot_type == 'pca':\n",
    "        axes = sc.pl.pca_scatter(ann, color=targets, ncols=ncols, use_raw=raw, show=False)\n",
    "    elif plot_type == 'diff':    \n",
    "        axes = sc.pl.diffmap(ann, color=targets, components=components, ncols=ncols, use_raw=raw, show=False)\n",
    "    elif plot_type == 'tsne':\n",
    "        axes = sc.pl.tsne(ann, color=targets, ncols=ncols, use_raw=raw, show=False)\n",
    "    elif plot_type == 'umap':\n",
    "        axes = sc.pl.umap(ann, color=targets, ncols=ncols, use_raw=raw, show=False)\n",
    "    elif plot_type == 'force':\n",
    "        axes = sc.pl.draw_graph(ann, color=targets, ncols=ncols, use_raw=raw, show=False)\n",
    "    else:\n",
    "        print('Invalid plot type: ', plot_type)\n",
    "\n",
    "    xlabel = axes[0].get_xaxis().get_label().get_text()\n",
    "    ylabel = axes[0].get_yaxis().get_label().get_text()\n",
    "   \n",
    "    # global aesthetics tweaks\n",
    "    # ------------------------------------------------------------------------\n",
    "    \n",
    "    for ax in axes:\n",
    "        ax.get_xaxis().set_visible(False)\n",
    "        ax.get_yaxis().set_visible(False)    \n",
    "    \n",
    "    if savename is not None:\n",
    "        outname = savename+plot_type+'.png'\n",
    "        plt.savefig(outname, dpi=300)\n",
    "        \n",
    "    return xlabel, ylabel"
   ]
  },
  {
   "cell_type": "code",
   "execution_count": null,
   "metadata": {},
   "outputs": [],
   "source": []
  },
  {
   "cell_type": "code",
   "execution_count": null,
   "metadata": {},
   "outputs": [],
   "source": [
    "lineages = {\n",
    "\n",
    "   'hsc_genes'      : ['CD34', 'CD38', 'PTPRC', 'CLEC9A', 'HES1', 'HLF', 'GATA2', 'GFI1', \n",
    "                       'HOXB4', 'ID1', 'KMT2A', 'MEIS1', 'FOXO3', 'MAF', 'THY1', 'KIT', \n",
    "                       'CD133', 'BMI1', 'RUNX1', 'LMO2', 'TEL', 'TAL1', 'ERG'],\n",
    "   'hspc_adhesion'  : ['CXCR4', 'CD44', 'ITGA4', 'ITGB1', 'ITGA7', 'ITGA9'], \n",
    "   'myeloid'        : ['SPI1', 'CEBPA', 'CEBPD', 'CEBPE', 'GFI1', 'EGR1', 'ELANE', 'AML1'],    \n",
    "   'erytroid'       : ['HBD', 'KLF1', 'HBB', 'TAL1', 'SHMT2', 'GFI1B', 'NFE2', 'EPOR', 'HBF', \n",
    "                      'FOG', 'HBA1', 'TFRC', 'GATA1', 'GLYA', 'MLLT3', 'HBA2'],    \n",
    "   'Mk'             : ['TAL1', 'NFE2', 'MPL', 'VWF', 'CD42', 'ITGA2B', 'CD9', 'PF4', 'ITGB3', \n",
    "                      'FLI1', 'GATA1', 'LOX', 'FCGR3A', 'NFIB', 'TGFB', 'FOG', 'GFI1B'],\n",
    "   'basophil_mast'  : ['ENPP3', 'CLC', 'CEBPA', 'CMA1', 'SPI1', 'KIT', 'MITF', 'ITGB7', \n",
    "                      'MCPT4', 'GATA1', 'CPA3', 'TPSAB1', 'TPSG1'], \n",
    "   'B'              : ['CD79A', 'SPI1', 'FOXO1', 'PAX5', 'SOX4', 'FLT3', 'IKZF1', 'BCL11A', \n",
    "                      'ID2', 'MS4A1', 'ID3', 'EBF1', 'E2A'],\n",
    "   'T'              : ['IKZF1', 'GATA3', 'TCF7', 'NOTCH1', 'BCL11B', 'CD8A', 'CD3D'],\n",
    "   'NK'             : ['GATA3', 'ID2', 'TBX21', 'KLRB1', 'KLRC1', 'EOMES', 'NCAM1', 'NCR1', \n",
    "                      'GNLY', 'FCGR3A'],\n",
    "   'DC'             : ['RELB', 'IRF8', 'SPI1', 'FLT3', 'ID2', 'CLEC9A', 'STAT3', 'CCR7', 'CCL2'],\n",
    "   'innate_lymphoid': ['RORC', 'TBX21', 'GATA3', 'ID2', 'ITGA4', 'ITGB7', 'KLRB1', 'IL1R1', \n",
    "                       'NFIL3', 'IL2RB', 'CCR6', 'INFG', 'IL5', 'IL13', 'IL17', 'TNFSF11'],  \n",
    "   'T_cell_subsets' : ['TBX21', 'GATA3', 'RORC', 'MAF', 'FOXP3'],\n",
    "   'neutro_clp'     : ['MPO','MME'],\n",
    "   'monophil'       : ['IRF8', 'FCGR3B'],    \n",
    "    \n",
    "}"
   ]
  },
  {
   "cell_type": "code",
   "execution_count": null,
   "metadata": {},
   "outputs": [],
   "source": []
  },
  {
   "cell_type": "code",
   "execution_count": null,
   "metadata": {},
   "outputs": [],
   "source": [
    "%%time\n",
    "data = sc.read('COMBO10_NO_SPL3_combat_corrected')"
   ]
  },
  {
   "cell_type": "markdown",
   "metadata": {},
   "source": [
    "# HSPC ADHESION"
   ]
  },
  {
   "cell_type": "code",
   "execution_count": null,
   "metadata": {},
   "outputs": [],
   "source": [
    "clean = [x for x in lineages['hspc_adhesion'] if x in data.var.index]\n",
    "clean"
   ]
  },
  {
   "cell_type": "code",
   "execution_count": null,
   "metadata": {},
   "outputs": [],
   "source": [
    "xl, yl = plotarama('umap', data, clean, extra=['cleiden.1.0'], \n",
    "                   savename='figures/'+prefix+'_COMB010_NO_SPL3_ComBat_HSPC_adhesion_')"
   ]
  },
  {
   "cell_type": "markdown",
   "metadata": {},
   "source": [
    "# HSC"
   ]
  },
  {
   "cell_type": "code",
   "execution_count": null,
   "metadata": {},
   "outputs": [],
   "source": [
    "clean = [x for x in lineages['hsc_genes'] if x in data.var.index]\n",
    "#clean"
   ]
  },
  {
   "cell_type": "code",
   "execution_count": null,
   "metadata": {},
   "outputs": [],
   "source": [
    "xlabel, ylabel = plotarama('umap', data, clean, ['cleiden.1.0'], ncols=3, raw=False,\n",
    "                            savename='figures/'+prefix+'_COMB010_NO_SPL3_ComBat_HSC_')"
   ]
  },
  {
   "cell_type": "markdown",
   "metadata": {},
   "source": [
    "# Lineages"
   ]
  },
  {
   "cell_type": "markdown",
   "metadata": {},
   "source": [
    "---"
   ]
  },
  {
   "cell_type": "markdown",
   "metadata": {},
   "source": [
    "# Myeloid"
   ]
  },
  {
   "cell_type": "code",
   "execution_count": null,
   "metadata": {},
   "outputs": [],
   "source": [
    "clean = [x for x in lineages['myeloid'] if x in data.var.index]\n",
    "#clean"
   ]
  },
  {
   "cell_type": "code",
   "execution_count": null,
   "metadata": {},
   "outputs": [],
   "source": [
    "xl, yl = plotarama('umap', data, clean, extra=['cleiden.1.0'], raw=False,\n",
    "                   savename='figures/'+prefix+'_COMB010_NO_SPL3_ComBat_Myeloid_')"
   ]
  },
  {
   "cell_type": "markdown",
   "metadata": {},
   "source": [
    "# Erytroid"
   ]
  },
  {
   "cell_type": "code",
   "execution_count": null,
   "metadata": {},
   "outputs": [],
   "source": [
    "clean = [x for x in lineages['erytroid'] if x in data.var.index]\n",
    "#clean"
   ]
  },
  {
   "cell_type": "code",
   "execution_count": null,
   "metadata": {},
   "outputs": [],
   "source": [
    "xl, yl = plotarama('umap', data, clean, extra=['cleiden.1.0'], raw=False,\n",
    "                   savename='figures/'+prefix+'_COMB010_NO_SPL3_ComBat_Erytroid_')"
   ]
  },
  {
   "cell_type": "markdown",
   "metadata": {},
   "source": [
    "# Mk"
   ]
  },
  {
   "cell_type": "code",
   "execution_count": null,
   "metadata": {},
   "outputs": [],
   "source": [
    "clean = [x for x in lineages['Mk'] if x in data.var.index]\n",
    "#clean"
   ]
  },
  {
   "cell_type": "code",
   "execution_count": null,
   "metadata": {},
   "outputs": [],
   "source": [
    "xl, yl = plotarama('umap', data, clean, extra=['cleiden.1.0'], raw=False,\n",
    "                   savename='figures/'+prefix+'_COMB010_NO_SPL3_ComBat_Mk_')"
   ]
  },
  {
   "cell_type": "markdown",
   "metadata": {},
   "source": [
    "# B cells"
   ]
  },
  {
   "cell_type": "code",
   "execution_count": null,
   "metadata": {},
   "outputs": [],
   "source": [
    "clean = [x for x in lineages['B'] if x in data.var.index]\n",
    "#clean"
   ]
  },
  {
   "cell_type": "code",
   "execution_count": null,
   "metadata": {},
   "outputs": [],
   "source": [
    "xl, yl = plotarama('umap', data, clean, extra=['cleiden.1.0'], raw=False,\n",
    "                   savename='figures/'+prefix+'_COMB010_NO_SPL3_ComBat_B_cells_')"
   ]
  },
  {
   "cell_type": "markdown",
   "metadata": {},
   "source": [
    "# T cells"
   ]
  },
  {
   "cell_type": "code",
   "execution_count": null,
   "metadata": {},
   "outputs": [],
   "source": [
    "clean = [x for x in lineages['T'] if x in data.var.index]\n",
    "#clean"
   ]
  },
  {
   "cell_type": "code",
   "execution_count": null,
   "metadata": {},
   "outputs": [],
   "source": [
    "xl, yl = plotarama('umap', data, clean, ncols=3, extra=['cleiden.1.0'], raw=False,\n",
    "                   savename='figures/'+prefix+'_COMB010_NO_SPL3_ComBat_T_cells_')"
   ]
  },
  {
   "cell_type": "markdown",
   "metadata": {},
   "source": [
    "# NK cells"
   ]
  },
  {
   "cell_type": "code",
   "execution_count": null,
   "metadata": {},
   "outputs": [],
   "source": [
    "clean = [x for x in lineages['NK'] if x in data.var.index]\n",
    "#clean"
   ]
  },
  {
   "cell_type": "code",
   "execution_count": null,
   "metadata": {},
   "outputs": [],
   "source": [
    "xl, yl = plotarama('umap', data, clean, extra=['cleiden.1.0'], ncols=4, raw=False,\n",
    "                   savename='figures/'+prefix+'_COMB010_NO_SPL3_ComBat_NK_cells_')"
   ]
  },
  {
   "cell_type": "markdown",
   "metadata": {},
   "source": [
    "# DC cells"
   ]
  },
  {
   "cell_type": "code",
   "execution_count": null,
   "metadata": {},
   "outputs": [],
   "source": [
    "clean = [x for x in lineages['DC'] if x in data.var.index]\n",
    "#clean"
   ]
  },
  {
   "cell_type": "code",
   "execution_count": null,
   "metadata": {},
   "outputs": [],
   "source": [
    "xl, yl = plotarama('umap', data, clean, extra=['cleiden.1.0'], ncols=4, raw=False,\n",
    "                   savename='figures/'+prefix+'_COMB010_NO_SPL3_ComBat_DC_cells_')"
   ]
  },
  {
   "cell_type": "markdown",
   "metadata": {},
   "source": [
    "# Basophil/Mast cells"
   ]
  },
  {
   "cell_type": "code",
   "execution_count": null,
   "metadata": {},
   "outputs": [],
   "source": [
    "clean = [x for x in lineages['basophil_mast'] if x in data.var.index]\n",
    "#clean"
   ]
  },
  {
   "cell_type": "code",
   "execution_count": null,
   "metadata": {},
   "outputs": [],
   "source": [
    "xl, yl = plotarama('umap', data, clean, extra=['cleiden.1.0'], ncols=4, raw=False,\n",
    "                   savename='figures/'+prefix+'_COMB010_NO_SPL3_Baso_Mast_cells_')"
   ]
  },
  {
   "cell_type": "markdown",
   "metadata": {},
   "source": [
    "# Innate lymphoid"
   ]
  },
  {
   "cell_type": "code",
   "execution_count": null,
   "metadata": {},
   "outputs": [],
   "source": [
    "clean = [x for x in lineages['innate_lymphoid'] if x in data.var.index]\n",
    "#clean"
   ]
  },
  {
   "cell_type": "code",
   "execution_count": null,
   "metadata": {},
   "outputs": [],
   "source": [
    "xl, yl = plotarama('umap', data, clean, extra=['cleiden.1.0'], ncols=4, raw=False,\n",
    "                   savename='figures/'+prefix+'_COMB010_NO_SPL3_ComBat_innate_lymphoid_')"
   ]
  },
  {
   "cell_type": "markdown",
   "metadata": {},
   "source": [
    "# T cell subsets"
   ]
  },
  {
   "cell_type": "code",
   "execution_count": null,
   "metadata": {},
   "outputs": [],
   "source": [
    "clean = [x for x in lineages['T_cell_subsets'] if x in data.var.index]\n",
    "#clean"
   ]
  },
  {
   "cell_type": "code",
   "execution_count": null,
   "metadata": {},
   "outputs": [],
   "source": [
    "xl, yl = plotarama('umap', data, clean, extra=['cleiden.1.0'], ncols=3, raw=False,\n",
    "                   savename='figures/'+prefix+'_COMB010_NO_SPL3_ComBat_subsets_T_cell_')"
   ]
  },
  {
   "cell_type": "markdown",
   "metadata": {},
   "source": [
    "# Neutro_clp"
   ]
  },
  {
   "cell_type": "code",
   "execution_count": null,
   "metadata": {},
   "outputs": [],
   "source": [
    "clean = [x for x in lineages['neutro_clp'] if x in data.var.index]\n",
    "#clean"
   ]
  },
  {
   "cell_type": "code",
   "execution_count": null,
   "metadata": {},
   "outputs": [],
   "source": [
    "xl, yl = plotarama('umap', data, clean, extra=['cleiden.1.0'], ncols=3, raw=False,\n",
    "                   savename='figures/'+prefix+'_COMB010_NO_SPL3_ComBat_Neutro_CLP_')"
   ]
  },
  {
   "cell_type": "markdown",
   "metadata": {},
   "source": [
    "# Monophil"
   ]
  },
  {
   "cell_type": "code",
   "execution_count": null,
   "metadata": {},
   "outputs": [],
   "source": [
    "clean = [x for x in lineages['monophil'] if x in data.var.index]\n",
    "#clean"
   ]
  },
  {
   "cell_type": "code",
   "execution_count": null,
   "metadata": {},
   "outputs": [],
   "source": [
    "xl, yl = plotarama('umap', data, clean, extra=['cleiden.1.0'], ncols=3, raw=False,\n",
    "                   savename='figures/'+prefix+'_COMB010_NO_SPL3_ComBat_Monophil_')"
   ]
  },
  {
   "cell_type": "markdown",
   "metadata": {},
   "source": [
    "# Cell cycle genes"
   ]
  },
  {
   "cell_type": "code",
   "execution_count": null,
   "metadata": {},
   "outputs": [],
   "source": [
    "cell_cycle_genes = ['CDK1', 'CCND3', 'CCNB1', 'CCNB2', 'CDKN2D', 'CDKN1A', 'CDKN1B', \n",
    "                    'CDKN1C', 'CDK2', 'CDK4', 'CDK6', 'CCND1', 'CCND2', 'CCNE1', \n",
    "                    'CCNE2', 'CCNA1', 'CCNA2', 'CCNB3', 'CDKN2A', 'CDKN2C', 'CDKN2B']"
   ]
  },
  {
   "cell_type": "code",
   "execution_count": null,
   "metadata": {},
   "outputs": [],
   "source": [
    "clean = [x for x in cell_cycle_genes if x in data.var.index]\n",
    "#clean"
   ]
  },
  {
   "cell_type": "code",
   "execution_count": null,
   "metadata": {},
   "outputs": [],
   "source": [
    "xl, yl = plotarama('umap', data, clean, extra=['cleiden.1.0'], ncols=3, raw=False,\n",
    "                   savename='figures/'+prefix+'_COMB010_NO_SPL3_ComBat_cell_cycle_genes_')"
   ]
  }
 ],
 "metadata": {
  "finalized": {
   "timestamp": 1604057537118,
   "trusted": true
  },
  "kernelspec": {
   "display_name": "Python 3",
   "language": "python",
   "name": "python3"
  },
  "language_info": {
   "codemirror_mode": {
    "name": "ipython",
    "version": 3
   },
   "file_extension": ".py",
   "mimetype": "text/x-python",
   "name": "python",
   "nbconvert_exporter": "python",
   "pygments_lexer": "ipython3",
   "version": "3.8.6"
  },
  "varInspector": {
   "cols": {
    "lenName": 16,
    "lenType": 16,
    "lenVar": 40
   },
   "kernels_config": {
    "python": {
     "delete_cmd_postfix": "",
     "delete_cmd_prefix": "del ",
     "library": "var_list.py",
     "varRefreshCmd": "print(var_dic_list())"
    },
    "r": {
     "delete_cmd_postfix": ") ",
     "delete_cmd_prefix": "rm(",
     "library": "var_list.r",
     "varRefreshCmd": "cat(var_dic_list()) "
    }
   },
   "types_to_exclude": [
    "module",
    "function",
    "builtin_function_or_method",
    "instance",
    "_Feature"
   ],
   "window_display": false
  },
  "widgets": {
   "application/vnd.jupyter.widget-state+json": {
    "state": {},
    "version_major": 2,
    "version_minor": 0
   }
  }
 },
 "nbformat": 4,
 "nbformat_minor": 4
}
