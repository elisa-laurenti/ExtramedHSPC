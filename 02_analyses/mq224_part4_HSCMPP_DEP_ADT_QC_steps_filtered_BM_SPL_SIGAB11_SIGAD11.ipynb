{
 "cells": [
  {
   "cell_type": "markdown",
   "metadata": {},
   "source": [
    "### Protein. Bone Marrow (BM) + Spleen (SPL) \n",
    "### ADT QC steps + DSB + filtering clusters + differentially expressed proteins\n",
    "---\n",
    "##### mq224"
   ]
  },
  {
   "cell_type": "markdown",
   "metadata": {},
   "source": [
    "Date: 2021-01-19"
   ]
  },
  {
   "cell_type": "code",
   "execution_count": 1,
   "metadata": {},
   "outputs": [
    {
     "name": "stderr",
     "output_type": "stream",
     "text": [
      "/usr/local/lib/python3.7/dist-packages/numba/core/cpu.py:77: UserWarning: Numba extension module 'sparse._numba_extension' failed to load due to 'ModuleNotFoundError(No module named 'numba.targets')'.\n",
      "  numba.core.entrypoints.init_all()\n"
     ]
    }
   ],
   "source": [
    "#SETTING ENVIRONMENT \n",
    "import rpy2\n",
    "\n",
    "import numpy as np\n",
    "import pandas as pd\n",
    "import scanpy as sc\n",
    "import os.path\n",
    "\n",
    "sc.settings.verbosity = 3\n",
    "sc.settings.set_figure_params(dpi=80, dpi_save=1000)"
   ]
  },
  {
   "cell_type": "code",
   "execution_count": 2,
   "metadata": {},
   "outputs": [
    {
     "name": "stdout",
     "output_type": "stream",
     "text": [
      "20210222\n"
     ]
    }
   ],
   "source": [
    "from datetime import datetime\n",
    "now = datetime.now()\n",
    "prefix = now.strftime('%Y%m%d')\n",
    "print(prefix)"
   ]
  },
  {
   "cell_type": "code",
   "execution_count": 3,
   "metadata": {},
   "outputs": [],
   "source": [
    "from matplotlib.colors import LinearSegmentedColormap\n",
    "cmap = LinearSegmentedColormap.from_list(name='gene_cmap', colors=['lightgrey', 'thistle', 'red', 'darkred']) "
   ]
  },
  {
   "cell_type": "code",
   "execution_count": 4,
   "metadata": {},
   "outputs": [],
   "source": [
    "#this file hasn't been dsb normalised. \n",
    "output = sc.read(\"h5ad_part2/20210119_Laurenti_mq224_ADT_postQC_filtered_BM_SPL_SIGAB11_SIGAD11.h5ad\")"
   ]
  },
  {
   "cell_type": "markdown",
   "metadata": {},
   "source": [
    "# HSC/MPP only - Differentially expressed proteins"
   ]
  },
  {
   "cell_type": "code",
   "execution_count": 5,
   "metadata": {},
   "outputs": [],
   "source": [
    "import pandas as pd\n",
    "new_metadata=pd.read_csv(\"../../../Data/20210129_COMBO10_SAM_DOD4_metadata.txt\",delimiter=\"\\t\")"
   ]
  },
  {
   "cell_type": "code",
   "execution_count": 6,
   "metadata": {},
   "outputs": [
    {
     "data": {
      "text/html": [
       "<div>\n",
       "<style scoped>\n",
       "    .dataframe tbody tr th:only-of-type {\n",
       "        vertical-align: middle;\n",
       "    }\n",
       "\n",
       "    .dataframe tbody tr th {\n",
       "        vertical-align: top;\n",
       "    }\n",
       "\n",
       "    .dataframe thead th {\n",
       "        text-align: right;\n",
       "    }\n",
       "</style>\n",
       "<table border=\"1\" class=\"dataframe\">\n",
       "  <thead>\n",
       "    <tr style=\"text-align: right;\">\n",
       "      <th></th>\n",
       "      <th>Unnamed: 0</th>\n",
       "      <th>donor</th>\n",
       "      <th>organ</th>\n",
       "      <th>kmeans2</th>\n",
       "      <th>leiden.1.2</th>\n",
       "    </tr>\n",
       "  </thead>\n",
       "  <tbody>\n",
       "    <tr>\n",
       "      <th>0</th>\n",
       "      <td>_04_AAACCCAAGATGTTCC.1.1</td>\n",
       "      <td>DOD4</td>\n",
       "      <td>BM</td>\n",
       "      <td>0</td>\n",
       "      <td>5</td>\n",
       "    </tr>\n",
       "    <tr>\n",
       "      <th>1</th>\n",
       "      <td>_04_AAACCCACAATACAGA.1.1</td>\n",
       "      <td>DOD4</td>\n",
       "      <td>BM</td>\n",
       "      <td>0</td>\n",
       "      <td>5</td>\n",
       "    </tr>\n",
       "    <tr>\n",
       "      <th>2</th>\n",
       "      <td>_04_AAACCCAGTAAGATAC.1.1</td>\n",
       "      <td>DOD4</td>\n",
       "      <td>BM</td>\n",
       "      <td>0</td>\n",
       "      <td>4</td>\n",
       "    </tr>\n",
       "    <tr>\n",
       "      <th>3</th>\n",
       "      <td>_04_AAACCCATCCTAAACG.1.1</td>\n",
       "      <td>DOD4</td>\n",
       "      <td>BM</td>\n",
       "      <td>0</td>\n",
       "      <td>5</td>\n",
       "    </tr>\n",
       "    <tr>\n",
       "      <th>4</th>\n",
       "      <td>_04_AAACCCATCGTTACCC.1.1</td>\n",
       "      <td>DOD4</td>\n",
       "      <td>BM</td>\n",
       "      <td>0</td>\n",
       "      <td>5</td>\n",
       "    </tr>\n",
       "    <tr>\n",
       "      <th>...</th>\n",
       "      <td>...</td>\n",
       "      <td>...</td>\n",
       "      <td>...</td>\n",
       "      <td>...</td>\n",
       "      <td>...</td>\n",
       "    </tr>\n",
       "    <tr>\n",
       "      <th>9374</th>\n",
       "      <td>_04_TTTGTTGGTAAGGCTG.1.3</td>\n",
       "      <td>DOD4</td>\n",
       "      <td>SPL</td>\n",
       "      <td>1</td>\n",
       "      <td>0</td>\n",
       "    </tr>\n",
       "    <tr>\n",
       "      <th>9375</th>\n",
       "      <td>_04_TTTGTTGGTATGTGTC.1.3</td>\n",
       "      <td>DOD4</td>\n",
       "      <td>SPL</td>\n",
       "      <td>1</td>\n",
       "      <td>11</td>\n",
       "    </tr>\n",
       "    <tr>\n",
       "      <th>9376</th>\n",
       "      <td>_04_TTTGTTGGTCCTGTTC.1.3</td>\n",
       "      <td>DOD4</td>\n",
       "      <td>SPL</td>\n",
       "      <td>1</td>\n",
       "      <td>0</td>\n",
       "    </tr>\n",
       "    <tr>\n",
       "      <th>9377</th>\n",
       "      <td>_04_TTTGTTGGTGACACGA.1.3</td>\n",
       "      <td>DOD4</td>\n",
       "      <td>SPL</td>\n",
       "      <td>1</td>\n",
       "      <td>4</td>\n",
       "    </tr>\n",
       "    <tr>\n",
       "      <th>9378</th>\n",
       "      <td>_04_TTTGTTGGTGCATGAG.1.3</td>\n",
       "      <td>DOD4</td>\n",
       "      <td>SPL</td>\n",
       "      <td>1</td>\n",
       "      <td>11</td>\n",
       "    </tr>\n",
       "  </tbody>\n",
       "</table>\n",
       "<p>9379 rows × 5 columns</p>\n",
       "</div>"
      ],
      "text/plain": [
       "                    Unnamed: 0 donor organ  kmeans2  leiden.1.2\n",
       "0     _04_AAACCCAAGATGTTCC.1.1  DOD4    BM        0           5\n",
       "1     _04_AAACCCACAATACAGA.1.1  DOD4    BM        0           5\n",
       "2     _04_AAACCCAGTAAGATAC.1.1  DOD4    BM        0           4\n",
       "3     _04_AAACCCATCCTAAACG.1.1  DOD4    BM        0           5\n",
       "4     _04_AAACCCATCGTTACCC.1.1  DOD4    BM        0           5\n",
       "...                        ...   ...   ...      ...         ...\n",
       "9374  _04_TTTGTTGGTAAGGCTG.1.3  DOD4   SPL        1           0\n",
       "9375  _04_TTTGTTGGTATGTGTC.1.3  DOD4   SPL        1          11\n",
       "9376  _04_TTTGTTGGTCCTGTTC.1.3  DOD4   SPL        1           0\n",
       "9377  _04_TTTGTTGGTGACACGA.1.3  DOD4   SPL        1           4\n",
       "9378  _04_TTTGTTGGTGCATGAG.1.3  DOD4   SPL        1          11\n",
       "\n",
       "[9379 rows x 5 columns]"
      ]
     },
     "execution_count": 6,
     "metadata": {},
     "output_type": "execute_result"
    }
   ],
   "source": [
    "new_metadata"
   ]
  },
  {
   "cell_type": "code",
   "execution_count": 7,
   "metadata": {},
   "outputs": [
    {
     "data": {
      "text/plain": [
       "Index(['TCCCATGAGTCATGGG-0', 'TTGATGGAGAAACTCA-0', 'ATCATTCCACCATATG-0',\n",
       "       'TCTATACCAGCTATTG-0', 'GGGCCATCAAATGGAT-0', 'CAACGGCCACTCCGGA-0',\n",
       "       'ACGGTCGCATAATGCC-0', 'CACAGATGTCGCAACC-0', 'AAGACAAAGCCTCTCT-0',\n",
       "       'CGGGCATTCAAGGCTT-0',\n",
       "       ...\n",
       "       'TGCTCCATCAACGCTA-1', 'AGATCCATCGTGTGGC-1', 'TTGCATTTCCATCTCG-1',\n",
       "       'TCCATGCAGCCATTCA-1', 'TAAGCACAGCGAGTCA-1', 'GGAGGTAAGGTTCATC-1',\n",
       "       'GCCAGCATCAGCGCGT-1', 'TGCGGCAGTGATGAAT-1', 'TAGGTTGAGATGTTCC-1',\n",
       "       'CAAGAGGCAGTCGAGA-1'],\n",
       "      dtype='object', length=29463)"
      ]
     },
     "execution_count": 7,
     "metadata": {},
     "output_type": "execute_result"
    }
   ],
   "source": [
    "output.obs_names"
   ]
  },
  {
   "cell_type": "code",
   "execution_count": 8,
   "metadata": {},
   "outputs": [],
   "source": [
    "new_metadata = pd.DataFrame(new_metadata)\n",
    "new_metadata.index = new_metadata[\"Unnamed: 0\"]\n",
    "new_metadata[\"Tissue\"] = new_metadata[\"organ\"]  \n",
    "meta_SPL = new_metadata.groupby(new_metadata.Tissue)\n",
    "meta_SPL = meta_SPL.get_group(\"SPL\")\n",
    "meta_BM = new_metadata.groupby(new_metadata.Tissue)\n",
    "meta_BM = meta_BM.get_group(\"BM\")"
   ]
  },
  {
   "cell_type": "code",
   "execution_count": 9,
   "metadata": {},
   "outputs": [
    {
     "data": {
      "text/html": [
       "<div>\n",
       "<style scoped>\n",
       "    .dataframe tbody tr th:only-of-type {\n",
       "        vertical-align: middle;\n",
       "    }\n",
       "\n",
       "    .dataframe tbody tr th {\n",
       "        vertical-align: top;\n",
       "    }\n",
       "\n",
       "    .dataframe thead th {\n",
       "        text-align: right;\n",
       "    }\n",
       "</style>\n",
       "<table border=\"1\" class=\"dataframe\">\n",
       "  <thead>\n",
       "    <tr style=\"text-align: right;\">\n",
       "      <th></th>\n",
       "      <th>Unnamed: 0</th>\n",
       "      <th>donor</th>\n",
       "      <th>organ</th>\n",
       "      <th>kmeans2</th>\n",
       "      <th>leiden.1.2</th>\n",
       "      <th>Tissue</th>\n",
       "    </tr>\n",
       "    <tr>\n",
       "      <th>Unnamed: 0</th>\n",
       "      <th></th>\n",
       "      <th></th>\n",
       "      <th></th>\n",
       "      <th></th>\n",
       "      <th></th>\n",
       "      <th></th>\n",
       "    </tr>\n",
       "  </thead>\n",
       "  <tbody>\n",
       "    <tr>\n",
       "      <th>_04_AAACCCAAGAACGTGC.1.3</th>\n",
       "      <td>_04_AAACCCAAGAACGTGC.1.3</td>\n",
       "      <td>DOD4</td>\n",
       "      <td>SPL</td>\n",
       "      <td>1</td>\n",
       "      <td>0</td>\n",
       "      <td>SPL</td>\n",
       "    </tr>\n",
       "    <tr>\n",
       "      <th>_04_AAACCCAAGCGCTGCT.1.3</th>\n",
       "      <td>_04_AAACCCAAGCGCTGCT.1.3</td>\n",
       "      <td>DOD4</td>\n",
       "      <td>SPL</td>\n",
       "      <td>1</td>\n",
       "      <td>0</td>\n",
       "      <td>SPL</td>\n",
       "    </tr>\n",
       "    <tr>\n",
       "      <th>_04_AAACCCAAGGAACGTC.1.3</th>\n",
       "      <td>_04_AAACCCAAGGAACGTC.1.3</td>\n",
       "      <td>DOD4</td>\n",
       "      <td>SPL</td>\n",
       "      <td>1</td>\n",
       "      <td>11</td>\n",
       "      <td>SPL</td>\n",
       "    </tr>\n",
       "    <tr>\n",
       "      <th>_04_AAACCCACAAGCTCTA.1.3</th>\n",
       "      <td>_04_AAACCCACAAGCTCTA.1.3</td>\n",
       "      <td>DOD4</td>\n",
       "      <td>SPL</td>\n",
       "      <td>1</td>\n",
       "      <td>0</td>\n",
       "      <td>SPL</td>\n",
       "    </tr>\n",
       "    <tr>\n",
       "      <th>_04_AAACCCAGTGCAACAG.1.3</th>\n",
       "      <td>_04_AAACCCAGTGCAACAG.1.3</td>\n",
       "      <td>DOD4</td>\n",
       "      <td>SPL</td>\n",
       "      <td>1</td>\n",
       "      <td>0</td>\n",
       "      <td>SPL</td>\n",
       "    </tr>\n",
       "    <tr>\n",
       "      <th>...</th>\n",
       "      <td>...</td>\n",
       "      <td>...</td>\n",
       "      <td>...</td>\n",
       "      <td>...</td>\n",
       "      <td>...</td>\n",
       "      <td>...</td>\n",
       "    </tr>\n",
       "    <tr>\n",
       "      <th>_04_TTTGTTGGTAAGGCTG.1.3</th>\n",
       "      <td>_04_TTTGTTGGTAAGGCTG.1.3</td>\n",
       "      <td>DOD4</td>\n",
       "      <td>SPL</td>\n",
       "      <td>1</td>\n",
       "      <td>0</td>\n",
       "      <td>SPL</td>\n",
       "    </tr>\n",
       "    <tr>\n",
       "      <th>_04_TTTGTTGGTATGTGTC.1.3</th>\n",
       "      <td>_04_TTTGTTGGTATGTGTC.1.3</td>\n",
       "      <td>DOD4</td>\n",
       "      <td>SPL</td>\n",
       "      <td>1</td>\n",
       "      <td>11</td>\n",
       "      <td>SPL</td>\n",
       "    </tr>\n",
       "    <tr>\n",
       "      <th>_04_TTTGTTGGTCCTGTTC.1.3</th>\n",
       "      <td>_04_TTTGTTGGTCCTGTTC.1.3</td>\n",
       "      <td>DOD4</td>\n",
       "      <td>SPL</td>\n",
       "      <td>1</td>\n",
       "      <td>0</td>\n",
       "      <td>SPL</td>\n",
       "    </tr>\n",
       "    <tr>\n",
       "      <th>_04_TTTGTTGGTGACACGA.1.3</th>\n",
       "      <td>_04_TTTGTTGGTGACACGA.1.3</td>\n",
       "      <td>DOD4</td>\n",
       "      <td>SPL</td>\n",
       "      <td>1</td>\n",
       "      <td>4</td>\n",
       "      <td>SPL</td>\n",
       "    </tr>\n",
       "    <tr>\n",
       "      <th>_04_TTTGTTGGTGCATGAG.1.3</th>\n",
       "      <td>_04_TTTGTTGGTGCATGAG.1.3</td>\n",
       "      <td>DOD4</td>\n",
       "      <td>SPL</td>\n",
       "      <td>1</td>\n",
       "      <td>11</td>\n",
       "      <td>SPL</td>\n",
       "    </tr>\n",
       "  </tbody>\n",
       "</table>\n",
       "<p>5393 rows × 6 columns</p>\n",
       "</div>"
      ],
      "text/plain": [
       "                                        Unnamed: 0 donor organ  kmeans2  \\\n",
       "Unnamed: 0                                                                \n",
       "_04_AAACCCAAGAACGTGC.1.3  _04_AAACCCAAGAACGTGC.1.3  DOD4   SPL        1   \n",
       "_04_AAACCCAAGCGCTGCT.1.3  _04_AAACCCAAGCGCTGCT.1.3  DOD4   SPL        1   \n",
       "_04_AAACCCAAGGAACGTC.1.3  _04_AAACCCAAGGAACGTC.1.3  DOD4   SPL        1   \n",
       "_04_AAACCCACAAGCTCTA.1.3  _04_AAACCCACAAGCTCTA.1.3  DOD4   SPL        1   \n",
       "_04_AAACCCAGTGCAACAG.1.3  _04_AAACCCAGTGCAACAG.1.3  DOD4   SPL        1   \n",
       "...                                            ...   ...   ...      ...   \n",
       "_04_TTTGTTGGTAAGGCTG.1.3  _04_TTTGTTGGTAAGGCTG.1.3  DOD4   SPL        1   \n",
       "_04_TTTGTTGGTATGTGTC.1.3  _04_TTTGTTGGTATGTGTC.1.3  DOD4   SPL        1   \n",
       "_04_TTTGTTGGTCCTGTTC.1.3  _04_TTTGTTGGTCCTGTTC.1.3  DOD4   SPL        1   \n",
       "_04_TTTGTTGGTGACACGA.1.3  _04_TTTGTTGGTGACACGA.1.3  DOD4   SPL        1   \n",
       "_04_TTTGTTGGTGCATGAG.1.3  _04_TTTGTTGGTGCATGAG.1.3  DOD4   SPL        1   \n",
       "\n",
       "                          leiden.1.2 Tissue  \n",
       "Unnamed: 0                                   \n",
       "_04_AAACCCAAGAACGTGC.1.3           0    SPL  \n",
       "_04_AAACCCAAGCGCTGCT.1.3           0    SPL  \n",
       "_04_AAACCCAAGGAACGTC.1.3          11    SPL  \n",
       "_04_AAACCCACAAGCTCTA.1.3           0    SPL  \n",
       "_04_AAACCCAGTGCAACAG.1.3           0    SPL  \n",
       "...                              ...    ...  \n",
       "_04_TTTGTTGGTAAGGCTG.1.3           0    SPL  \n",
       "_04_TTTGTTGGTATGTGTC.1.3          11    SPL  \n",
       "_04_TTTGTTGGTCCTGTTC.1.3           0    SPL  \n",
       "_04_TTTGTTGGTGACACGA.1.3           4    SPL  \n",
       "_04_TTTGTTGGTGCATGAG.1.3          11    SPL  \n",
       "\n",
       "[5393 rows x 6 columns]"
      ]
     },
     "execution_count": 9,
     "metadata": {},
     "output_type": "execute_result"
    }
   ],
   "source": [
    "meta_SPL"
   ]
  },
  {
   "cell_type": "code",
   "execution_count": 10,
   "metadata": {},
   "outputs": [
    {
     "data": {
      "text/html": [
       "<div>\n",
       "<style scoped>\n",
       "    .dataframe tbody tr th:only-of-type {\n",
       "        vertical-align: middle;\n",
       "    }\n",
       "\n",
       "    .dataframe tbody tr th {\n",
       "        vertical-align: top;\n",
       "    }\n",
       "\n",
       "    .dataframe thead th {\n",
       "        text-align: right;\n",
       "    }\n",
       "</style>\n",
       "<table border=\"1\" class=\"dataframe\">\n",
       "  <thead>\n",
       "    <tr style=\"text-align: right;\">\n",
       "      <th></th>\n",
       "      <th>Unnamed: 0</th>\n",
       "      <th>donor</th>\n",
       "      <th>organ</th>\n",
       "      <th>kmeans2</th>\n",
       "      <th>leiden.1.2</th>\n",
       "      <th>Tissue</th>\n",
       "    </tr>\n",
       "    <tr>\n",
       "      <th>Unnamed: 0</th>\n",
       "      <th></th>\n",
       "      <th></th>\n",
       "      <th></th>\n",
       "      <th></th>\n",
       "      <th></th>\n",
       "      <th></th>\n",
       "    </tr>\n",
       "  </thead>\n",
       "  <tbody>\n",
       "    <tr>\n",
       "      <th>_04_AAACCCAAGATGTTCC.1.1</th>\n",
       "      <td>_04_AAACCCAAGATGTTCC.1.1</td>\n",
       "      <td>DOD4</td>\n",
       "      <td>BM</td>\n",
       "      <td>0</td>\n",
       "      <td>5</td>\n",
       "      <td>BM</td>\n",
       "    </tr>\n",
       "    <tr>\n",
       "      <th>_04_AAACCCACAATACAGA.1.1</th>\n",
       "      <td>_04_AAACCCACAATACAGA.1.1</td>\n",
       "      <td>DOD4</td>\n",
       "      <td>BM</td>\n",
       "      <td>0</td>\n",
       "      <td>5</td>\n",
       "      <td>BM</td>\n",
       "    </tr>\n",
       "    <tr>\n",
       "      <th>_04_AAACCCAGTAAGATAC.1.1</th>\n",
       "      <td>_04_AAACCCAGTAAGATAC.1.1</td>\n",
       "      <td>DOD4</td>\n",
       "      <td>BM</td>\n",
       "      <td>0</td>\n",
       "      <td>4</td>\n",
       "      <td>BM</td>\n",
       "    </tr>\n",
       "    <tr>\n",
       "      <th>_04_AAACCCATCCTAAACG.1.1</th>\n",
       "      <td>_04_AAACCCATCCTAAACG.1.1</td>\n",
       "      <td>DOD4</td>\n",
       "      <td>BM</td>\n",
       "      <td>0</td>\n",
       "      <td>5</td>\n",
       "      <td>BM</td>\n",
       "    </tr>\n",
       "    <tr>\n",
       "      <th>_04_AAACCCATCGTTACCC.1.1</th>\n",
       "      <td>_04_AAACCCATCGTTACCC.1.1</td>\n",
       "      <td>DOD4</td>\n",
       "      <td>BM</td>\n",
       "      <td>0</td>\n",
       "      <td>5</td>\n",
       "      <td>BM</td>\n",
       "    </tr>\n",
       "    <tr>\n",
       "      <th>...</th>\n",
       "      <td>...</td>\n",
       "      <td>...</td>\n",
       "      <td>...</td>\n",
       "      <td>...</td>\n",
       "      <td>...</td>\n",
       "      <td>...</td>\n",
       "    </tr>\n",
       "    <tr>\n",
       "      <th>_04_TTTGGTTGTACTCCCT.1.1</th>\n",
       "      <td>_04_TTTGGTTGTACTCCCT.1.1</td>\n",
       "      <td>DOD4</td>\n",
       "      <td>BM</td>\n",
       "      <td>0</td>\n",
       "      <td>5</td>\n",
       "      <td>BM</td>\n",
       "    </tr>\n",
       "    <tr>\n",
       "      <th>_04_TTTGGTTGTATATGGA.1.1</th>\n",
       "      <td>_04_TTTGGTTGTATATGGA.1.1</td>\n",
       "      <td>DOD4</td>\n",
       "      <td>BM</td>\n",
       "      <td>0</td>\n",
       "      <td>4</td>\n",
       "      <td>BM</td>\n",
       "    </tr>\n",
       "    <tr>\n",
       "      <th>_04_TTTGGTTGTTGACTGT.1.1</th>\n",
       "      <td>_04_TTTGGTTGTTGACTGT.1.1</td>\n",
       "      <td>DOD4</td>\n",
       "      <td>BM</td>\n",
       "      <td>0</td>\n",
       "      <td>4</td>\n",
       "      <td>BM</td>\n",
       "    </tr>\n",
       "    <tr>\n",
       "      <th>_04_TTTGGTTTCCAAATGC.1.1</th>\n",
       "      <td>_04_TTTGGTTTCCAAATGC.1.1</td>\n",
       "      <td>DOD4</td>\n",
       "      <td>BM</td>\n",
       "      <td>0</td>\n",
       "      <td>4</td>\n",
       "      <td>BM</td>\n",
       "    </tr>\n",
       "    <tr>\n",
       "      <th>_04_TTTGTTGTCTGTTCAT.1.1</th>\n",
       "      <td>_04_TTTGTTGTCTGTTCAT.1.1</td>\n",
       "      <td>DOD4</td>\n",
       "      <td>BM</td>\n",
       "      <td>0</td>\n",
       "      <td>5</td>\n",
       "      <td>BM</td>\n",
       "    </tr>\n",
       "  </tbody>\n",
       "</table>\n",
       "<p>3986 rows × 6 columns</p>\n",
       "</div>"
      ],
      "text/plain": [
       "                                        Unnamed: 0 donor organ  kmeans2  \\\n",
       "Unnamed: 0                                                                \n",
       "_04_AAACCCAAGATGTTCC.1.1  _04_AAACCCAAGATGTTCC.1.1  DOD4    BM        0   \n",
       "_04_AAACCCACAATACAGA.1.1  _04_AAACCCACAATACAGA.1.1  DOD4    BM        0   \n",
       "_04_AAACCCAGTAAGATAC.1.1  _04_AAACCCAGTAAGATAC.1.1  DOD4    BM        0   \n",
       "_04_AAACCCATCCTAAACG.1.1  _04_AAACCCATCCTAAACG.1.1  DOD4    BM        0   \n",
       "_04_AAACCCATCGTTACCC.1.1  _04_AAACCCATCGTTACCC.1.1  DOD4    BM        0   \n",
       "...                                            ...   ...   ...      ...   \n",
       "_04_TTTGGTTGTACTCCCT.1.1  _04_TTTGGTTGTACTCCCT.1.1  DOD4    BM        0   \n",
       "_04_TTTGGTTGTATATGGA.1.1  _04_TTTGGTTGTATATGGA.1.1  DOD4    BM        0   \n",
       "_04_TTTGGTTGTTGACTGT.1.1  _04_TTTGGTTGTTGACTGT.1.1  DOD4    BM        0   \n",
       "_04_TTTGGTTTCCAAATGC.1.1  _04_TTTGGTTTCCAAATGC.1.1  DOD4    BM        0   \n",
       "_04_TTTGTTGTCTGTTCAT.1.1  _04_TTTGTTGTCTGTTCAT.1.1  DOD4    BM        0   \n",
       "\n",
       "                          leiden.1.2 Tissue  \n",
       "Unnamed: 0                                   \n",
       "_04_AAACCCAAGATGTTCC.1.1           5     BM  \n",
       "_04_AAACCCACAATACAGA.1.1           5     BM  \n",
       "_04_AAACCCAGTAAGATAC.1.1           4     BM  \n",
       "_04_AAACCCATCCTAAACG.1.1           5     BM  \n",
       "_04_AAACCCATCGTTACCC.1.1           5     BM  \n",
       "...                              ...    ...  \n",
       "_04_TTTGGTTGTACTCCCT.1.1           5     BM  \n",
       "_04_TTTGGTTGTATATGGA.1.1           4     BM  \n",
       "_04_TTTGGTTGTTGACTGT.1.1           4     BM  \n",
       "_04_TTTGGTTTCCAAATGC.1.1           4     BM  \n",
       "_04_TTTGTTGTCTGTTCAT.1.1           5     BM  \n",
       "\n",
       "[3986 rows x 6 columns]"
      ]
     },
     "execution_count": 10,
     "metadata": {},
     "output_type": "execute_result"
    }
   ],
   "source": [
    "meta_BM"
   ]
  },
  {
   "cell_type": "code",
   "execution_count": 11,
   "metadata": {},
   "outputs": [],
   "source": [
    "cells1 = pd.Index(meta_BM[\"Unnamed: 0\"]).astype(str)\n",
    "cells2 = pd.Index(meta_SPL[\"Unnamed: 0\"]).astype(str)"
   ]
  },
  {
   "cell_type": "code",
   "execution_count": 12,
   "metadata": {},
   "outputs": [],
   "source": [
    "#for BM\n",
    "new1 =[]\n",
    "for cell in cells1:\n",
    "    cell = cell.replace('_04_',\"\")\n",
    "    cell = cell.replace('.1',\"\")\n",
    "    new1.append(cell)\n",
    "    \n",
    "#new1 = pd.Index([x[:-2] for x in new1])\n",
    "new1 = pd.Index([x+\"-0\" for x in new1])"
   ]
  },
  {
   "cell_type": "code",
   "execution_count": 13,
   "metadata": {},
   "outputs": [],
   "source": [
    "#for SPL\n",
    "new2 =[]\n",
    "for cell in cells2:\n",
    "    cell = cell.replace('_04_',\"\")\n",
    "    cell = cell.replace('.1',\"\")\n",
    "    new2.append(cell)\n",
    "\n",
    "new2 = pd.Index([x[:-2] for x in new2])\n",
    "new2 = pd.Index([x+\"-1\" for x in new2])"
   ]
  },
  {
   "cell_type": "code",
   "execution_count": 14,
   "metadata": {},
   "outputs": [],
   "source": [
    "meta_BM.index = new1\n",
    "meta_SPL.index= new2"
   ]
  },
  {
   "cell_type": "code",
   "execution_count": 15,
   "metadata": {},
   "outputs": [],
   "source": [
    "meta_BM_SPL= pd.concat([meta_BM, meta_SPL], join=\"inner\")"
   ]
  },
  {
   "cell_type": "code",
   "execution_count": 16,
   "metadata": {},
   "outputs": [
    {
     "name": "stdout",
     "output_type": "stream",
     "text": [
      "9216\n"
     ]
    }
   ],
   "source": [
    "# get the overlapping genes between mRNA and AB\n",
    "OL1 = np.intersect1d(meta_BM_SPL.index, output.obs_names)\n",
    "print(len(OL1))"
   ]
  },
  {
   "cell_type": "code",
   "execution_count": 17,
   "metadata": {},
   "outputs": [],
   "source": [
    "output = output[OL1,:].copy()"
   ]
  },
  {
   "cell_type": "code",
   "execution_count": 18,
   "metadata": {},
   "outputs": [],
   "source": [
    "meta_BM_SPL = meta_BM_SPL.loc[OL1,:]"
   ]
  },
  {
   "cell_type": "code",
   "execution_count": 19,
   "metadata": {},
   "outputs": [
    {
     "data": {
      "text/html": [
       "<div>\n",
       "<style scoped>\n",
       "    .dataframe tbody tr th:only-of-type {\n",
       "        vertical-align: middle;\n",
       "    }\n",
       "\n",
       "    .dataframe tbody tr th {\n",
       "        vertical-align: top;\n",
       "    }\n",
       "\n",
       "    .dataframe thead th {\n",
       "        text-align: right;\n",
       "    }\n",
       "</style>\n",
       "<table border=\"1\" class=\"dataframe\">\n",
       "  <thead>\n",
       "    <tr style=\"text-align: right;\">\n",
       "      <th></th>\n",
       "      <th>Tissue</th>\n",
       "      <th>batch</th>\n",
       "      <th>n_genes</th>\n",
       "      <th>n_counts</th>\n",
       "      <th>leiden</th>\n",
       "    </tr>\n",
       "  </thead>\n",
       "  <tbody>\n",
       "    <tr>\n",
       "      <th>AAACCCAAGAACGTGC-1</th>\n",
       "      <td>SPL</td>\n",
       "      <td>1</td>\n",
       "      <td>55</td>\n",
       "      <td>461.0</td>\n",
       "      <td>0</td>\n",
       "    </tr>\n",
       "    <tr>\n",
       "      <th>AAACCCAAGATGTTCC-0</th>\n",
       "      <td>BM</td>\n",
       "      <td>0</td>\n",
       "      <td>48</td>\n",
       "      <td>191.0</td>\n",
       "      <td>7</td>\n",
       "    </tr>\n",
       "    <tr>\n",
       "      <th>AAACCCAAGCGCTGCT-1</th>\n",
       "      <td>SPL</td>\n",
       "      <td>1</td>\n",
       "      <td>64</td>\n",
       "      <td>359.0</td>\n",
       "      <td>0</td>\n",
       "    </tr>\n",
       "    <tr>\n",
       "      <th>AAACCCAAGGAACGTC-1</th>\n",
       "      <td>SPL</td>\n",
       "      <td>1</td>\n",
       "      <td>66</td>\n",
       "      <td>505.0</td>\n",
       "      <td>2</td>\n",
       "    </tr>\n",
       "    <tr>\n",
       "      <th>AAACCCACAAGCTCTA-1</th>\n",
       "      <td>SPL</td>\n",
       "      <td>1</td>\n",
       "      <td>65</td>\n",
       "      <td>437.0</td>\n",
       "      <td>2</td>\n",
       "    </tr>\n",
       "    <tr>\n",
       "      <th>...</th>\n",
       "      <td>...</td>\n",
       "      <td>...</td>\n",
       "      <td>...</td>\n",
       "      <td>...</td>\n",
       "      <td>...</td>\n",
       "    </tr>\n",
       "    <tr>\n",
       "      <th>TTTGTTGGTATGTGTC-1</th>\n",
       "      <td>SPL</td>\n",
       "      <td>1</td>\n",
       "      <td>59</td>\n",
       "      <td>418.0</td>\n",
       "      <td>0</td>\n",
       "    </tr>\n",
       "    <tr>\n",
       "      <th>TTTGTTGGTCCTGTTC-1</th>\n",
       "      <td>SPL</td>\n",
       "      <td>1</td>\n",
       "      <td>63</td>\n",
       "      <td>370.0</td>\n",
       "      <td>0</td>\n",
       "    </tr>\n",
       "    <tr>\n",
       "      <th>TTTGTTGGTGACACGA-1</th>\n",
       "      <td>SPL</td>\n",
       "      <td>1</td>\n",
       "      <td>66</td>\n",
       "      <td>373.0</td>\n",
       "      <td>0</td>\n",
       "    </tr>\n",
       "    <tr>\n",
       "      <th>TTTGTTGGTGCATGAG-1</th>\n",
       "      <td>SPL</td>\n",
       "      <td>1</td>\n",
       "      <td>64</td>\n",
       "      <td>432.0</td>\n",
       "      <td>0</td>\n",
       "    </tr>\n",
       "    <tr>\n",
       "      <th>TTTGTTGTCTGTTCAT-0</th>\n",
       "      <td>BM</td>\n",
       "      <td>0</td>\n",
       "      <td>59</td>\n",
       "      <td>296.0</td>\n",
       "      <td>1</td>\n",
       "    </tr>\n",
       "  </tbody>\n",
       "</table>\n",
       "<p>9216 rows × 5 columns</p>\n",
       "</div>"
      ],
      "text/plain": [
       "                   Tissue batch  n_genes  n_counts leiden\n",
       "AAACCCAAGAACGTGC-1    SPL     1       55     461.0      0\n",
       "AAACCCAAGATGTTCC-0     BM     0       48     191.0      7\n",
       "AAACCCAAGCGCTGCT-1    SPL     1       64     359.0      0\n",
       "AAACCCAAGGAACGTC-1    SPL     1       66     505.0      2\n",
       "AAACCCACAAGCTCTA-1    SPL     1       65     437.0      2\n",
       "...                   ...   ...      ...       ...    ...\n",
       "TTTGTTGGTATGTGTC-1    SPL     1       59     418.0      0\n",
       "TTTGTTGGTCCTGTTC-1    SPL     1       63     370.0      0\n",
       "TTTGTTGGTGACACGA-1    SPL     1       66     373.0      0\n",
       "TTTGTTGGTGCATGAG-1    SPL     1       64     432.0      0\n",
       "TTTGTTGTCTGTTCAT-0     BM     0       59     296.0      1\n",
       "\n",
       "[9216 rows x 5 columns]"
      ]
     },
     "execution_count": 19,
     "metadata": {},
     "output_type": "execute_result"
    }
   ],
   "source": [
    "output.obs"
   ]
  },
  {
   "cell_type": "code",
   "execution_count": 20,
   "metadata": {},
   "outputs": [],
   "source": [
    "output.obs[\"donor\"]=meta_BM_SPL[[\"donor\"]]\n",
    "output.obs[\"kmeans2\"]=meta_BM_SPL[[\"kmeans2\"]]"
   ]
  },
  {
   "cell_type": "code",
   "execution_count": 21,
   "metadata": {},
   "outputs": [
    {
     "data": {
      "text/plain": [
       "AnnData object with n_obs × n_vars = 9216 × 198\n",
       "    obs: 'Tissue', 'batch', 'n_genes', 'n_counts', 'leiden', 'donor', 'kmeans2'\n",
       "    var: 'n_cells'"
      ]
     },
     "execution_count": 21,
     "metadata": {},
     "output_type": "execute_result"
    }
   ],
   "source": [
    "output"
   ]
  },
  {
   "cell_type": "code",
   "execution_count": 22,
   "metadata": {},
   "outputs": [
    {
     "data": {
      "text/html": [
       "<div>\n",
       "<style scoped>\n",
       "    .dataframe tbody tr th:only-of-type {\n",
       "        vertical-align: middle;\n",
       "    }\n",
       "\n",
       "    .dataframe tbody tr th {\n",
       "        vertical-align: top;\n",
       "    }\n",
       "\n",
       "    .dataframe thead th {\n",
       "        text-align: right;\n",
       "    }\n",
       "</style>\n",
       "<table border=\"1\" class=\"dataframe\">\n",
       "  <thead>\n",
       "    <tr style=\"text-align: right;\">\n",
       "      <th></th>\n",
       "      <th>Tissue</th>\n",
       "      <th>batch</th>\n",
       "      <th>n_genes</th>\n",
       "      <th>n_counts</th>\n",
       "      <th>leiden</th>\n",
       "      <th>donor</th>\n",
       "      <th>kmeans2</th>\n",
       "    </tr>\n",
       "  </thead>\n",
       "  <tbody>\n",
       "    <tr>\n",
       "      <th>AAACCCAAGAACGTGC-1</th>\n",
       "      <td>SPL</td>\n",
       "      <td>1</td>\n",
       "      <td>55</td>\n",
       "      <td>461.0</td>\n",
       "      <td>0</td>\n",
       "      <td>DOD4</td>\n",
       "      <td>1</td>\n",
       "    </tr>\n",
       "    <tr>\n",
       "      <th>AAACCCAAGATGTTCC-0</th>\n",
       "      <td>BM</td>\n",
       "      <td>0</td>\n",
       "      <td>48</td>\n",
       "      <td>191.0</td>\n",
       "      <td>7</td>\n",
       "      <td>DOD4</td>\n",
       "      <td>0</td>\n",
       "    </tr>\n",
       "    <tr>\n",
       "      <th>AAACCCAAGCGCTGCT-1</th>\n",
       "      <td>SPL</td>\n",
       "      <td>1</td>\n",
       "      <td>64</td>\n",
       "      <td>359.0</td>\n",
       "      <td>0</td>\n",
       "      <td>DOD4</td>\n",
       "      <td>1</td>\n",
       "    </tr>\n",
       "    <tr>\n",
       "      <th>AAACCCAAGGAACGTC-1</th>\n",
       "      <td>SPL</td>\n",
       "      <td>1</td>\n",
       "      <td>66</td>\n",
       "      <td>505.0</td>\n",
       "      <td>2</td>\n",
       "      <td>DOD4</td>\n",
       "      <td>1</td>\n",
       "    </tr>\n",
       "    <tr>\n",
       "      <th>AAACCCACAAGCTCTA-1</th>\n",
       "      <td>SPL</td>\n",
       "      <td>1</td>\n",
       "      <td>65</td>\n",
       "      <td>437.0</td>\n",
       "      <td>2</td>\n",
       "      <td>DOD4</td>\n",
       "      <td>1</td>\n",
       "    </tr>\n",
       "    <tr>\n",
       "      <th>...</th>\n",
       "      <td>...</td>\n",
       "      <td>...</td>\n",
       "      <td>...</td>\n",
       "      <td>...</td>\n",
       "      <td>...</td>\n",
       "      <td>...</td>\n",
       "      <td>...</td>\n",
       "    </tr>\n",
       "    <tr>\n",
       "      <th>TTTGTTGGTATGTGTC-1</th>\n",
       "      <td>SPL</td>\n",
       "      <td>1</td>\n",
       "      <td>59</td>\n",
       "      <td>418.0</td>\n",
       "      <td>0</td>\n",
       "      <td>DOD4</td>\n",
       "      <td>1</td>\n",
       "    </tr>\n",
       "    <tr>\n",
       "      <th>TTTGTTGGTCCTGTTC-1</th>\n",
       "      <td>SPL</td>\n",
       "      <td>1</td>\n",
       "      <td>63</td>\n",
       "      <td>370.0</td>\n",
       "      <td>0</td>\n",
       "      <td>DOD4</td>\n",
       "      <td>1</td>\n",
       "    </tr>\n",
       "    <tr>\n",
       "      <th>TTTGTTGGTGACACGA-1</th>\n",
       "      <td>SPL</td>\n",
       "      <td>1</td>\n",
       "      <td>66</td>\n",
       "      <td>373.0</td>\n",
       "      <td>0</td>\n",
       "      <td>DOD4</td>\n",
       "      <td>1</td>\n",
       "    </tr>\n",
       "    <tr>\n",
       "      <th>TTTGTTGGTGCATGAG-1</th>\n",
       "      <td>SPL</td>\n",
       "      <td>1</td>\n",
       "      <td>64</td>\n",
       "      <td>432.0</td>\n",
       "      <td>0</td>\n",
       "      <td>DOD4</td>\n",
       "      <td>1</td>\n",
       "    </tr>\n",
       "    <tr>\n",
       "      <th>TTTGTTGTCTGTTCAT-0</th>\n",
       "      <td>BM</td>\n",
       "      <td>0</td>\n",
       "      <td>59</td>\n",
       "      <td>296.0</td>\n",
       "      <td>1</td>\n",
       "      <td>DOD4</td>\n",
       "      <td>0</td>\n",
       "    </tr>\n",
       "  </tbody>\n",
       "</table>\n",
       "<p>9216 rows × 7 columns</p>\n",
       "</div>"
      ],
      "text/plain": [
       "                   Tissue batch  n_genes  n_counts leiden donor  kmeans2\n",
       "AAACCCAAGAACGTGC-1    SPL     1       55     461.0      0  DOD4        1\n",
       "AAACCCAAGATGTTCC-0     BM     0       48     191.0      7  DOD4        0\n",
       "AAACCCAAGCGCTGCT-1    SPL     1       64     359.0      0  DOD4        1\n",
       "AAACCCAAGGAACGTC-1    SPL     1       66     505.0      2  DOD4        1\n",
       "AAACCCACAAGCTCTA-1    SPL     1       65     437.0      2  DOD4        1\n",
       "...                   ...   ...      ...       ...    ...   ...      ...\n",
       "TTTGTTGGTATGTGTC-1    SPL     1       59     418.0      0  DOD4        1\n",
       "TTTGTTGGTCCTGTTC-1    SPL     1       63     370.0      0  DOD4        1\n",
       "TTTGTTGGTGACACGA-1    SPL     1       66     373.0      0  DOD4        1\n",
       "TTTGTTGGTGCATGAG-1    SPL     1       64     432.0      0  DOD4        1\n",
       "TTTGTTGTCTGTTCAT-0     BM     0       59     296.0      1  DOD4        0\n",
       "\n",
       "[9216 rows x 7 columns]"
      ]
     },
     "execution_count": 22,
     "metadata": {},
     "output_type": "execute_result"
    }
   ],
   "source": [
    "output.obs"
   ]
  },
  {
   "cell_type": "code",
   "execution_count": 23,
   "metadata": {},
   "outputs": [],
   "source": [
    "output.obs[\"kmeans2\"] = output.obs[\"kmeans2\"].astype(\"category\")"
   ]
  },
  {
   "cell_type": "code",
   "execution_count": 24,
   "metadata": {},
   "outputs": [
    {
     "data": {
      "text/plain": [
       "AAACCCAAGAACGTGC-1    1\n",
       "AAACCCAAGATGTTCC-0    0\n",
       "AAACCCAAGCGCTGCT-1    1\n",
       "AAACCCAAGGAACGTC-1    1\n",
       "AAACCCACAAGCTCTA-1    1\n",
       "                     ..\n",
       "TTTGTTGGTATGTGTC-1    1\n",
       "TTTGTTGGTCCTGTTC-1    1\n",
       "TTTGTTGGTGACACGA-1    1\n",
       "TTTGTTGGTGCATGAG-1    1\n",
       "TTTGTTGTCTGTTCAT-0    0\n",
       "Name: kmeans2, Length: 9216, dtype: category\n",
       "Categories (2, int64): [0, 1]"
      ]
     },
     "execution_count": 24,
     "metadata": {},
     "output_type": "execute_result"
    }
   ],
   "source": [
    "output.obs[\"kmeans2\"]"
   ]
  },
  {
   "cell_type": "code",
   "execution_count": 25,
   "metadata": {},
   "outputs": [
    {
     "data": {
      "text/plain": [
       "[0, 1]"
      ]
     },
     "execution_count": 25,
     "metadata": {},
     "output_type": "execute_result"
    }
   ],
   "source": [
    "output.obs[\"kmeans2\"].cat.categories.tolist()"
   ]
  },
  {
   "cell_type": "code",
   "execution_count": 26,
   "metadata": {},
   "outputs": [],
   "source": [
    "def save_dex_results(adata, key, grouping, basename, outpath, prefix):\n",
    "    \n",
    "    statcols =['antibody_name', 'scores', 'logfoldchanges','pvals', 'pvals_adj' ]\n",
    "    \n",
    "    groups = adata.obs[grouping].unique() \n",
    "    groups=groups.astype(\"str\")\n",
    "    n = adata.shape[1]\n",
    "    \n",
    "    marker_antibody_full = {}   \n",
    "    for g in groups:\n",
    "        marker_antibody = np.reshape( np.array(adata.uns[key]['names'][g]), (n,1) )\n",
    "       \n",
    "        marker_antibody_full.setdefault(g, None )\n",
    "        marker_antibody_full[g] = np.reshape( np.array(adata.uns[key]['names'][g]), (n,1) )\n",
    "        marker_antibody_full[g] = np.concatenate( [marker_antibody_full[g], \n",
    "                                                   np.reshape(adata.uns[key]['scores'][g], (n,1) ) ], axis=1)\n",
    "        marker_antibody_full[g] = np.concatenate( [marker_antibody_full[g], \n",
    "                                                   np.reshape(adata.uns[key]['logfoldchanges'][g], (n,1) ) ], axis=1)\n",
    "        marker_antibody_full[g] = np.concatenate( [marker_antibody_full[g], \n",
    "                                                   np.reshape(adata.uns[key]['pvals'][g], (n,1) ) ], axis=1)\n",
    "        marker_antibody_full[g] = np.concatenate( [marker_antibody_full[g], \n",
    "                                                   np.reshape(adata.uns[key]['pvals_adj'][g], (n,1) ) ], axis=1)   \n",
    "    for c in marker_antibody_full.keys():\n",
    "        temp = pd.DataFrame(marker_antibody_full[c], columns=statcols)   \n",
    "        temp.to_csv( os.path.join(outpath,  \n",
    "                    prefix+basename+key+'_group_'+c+'.txt'), \n",
    "                    index=None, sep='\\t')\n",
    "                    \n",
    "                   \n",
    "def export_top_n_diff_antibody(adata, key, groups, n, basename, outpath, prefix):\n",
    "    groups=groups.astype(\"str\") \n",
    "    marker_antibody = np.reshape(np.array(adata.uns[key]['names'][groups[0]][:n]  ), (n,1) )\n",
    "    for c in groups[1:]:\n",
    "        marker_antibody = np.concatenate( [marker_antibody, np.reshape(adata.uns[key]['names'][c][:n], (n,1) ) ], axis=1)\n",
    "    markers_frame = pd.DataFrame(marker_antibody, columns=groups )\n",
    "    markers_frame.to_csv(os.path.join(outpath,\n",
    "                         prefix+basename+key+'_top'+str(n)+'_antibody_markers.txt'), \n",
    "                         index=None, sep='\\t')\n",
    "                         \n",
    "def bundled_DEx_shenanigans(adata, group, key, bname, outpath, prefix, n_top_markers=198):\n",
    "        \n",
    "    sc.tl.rank_genes_groups(adata, \n",
    "                        groupby=group,\n",
    "                        key_added=key,\n",
    "                        method='wilcoxon', \n",
    "                        tie_correct=True,     \n",
    "                        use_raw=False)\n",
    "    \n",
    "    save_dex_results(adata, key, group, bname, outpath, prefix)\n",
    "    targets = adata.obs[group].unique()\n",
    "    export_top_n_diff_antibody(adata, key, targets, n_top_markers, bname, outpath, prefix)\n",
    "    \n",
    "    "
   ]
  },
  {
   "cell_type": "code",
   "execution_count": 27,
   "metadata": {
    "scrolled": true
   },
   "outputs": [
    {
     "name": "stdout",
     "output_type": "stream",
     "text": [
      "ranking genes\n"
     ]
    },
    {
     "name": "stderr",
     "output_type": "stream",
     "text": [
      "... storing 'donor' as categorical\n"
     ]
    },
    {
     "name": "stdout",
     "output_type": "stream",
     "text": [
      "    finished: added to `.uns['-HSCMPP_DEP']`\n",
      "    'names', sorted np.recarray to be indexed by group ids\n",
      "    'scores', sorted np.recarray to be indexed by group ids\n",
      "    'logfoldchanges', sorted np.recarray to be indexed by group ids\n",
      "    'pvals', sorted np.recarray to be indexed by group ids\n",
      "    'pvals_adj', sorted np.recarray to be indexed by group ids (0:00:00)\n"
     ]
    }
   ],
   "source": [
    "bundled_DEx_shenanigans(adata=output,\n",
    "                        group='kmeans2',\n",
    "                        key='-HSCMPP_DEP',  \n",
    "                        bname='_BM-SPL',\n",
    "                        outpath=\"./DEG_part4B/\",\n",
    "                        prefix=prefix)"
   ]
  },
  {
   "cell_type": "code",
   "execution_count": 29,
   "metadata": {},
   "outputs": [
    {
     "name": "stdout",
     "output_type": "stream",
     "text": [
      "ranking genes\n",
      "    finished: added to `.uns['rank_genes_groups']`\n",
      "    'names', sorted np.recarray to be indexed by group ids\n",
      "    'scores', sorted np.recarray to be indexed by group ids\n",
      "    'logfoldchanges', sorted np.recarray to be indexed by group ids\n",
      "    'pvals', sorted np.recarray to be indexed by group ids\n",
      "    'pvals_adj', sorted np.recarray to be indexed by group ids (0:00:00)\n"
     ]
    }
   ],
   "source": [
    "# TEST\n",
    "sc.tl.rank_genes_groups(output, 'kmeans2', method='wilcoxon')\n",
    "result =output.uns['rank_genes_groups']\n",
    "groups = result['names'].dtype.names\n",
    "df=pd.DataFrame(\n",
    "    {group + '_' + key[:1]: result[key][group]\n",
    "    for group in groups for key in ['names', 'scores', 'logfoldchanges','pvals', 'pvals_adj']})"
   ]
  },
  {
   "cell_type": "code",
   "execution_count": 30,
   "metadata": {},
   "outputs": [
    {
     "data": {
      "text/html": [
       "<div>\n",
       "<style scoped>\n",
       "    .dataframe tbody tr th:only-of-type {\n",
       "        vertical-align: middle;\n",
       "    }\n",
       "\n",
       "    .dataframe tbody tr th {\n",
       "        vertical-align: top;\n",
       "    }\n",
       "\n",
       "    .dataframe thead th {\n",
       "        text-align: right;\n",
       "    }\n",
       "</style>\n",
       "<table border=\"1\" class=\"dataframe\">\n",
       "  <thead>\n",
       "    <tr style=\"text-align: right;\">\n",
       "      <th></th>\n",
       "      <th>0_n</th>\n",
       "      <th>0_s</th>\n",
       "      <th>0_l</th>\n",
       "      <th>0_p</th>\n",
       "      <th>1_n</th>\n",
       "      <th>1_s</th>\n",
       "      <th>1_l</th>\n",
       "      <th>1_p</th>\n",
       "    </tr>\n",
       "  </thead>\n",
       "  <tbody>\n",
       "    <tr>\n",
       "      <th>0</th>\n",
       "      <td>CD158</td>\n",
       "      <td>21.789307</td>\n",
       "      <td>3.313308</td>\n",
       "      <td>5.802365e-104</td>\n",
       "      <td>CD107a</td>\n",
       "      <td>46.147831</td>\n",
       "      <td>7.126022</td>\n",
       "      <td>0.000000e+00</td>\n",
       "    </tr>\n",
       "    <tr>\n",
       "      <th>1</th>\n",
       "      <td>CD370</td>\n",
       "      <td>16.181637</td>\n",
       "      <td>1.248352</td>\n",
       "      <td>8.971264e-58</td>\n",
       "      <td>CD99</td>\n",
       "      <td>38.967236</td>\n",
       "      <td>7.026029</td>\n",
       "      <td>0.000000e+00</td>\n",
       "    </tr>\n",
       "    <tr>\n",
       "      <th>2</th>\n",
       "      <td>CD184</td>\n",
       "      <td>15.934348</td>\n",
       "      <td>1.520596</td>\n",
       "      <td>4.529217e-56</td>\n",
       "      <td>CD82</td>\n",
       "      <td>31.773813</td>\n",
       "      <td>6.722711</td>\n",
       "      <td>9.828994e-220</td>\n",
       "    </tr>\n",
       "    <tr>\n",
       "      <th>3</th>\n",
       "      <td>CD69</td>\n",
       "      <td>15.314118</td>\n",
       "      <td>1.583880</td>\n",
       "      <td>6.769438e-52</td>\n",
       "      <td>Folate</td>\n",
       "      <td>27.393200</td>\n",
       "      <td>3.032251</td>\n",
       "      <td>1.635984e-163</td>\n",
       "    </tr>\n",
       "    <tr>\n",
       "      <th>4</th>\n",
       "      <td>CD110</td>\n",
       "      <td>13.305926</td>\n",
       "      <td>1.085764</td>\n",
       "      <td>2.016085e-39</td>\n",
       "      <td>CD102</td>\n",
       "      <td>26.825644</td>\n",
       "      <td>6.100643</td>\n",
       "      <td>6.427472e-157</td>\n",
       "    </tr>\n",
       "    <tr>\n",
       "      <th>...</th>\n",
       "      <td>...</td>\n",
       "      <td>...</td>\n",
       "      <td>...</td>\n",
       "      <td>...</td>\n",
       "      <td>...</td>\n",
       "      <td>...</td>\n",
       "      <td>...</td>\n",
       "      <td>...</td>\n",
       "    </tr>\n",
       "    <tr>\n",
       "      <th>193</th>\n",
       "      <td>CD102</td>\n",
       "      <td>-26.825644</td>\n",
       "      <td>-6.100643</td>\n",
       "      <td>6.427472e-157</td>\n",
       "      <td>CD110</td>\n",
       "      <td>-13.305926</td>\n",
       "      <td>-1.085764</td>\n",
       "      <td>2.016085e-39</td>\n",
       "    </tr>\n",
       "    <tr>\n",
       "      <th>194</th>\n",
       "      <td>Folate</td>\n",
       "      <td>-27.393200</td>\n",
       "      <td>-3.032251</td>\n",
       "      <td>1.635984e-163</td>\n",
       "      <td>CD69</td>\n",
       "      <td>-15.314118</td>\n",
       "      <td>-1.583880</td>\n",
       "      <td>6.769438e-52</td>\n",
       "    </tr>\n",
       "    <tr>\n",
       "      <th>195</th>\n",
       "      <td>CD82</td>\n",
       "      <td>-31.773813</td>\n",
       "      <td>-6.722711</td>\n",
       "      <td>9.828994e-220</td>\n",
       "      <td>CD184</td>\n",
       "      <td>-15.934348</td>\n",
       "      <td>-1.520596</td>\n",
       "      <td>4.529217e-56</td>\n",
       "    </tr>\n",
       "    <tr>\n",
       "      <th>196</th>\n",
       "      <td>CD99</td>\n",
       "      <td>-38.967236</td>\n",
       "      <td>-7.026029</td>\n",
       "      <td>0.000000e+00</td>\n",
       "      <td>CD370</td>\n",
       "      <td>-16.181637</td>\n",
       "      <td>-1.248352</td>\n",
       "      <td>8.971264e-58</td>\n",
       "    </tr>\n",
       "    <tr>\n",
       "      <th>197</th>\n",
       "      <td>CD107a</td>\n",
       "      <td>-46.147831</td>\n",
       "      <td>-7.126022</td>\n",
       "      <td>0.000000e+00</td>\n",
       "      <td>CD158</td>\n",
       "      <td>-21.789307</td>\n",
       "      <td>-3.313308</td>\n",
       "      <td>5.802365e-104</td>\n",
       "    </tr>\n",
       "  </tbody>\n",
       "</table>\n",
       "<p>198 rows × 8 columns</p>\n",
       "</div>"
      ],
      "text/plain": [
       "        0_n        0_s       0_l            0_p     1_n        1_s       1_l  \\\n",
       "0     CD158  21.789307  3.313308  5.802365e-104  CD107a  46.147831  7.126022   \n",
       "1     CD370  16.181637  1.248352   8.971264e-58    CD99  38.967236  7.026029   \n",
       "2     CD184  15.934348  1.520596   4.529217e-56    CD82  31.773813  6.722711   \n",
       "3      CD69  15.314118  1.583880   6.769438e-52  Folate  27.393200  3.032251   \n",
       "4     CD110  13.305926  1.085764   2.016085e-39   CD102  26.825644  6.100643   \n",
       "..      ...        ...       ...            ...     ...        ...       ...   \n",
       "193   CD102 -26.825644 -6.100643  6.427472e-157   CD110 -13.305926 -1.085764   \n",
       "194  Folate -27.393200 -3.032251  1.635984e-163    CD69 -15.314118 -1.583880   \n",
       "195    CD82 -31.773813 -6.722711  9.828994e-220   CD184 -15.934348 -1.520596   \n",
       "196    CD99 -38.967236 -7.026029   0.000000e+00   CD370 -16.181637 -1.248352   \n",
       "197  CD107a -46.147831 -7.126022   0.000000e+00   CD158 -21.789307 -3.313308   \n",
       "\n",
       "               1_p  \n",
       "0     0.000000e+00  \n",
       "1     0.000000e+00  \n",
       "2    9.828994e-220  \n",
       "3    1.635984e-163  \n",
       "4    6.427472e-157  \n",
       "..             ...  \n",
       "193   2.016085e-39  \n",
       "194   6.769438e-52  \n",
       "195   4.529217e-56  \n",
       "196   8.971264e-58  \n",
       "197  5.802365e-104  \n",
       "\n",
       "[198 rows x 8 columns]"
      ]
     },
     "execution_count": 30,
     "metadata": {},
     "output_type": "execute_result"
    }
   ],
   "source": [
    "df"
   ]
  },
  {
   "cell_type": "code",
   "execution_count": 31,
   "metadata": {},
   "outputs": [
    {
     "data": {
      "text/plain": [
       "0.19021267"
      ]
     },
     "execution_count": 31,
     "metadata": {},
     "output_type": "execute_result"
    }
   ],
   "source": [
    "np.mean(output.X[:,output.var_names==\"CD158\"])\n",
    "np.mean(output.X[:,output.var_names==\"CD158\"])"
   ]
  },
  {
   "cell_type": "code",
   "execution_count": 32,
   "metadata": {},
   "outputs": [],
   "source": [
    "output_0= output[output.obs[\"kmeans2\"]==0,:].copy()\n",
    "output_1= output[output.obs[\"kmeans2\"]==1,:].copy()\n",
    "\n"
   ]
  },
  {
   "cell_type": "code",
   "execution_count": 33,
   "metadata": {},
   "outputs": [
    {
     "data": {
      "text/plain": [
       "AnnData object with n_obs × n_vars = 3714 × 198\n",
       "    obs: 'Tissue', 'batch', 'n_genes', 'n_counts', 'leiden', 'donor', 'kmeans2'\n",
       "    var: 'n_cells'\n",
       "    uns: '-HSCMPP_DEP', 'rank_genes_groups'"
      ]
     },
     "execution_count": 33,
     "metadata": {},
     "output_type": "execute_result"
    }
   ],
   "source": [
    "output_0"
   ]
  },
  {
   "cell_type": "code",
   "execution_count": 34,
   "metadata": {},
   "outputs": [
    {
     "name": "stdout",
     "output_type": "stream",
     "text": [
      "0.7081313\n",
      "0.30679756\n"
     ]
    }
   ],
   "source": [
    "print(np.mean(output_0.X[:,output.var_names==\"CD184\"]))\n",
    "print(np.mean(output_1.X[:,output.var_names==\"CD184\"]))"
   ]
  },
  {
   "cell_type": "code",
   "execution_count": 35,
   "metadata": {},
   "outputs": [
    {
     "name": "stdout",
     "output_type": "stream",
     "text": [
      "0.40037695\n",
      "0.048346058\n"
     ]
    }
   ],
   "source": [
    "print(np.mean(output_0.X[:,output.var_names==\"CD158\"]))\n",
    "print(np.mean(output_1.X[:,output.var_names==\"CD158\"]))"
   ]
  },
  {
   "cell_type": "code",
   "execution_count": 36,
   "metadata": {},
   "outputs": [
    {
     "name": "stdout",
     "output_type": "stream",
     "text": [
      "0.23317178\n",
      "1.1468557\n"
     ]
    }
   ],
   "source": [
    "print(np.mean(output_0.X[:,output.var_names==\"Folate\"]))\n",
    "print(np.mean(output_1.X[:,output.var_names==\"Folate\"]))"
   ]
  },
  {
   "cell_type": "code",
   "execution_count": 37,
   "metadata": {},
   "outputs": [
    {
     "name": "stdout",
     "output_type": "stream",
     "text": [
      "0.6567043\n",
      "0.32988006\n"
     ]
    }
   ],
   "source": [
    "print(np.mean(output_0.X[:,output.var_names==\"CD370\"]))\n",
    "print(np.mean(output_1.X[:,output.var_names==\"CD370\"]))"
   ]
  }
 ],
 "metadata": {
  "kernelspec": {
   "display_name": "Python 3",
   "language": "python",
   "name": "python3"
  },
  "language_info": {
   "codemirror_mode": {
    "name": "ipython",
    "version": 3
   },
   "file_extension": ".py",
   "mimetype": "text/x-python",
   "name": "python",
   "nbconvert_exporter": "python",
   "pygments_lexer": "ipython3",
   "version": "3.8.6"
  },
  "widgets": {
   "application/vnd.jupyter.widget-state+json": {
    "state": {},
    "version_major": 2,
    "version_minor": 0
   }
  }
 },
 "nbformat": 4,
 "nbformat_minor": 4
}
