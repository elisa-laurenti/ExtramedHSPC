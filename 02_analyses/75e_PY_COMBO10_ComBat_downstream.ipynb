{
 "cells": [
  {
   "cell_type": "markdown",
   "metadata": {},
   "source": [
    "##### Combined 10 donors (NO SPL3)\n",
    "##### Batch correction using ComBat\n",
    "##### Leiden clusters and respective silhouette scores\n",
    "---\n",
    "##### hpb29"
   ]
  },
  {
   "cell_type": "markdown",
   "metadata": {},
   "source": [
    "Date: 2021-02-23"
   ]
  },
  {
   "cell_type": "code",
   "execution_count": 1,
   "metadata": {},
   "outputs": [],
   "source": [
    "%matplotlib widget\n",
    "\n",
    "import warnings\n",
    "warnings.filterwarnings('ignore')\n",
    "\n",
    "import os, sys, json, operator, getpass, math\n",
    "from pathlib import Path\n",
    "from datetime import datetime\n",
    "\n",
    "import numpy as np\n",
    "import pandas as pd\n",
    "import scanpy as sc\n",
    "\n",
    "import matplotlib.pyplot as plt\n",
    "from ipywidgets import widgets\n",
    "\n",
    "from sklearn.metrics import silhouette_score\n",
    "from sklearn.metrics import silhouette_samples"
   ]
  },
  {
   "cell_type": "code",
   "execution_count": 2,
   "metadata": {},
   "outputs": [
    {
     "data": {
      "text/plain": [
       "'metztli.25c'"
      ]
     },
     "execution_count": 2,
     "metadata": {},
     "output_type": "execute_result"
    }
   ],
   "source": [
    "with open('/.singularity.d/labels.json') as fh:\n",
    "    singularity = json.load(fh)\n",
    "    \n",
    "singularity['Version']"
   ]
  },
  {
   "cell_type": "code",
   "execution_count": 3,
   "metadata": {},
   "outputs": [],
   "source": [
    "home = str(Path.home())\n",
    "user = getpass.getuser()\n",
    "\n",
    "basedir = os.path.join(home, 'datafloor/users', user, '2020/SLX19841/')\n",
    "\n",
    "sc.settings.writedir = os.path.join(basedir, 'analysis/h5ad/')"
   ]
  },
  {
   "cell_type": "code",
   "execution_count": 4,
   "metadata": {},
   "outputs": [],
   "source": [
    "sc.settings.verbosity = 3\n",
    "sc.settings.file_format_figs = 'svg'\n",
    "sc.settings.savefigs = False"
   ]
  },
  {
   "cell_type": "code",
   "execution_count": 5,
   "metadata": {},
   "outputs": [],
   "source": [
    "plt.rcParams['font.family'] = 'sans-serif'\n",
    "plt.rcParams['font.sans-serif'] = 'Arial'\n",
    "plt.rc('font', size=14)"
   ]
  },
  {
   "cell_type": "code",
   "execution_count": 6,
   "metadata": {},
   "outputs": [
    {
     "name": "stdout",
     "output_type": "stream",
     "text": [
      "20210223\n"
     ]
    }
   ],
   "source": [
    "now = datetime.now()\n",
    "prefix = now.strftime('%Y%m%d')\n",
    "print(prefix)"
   ]
  },
  {
   "cell_type": "code",
   "execution_count": null,
   "metadata": {},
   "outputs": [],
   "source": []
  },
  {
   "cell_type": "code",
   "execution_count": 7,
   "metadata": {},
   "outputs": [],
   "source": [
    "data = sc.read('COMBO10_NO_SPL3_Seurat3_Integrated_lognorm')"
   ]
  },
  {
   "cell_type": "code",
   "execution_count": 12,
   "metadata": {},
   "outputs": [],
   "source": [
    "data.obs = data.obs[['batch', 'n_counts', 'n_genes', 'library', 'donor',\n",
    "                     'organ', 'leiden.1.2', 'silhouette.1.2']].copy()"
   ]
  },
  {
   "cell_type": "code",
   "execution_count": null,
   "metadata": {},
   "outputs": [],
   "source": []
  },
  {
   "cell_type": "code",
   "execution_count": 14,
   "metadata": {},
   "outputs": [
    {
     "name": "stdout",
     "output_type": "stream",
     "text": [
      "Standardizing Data across genes.\n",
      "\n",
      "Found 10 batches\n",
      "\n",
      "Found 0 numerical variables:\n",
      "\t\n",
      "\n",
      "Fitting L/S model and finding priors\n",
      "\n",
      "Finding parametric adjustments\n",
      "\n",
      "Adjusting data\n",
      "\n",
      "CPU times: user 8min 8s, sys: 3min 8s, total: 11min 17s\n",
      "Wall time: 11min 16s\n"
     ]
    }
   ],
   "source": [
    "%%time\n",
    "\n",
    "sc.pp.combat(data, key='donor')"
   ]
  },
  {
   "cell_type": "code",
   "execution_count": null,
   "metadata": {},
   "outputs": [],
   "source": []
  },
  {
   "cell_type": "code",
   "execution_count": 15,
   "metadata": {},
   "outputs": [
    {
     "name": "stdout",
     "output_type": "stream",
     "text": [
      "extracting highly variable genes\n",
      "    finished (0:00:55)\n",
      "--> added\n",
      "    'highly_variable', boolean vector (adata.var)\n",
      "    'means', float vector (adata.var)\n",
      "    'dispersions', float vector (adata.var)\n",
      "    'dispersions_norm', float vector (adata.var)\n",
      "Highly variable genes: 1035\n"
     ]
    }
   ],
   "source": [
    "sc.pp.highly_variable_genes(data)\n",
    "print(\"Highly variable genes: %d\"%sum(data.var.highly_variable))"
   ]
  },
  {
   "cell_type": "code",
   "execution_count": 16,
   "metadata": {
    "collapsed": true,
    "jupyter": {
     "outputs_hidden": true
    }
   },
   "outputs": [
    {
     "data": {
      "application/vnd.jupyter.widget-view+json": {
       "model_id": "482fec7bdb6d4293891d45337e39595f",
       "version_major": 2,
       "version_minor": 0
      },
      "text/plain": [
       "Canvas(toolbar=Toolbar(toolitems=[('Home', 'Reset original view', 'home', 'home'), ('Back', 'Back to previous …"
      ]
     },
     "metadata": {},
     "output_type": "display_data"
    }
   ],
   "source": [
    "sc.pl.highly_variable_genes(data)"
   ]
  },
  {
   "cell_type": "code",
   "execution_count": null,
   "metadata": {},
   "outputs": [],
   "source": []
  },
  {
   "cell_type": "code",
   "execution_count": 18,
   "metadata": {},
   "outputs": [
    {
     "name": "stdout",
     "output_type": "stream",
     "text": [
      "computing PCA\n",
      "    on highly variable genes\n",
      "    with n_comps=30\n",
      "    finished (0:00:31)\n",
      "computing neighbors\n",
      "    using 'X_pca' with n_pcs = 30\n",
      "    finished: added to `.uns['neighbors']`\n",
      "    `.obsp['distances']`, distances for each pair of neighbors\n",
      "    `.obsp['connectivities']`, weighted adjacency matrix (0:00:57)\n",
      "computing UMAP\n",
      "    finished: added\n",
      "    'X_umap', UMAP coordinates (adata.obsm) (0:02:03)\n"
     ]
    }
   ],
   "source": [
    "sc.pp.pca(data, n_comps=30, use_highly_variable=True, svd_solver='arpack')\n",
    "\n",
    "sc.pp.neighbors(data, n_pcs =30)\n",
    "\n",
    "sc.tl.umap(data)"
   ]
  },
  {
   "cell_type": "code",
   "execution_count": null,
   "metadata": {},
   "outputs": [],
   "source": []
  },
  {
   "cell_type": "code",
   "execution_count": 19,
   "metadata": {
    "collapsed": true,
    "jupyter": {
     "outputs_hidden": true
    }
   },
   "outputs": [
    {
     "data": {
      "application/vnd.jupyter.widget-view+json": {
       "model_id": "e0aceaef7dd04f15872ea9d2e65d64a8",
       "version_major": 2,
       "version_minor": 0
      },
      "text/plain": [
       "Canvas(toolbar=Toolbar(toolitems=[('Home', 'Reset original view', 'home', 'home'), ('Back', 'Back to previous …"
      ]
     },
     "metadata": {},
     "output_type": "display_data"
    }
   ],
   "source": [
    "sc.pl.umap(data, color=['donor'])"
   ]
  },
  {
   "cell_type": "code",
   "execution_count": null,
   "metadata": {},
   "outputs": [],
   "source": []
  },
  {
   "cell_type": "code",
   "execution_count": 20,
   "metadata": {
    "collapsed": true,
    "jupyter": {
     "outputs_hidden": true
    }
   },
   "outputs": [
    {
     "data": {
      "application/vnd.jupyter.widget-view+json": {
       "model_id": "db423f7f2b4f40efa1ddb19156eb71e7",
       "version_major": 2,
       "version_minor": 0
      },
      "text/plain": [
       "Canvas(toolbar=Toolbar(toolitems=[('Home', 'Reset original view', 'home', 'home'), ('Back', 'Back to previous …"
      ]
     },
     "metadata": {},
     "output_type": "display_data"
    },
    {
     "name": "stdout",
     "output_type": "stream",
     "text": [
      "12\n"
     ]
    }
   ],
   "source": [
    "fig,ax = plt.subplots(4,3,  squeeze=True, sharex=True, sharey=True, figsize=(9.5,12.5))\n",
    "fig.tight_layout()\n",
    "ax = ax.ravel()\n",
    "print(len(ax))\n",
    "i = 0\n",
    "\n",
    "for g in data.obs.donor.unique():\n",
    "\n",
    "    try:\n",
    "        sc.pl.umap(data, ax=ax[i])\n",
    "        sc.pl.umap(data[data.obs['donor'] == g, :], color=['donor'], ax=ax[i], \n",
    "                                                             title=g, legend_loc=None)#, title=g)\n",
    "        ax[i].collections[1].set_sizes([50])\n",
    "        ax[i].get_xaxis().set_visible(False)\n",
    "        ax[i].get_yaxis().set_visible(False)\n",
    "        i += 1\n",
    "    except IndexError:\n",
    "        pass"
   ]
  },
  {
   "cell_type": "code",
   "execution_count": 22,
   "metadata": {
    "collapsed": true,
    "jupyter": {
     "outputs_hidden": true
    }
   },
   "outputs": [
    {
     "data": {
      "application/vnd.jupyter.widget-view+json": {
       "model_id": "667b21c08b154b709bdd511acf39f32f",
       "version_major": 2,
       "version_minor": 0
      },
      "text/plain": [
       "Canvas(toolbar=Toolbar(toolitems=[('Home', 'Reset original view', 'home', 'home'), ('Back', 'Back to previous …"
      ]
     },
     "metadata": {},
     "output_type": "display_data"
    }
   ],
   "source": [
    "fig, ax = plt.subplots(1,1, figsize=(7,6))\n",
    "fig.tight_layout()\n",
    "sc.pl.umap(data, color=['leiden.1.2'],ax=ax)\n",
    "fig.subplots_adjust(right=0.8)\n",
    "\n",
    "handles, labels = ax.get_legend_handles_labels()\n",
    "lgnd = plt.legend(loc=7, scatterpoints=1, fontsize=10, bbox_to_anchor=(1.2, 0.5), frameon=False)\n",
    "for i in range(0, len(handles)):\n",
    "    lgnd.legendHandles[i]._sizes = [25]"
   ]
  },
  {
   "cell_type": "code",
   "execution_count": 24,
   "metadata": {},
   "outputs": [
    {
     "data": {
      "text/plain": [
       "27"
      ]
     },
     "execution_count": 24,
     "metadata": {},
     "output_type": "execute_result"
    }
   ],
   "source": [
    "data.obs['leiden.1.2'].nunique()"
   ]
  },
  {
   "cell_type": "code",
   "execution_count": null,
   "metadata": {},
   "outputs": [],
   "source": []
  },
  {
   "cell_type": "code",
   "execution_count": 25,
   "metadata": {},
   "outputs": [
    {
     "name": "stdout",
     "output_type": "stream",
     "text": [
      "running Leiden clustering\n",
      "    finished: found 16 clusters and added\n",
      "    'cleiden.1.0', the cluster labels (adata.obs, categorical) (0:01:01)\n"
     ]
    }
   ],
   "source": [
    "sc.tl.leiden(data, resolution=1, key_added='cleiden.1.0')"
   ]
  },
  {
   "cell_type": "code",
   "execution_count": null,
   "metadata": {},
   "outputs": [],
   "source": []
  },
  {
   "cell_type": "code",
   "execution_count": 27,
   "metadata": {},
   "outputs": [
    {
     "name": "stdout",
     "output_type": "stream",
     "text": [
      "running Leiden clustering\n",
      "    finished: found 23 clusters and added\n",
      "    'cleiden.1.5', the cluster labels (adata.obs, categorical) (0:01:26)\n"
     ]
    }
   ],
   "source": [
    "sc.tl.leiden(data, resolution=1.5, key_added='cleiden.1.5')"
   ]
  },
  {
   "cell_type": "code",
   "execution_count": null,
   "metadata": {},
   "outputs": [],
   "source": []
  },
  {
   "cell_type": "code",
   "execution_count": 28,
   "metadata": {},
   "outputs": [
    {
     "name": "stdout",
     "output_type": "stream",
     "text": [
      "running Leiden clustering\n",
      "    finished: found 24 clusters and added\n",
      "    'cleiden.1.75', the cluster labels (adata.obs, categorical) (0:00:58)\n"
     ]
    }
   ],
   "source": [
    "sc.tl.leiden(data, resolution=1.75, key_added='cleiden.1.75')"
   ]
  },
  {
   "cell_type": "code",
   "execution_count": null,
   "metadata": {},
   "outputs": [],
   "source": []
  },
  {
   "cell_type": "code",
   "execution_count": 29,
   "metadata": {},
   "outputs": [
    {
     "name": "stdout",
     "output_type": "stream",
     "text": [
      "running Leiden clustering\n",
      "    finished: found 30 clusters and added\n",
      "    'cleiden.2', the cluster labels (adata.obs, categorical) (0:02:32)\n"
     ]
    }
   ],
   "source": [
    "sc.tl.leiden(data, resolution=2, key_added='cleiden.2')"
   ]
  },
  {
   "cell_type": "code",
   "execution_count": null,
   "metadata": {},
   "outputs": [],
   "source": []
  },
  {
   "cell_type": "code",
   "execution_count": 30,
   "metadata": {},
   "outputs": [
    {
     "name": "stdout",
     "output_type": "stream",
     "text": [
      "running Leiden clustering\n",
      "    finished: found 27 clusters and added\n",
      "    'cleiden.1.85', the cluster labels (adata.obs, categorical) (0:01:38)\n"
     ]
    }
   ],
   "source": [
    "sc.tl.leiden(data, resolution=1.85, key_added='cleiden.1.85')"
   ]
  },
  {
   "cell_type": "code",
   "execution_count": null,
   "metadata": {},
   "outputs": [],
   "source": []
  },
  {
   "cell_type": "code",
   "execution_count": 32,
   "metadata": {},
   "outputs": [],
   "source": [
    "groups = ['cleiden.1.0', 'cleiden.1.5', 'cleiden.1.75', 'cleiden.1.85', 'cleiden.2']"
   ]
  },
  {
   "cell_type": "code",
   "execution_count": null,
   "metadata": {},
   "outputs": [],
   "source": []
  },
  {
   "cell_type": "code",
   "execution_count": 33,
   "metadata": {},
   "outputs": [
    {
     "name": "stdout",
     "output_type": "stream",
     "text": [
      "CPU times: user 17min 45s, sys: 1min 4s, total: 18min 49s\n",
      "Wall time: 18min 49s\n"
     ]
    }
   ],
   "source": [
    "%%time\n",
    "\n",
    "silhouette = {}\n",
    "\n",
    "for group in groups:\n",
    "    silhouette[group] = silhouette_score(data.obsm['X_umap'], \n",
    "                         np.array(data.obs[group]), \n",
    "                         metric='euclidean', \n",
    "                         sample_size=None, \n",
    "                         random_state=None)"
   ]
  },
  {
   "cell_type": "code",
   "execution_count": null,
   "metadata": {},
   "outputs": [],
   "source": []
  },
  {
   "cell_type": "code",
   "execution_count": 36,
   "metadata": {},
   "outputs": [],
   "source": [
    "def compute_samples_silhouettes(data, grouping):\n",
    "    \n",
    "    sils = silhouette_samples(data.obsm['X_umap'], \n",
    "                 np.array(data.obs[grouping]), \n",
    "                 metric='euclidean')\n",
    "    \n",
    "    return sils"
   ]
  },
  {
   "cell_type": "code",
   "execution_count": null,
   "metadata": {},
   "outputs": [],
   "source": []
  },
  {
   "cell_type": "code",
   "execution_count": 37,
   "metadata": {},
   "outputs": [
    {
     "name": "stdout",
     "output_type": "stream",
     "text": [
      "CPU times: user 16min 37s, sys: 1min 5s, total: 17min 43s\n",
      "Wall time: 17min 43s\n"
     ]
    }
   ],
   "source": [
    "%%time\n",
    "\n",
    "sample_sils = {}\n",
    "\n",
    "for group in groups:\n",
    "    sample_sils[group] = compute_samples_silhouettes(data, group)    \n",
    "    colname = 'silhouette.'+group\n",
    "    data.obs[colname] = sample_sils[group]"
   ]
  },
  {
   "cell_type": "code",
   "execution_count": null,
   "metadata": {},
   "outputs": [],
   "source": []
  },
  {
   "cell_type": "code",
   "execution_count": 38,
   "metadata": {
    "collapsed": true,
    "jupyter": {
     "outputs_hidden": true
    }
   },
   "outputs": [
    {
     "data": {
      "application/vnd.jupyter.widget-view+json": {
       "model_id": "77983a4a7c8d4b9080e631d316d1f1d8",
       "version_major": 2,
       "version_minor": 0
      },
      "text/plain": [
       "Canvas(toolbar=Toolbar(toolitems=[('Home', 'Reset original view', 'home', 'home'), ('Back', 'Back to previous …"
      ]
     },
     "metadata": {},
     "output_type": "display_data"
    }
   ],
   "source": [
    "sc.pl.umap(data, color=['cleiden.1.0', 'cleiden.1.5', 'cleiden.1.75', 'cleiden.1.85', 'cleiden.2'], ncols=1)"
   ]
  },
  {
   "cell_type": "code",
   "execution_count": null,
   "metadata": {},
   "outputs": [],
   "source": []
  },
  {
   "cell_type": "code",
   "execution_count": 39,
   "metadata": {},
   "outputs": [
    {
     "name": "stdout",
     "output_type": "stream",
     "text": [
      "CPU times: user 5min 2s, sys: 11 s, total: 5min 13s\n",
      "Wall time: 5min 35s\n"
     ]
    }
   ],
   "source": [
    "%%time\n",
    "sc.write('COMBO10_NO_SPL3_combat_corrected', data)"
   ]
  },
  {
   "cell_type": "markdown",
   "metadata": {},
   "source": [
    "---"
   ]
  },
  {
   "cell_type": "code",
   "execution_count": 51,
   "metadata": {},
   "outputs": [
    {
     "data": {
      "text/plain": [
       "['cleiden.1.0', 'cleiden.1.5', 'cleiden.1.75', 'cleiden.1.85', 'cleiden.2']"
      ]
     },
     "execution_count": 51,
     "metadata": {},
     "output_type": "execute_result"
    }
   ],
   "source": [
    "groups"
   ]
  },
  {
   "cell_type": "code",
   "execution_count": 67,
   "metadata": {},
   "outputs": [],
   "source": [
    "clusters_means = {}\n",
    "\n",
    "for res in groups:\n",
    "    clusters_means[res] = data.obs.groupby(res)['silhouette.'+res].mean()"
   ]
  },
  {
   "cell_type": "code",
   "execution_count": null,
   "metadata": {},
   "outputs": [],
   "source": []
  },
  {
   "cell_type": "code",
   "execution_count": 68,
   "metadata": {},
   "outputs": [],
   "source": [
    "meanie = pd.concat([  clusters_means['cleiden.1.0'], clusters_means['cleiden.1.5'], \n",
    "                      clusters_means['cleiden.1.75'], clusters_means['cleiden.1.85'],\n",
    "                      clusters_means['cleiden.2']\n",
    "                   ], axis=1)"
   ]
  },
  {
   "cell_type": "code",
   "execution_count": 69,
   "metadata": {},
   "outputs": [],
   "source": [
    "meanie.index = [ int(x) for x in meanie.index ]"
   ]
  },
  {
   "cell_type": "code",
   "execution_count": 70,
   "metadata": {},
   "outputs": [
    {
     "data": {
      "text/html": [
       "<div>\n",
       "<style scoped>\n",
       "    .dataframe tbody tr th:only-of-type {\n",
       "        vertical-align: middle;\n",
       "    }\n",
       "\n",
       "    .dataframe tbody tr th {\n",
       "        vertical-align: top;\n",
       "    }\n",
       "\n",
       "    .dataframe thead th {\n",
       "        text-align: right;\n",
       "    }\n",
       "</style>\n",
       "<table border=\"1\" class=\"dataframe\">\n",
       "  <thead>\n",
       "    <tr style=\"text-align: right;\">\n",
       "      <th></th>\n",
       "      <th>silhouette.cleiden.1.0</th>\n",
       "      <th>silhouette.cleiden.1.5</th>\n",
       "      <th>silhouette.cleiden.1.75</th>\n",
       "      <th>silhouette.cleiden.1.85</th>\n",
       "      <th>silhouette.cleiden.2</th>\n",
       "    </tr>\n",
       "  </thead>\n",
       "  <tbody>\n",
       "    <tr>\n",
       "      <th>0</th>\n",
       "      <td>0.325493</td>\n",
       "      <td>0.316371</td>\n",
       "      <td>0.320246</td>\n",
       "      <td>0.297935</td>\n",
       "      <td>0.311623</td>\n",
       "    </tr>\n",
       "    <tr>\n",
       "      <th>1</th>\n",
       "      <td>0.314097</td>\n",
       "      <td>0.212526</td>\n",
       "      <td>0.169393</td>\n",
       "      <td>0.197664</td>\n",
       "      <td>0.218906</td>\n",
       "    </tr>\n",
       "    <tr>\n",
       "      <th>2</th>\n",
       "      <td>0.250293</td>\n",
       "      <td>0.130227</td>\n",
       "      <td>-0.057439</td>\n",
       "      <td>0.283033</td>\n",
       "      <td>0.221286</td>\n",
       "    </tr>\n",
       "    <tr>\n",
       "      <th>3</th>\n",
       "      <td>0.054414</td>\n",
       "      <td>0.220242</td>\n",
       "      <td>0.268229</td>\n",
       "      <td>-0.134856</td>\n",
       "      <td>-0.363323</td>\n",
       "    </tr>\n",
       "    <tr>\n",
       "      <th>4</th>\n",
       "      <td>0.066223</td>\n",
       "      <td>-0.103481</td>\n",
       "      <td>0.016166</td>\n",
       "      <td>-0.010915</td>\n",
       "      <td>0.001538</td>\n",
       "    </tr>\n",
       "    <tr>\n",
       "      <th>5</th>\n",
       "      <td>0.134902</td>\n",
       "      <td>-0.023925</td>\n",
       "      <td>0.120904</td>\n",
       "      <td>0.195732</td>\n",
       "      <td>0.259844</td>\n",
       "    </tr>\n",
       "    <tr>\n",
       "      <th>6</th>\n",
       "      <td>-0.085639</td>\n",
       "      <td>0.069228</td>\n",
       "      <td>0.099612</td>\n",
       "      <td>0.287387</td>\n",
       "      <td>-0.120668</td>\n",
       "    </tr>\n",
       "    <tr>\n",
       "      <th>7</th>\n",
       "      <td>0.294425</td>\n",
       "      <td>0.386684</td>\n",
       "      <td>0.311500</td>\n",
       "      <td>-0.015631</td>\n",
       "      <td>0.342686</td>\n",
       "    </tr>\n",
       "    <tr>\n",
       "      <th>8</th>\n",
       "      <td>0.115398</td>\n",
       "      <td>-0.147404</td>\n",
       "      <td>0.078021</td>\n",
       "      <td>-0.222368</td>\n",
       "      <td>-0.044534</td>\n",
       "    </tr>\n",
       "    <tr>\n",
       "      <th>9</th>\n",
       "      <td>0.091584</td>\n",
       "      <td>0.081789</td>\n",
       "      <td>-0.107878</td>\n",
       "      <td>-0.105591</td>\n",
       "      <td>0.130834</td>\n",
       "    </tr>\n",
       "    <tr>\n",
       "      <th>10</th>\n",
       "      <td>-0.374093</td>\n",
       "      <td>-0.309042</td>\n",
       "      <td>0.090791</td>\n",
       "      <td>0.073640</td>\n",
       "      <td>-0.257308</td>\n",
       "    </tr>\n",
       "    <tr>\n",
       "      <th>11</th>\n",
       "      <td>0.805659</td>\n",
       "      <td>0.173206</td>\n",
       "      <td>-0.112128</td>\n",
       "      <td>0.183703</td>\n",
       "      <td>0.022186</td>\n",
       "    </tr>\n",
       "    <tr>\n",
       "      <th>12</th>\n",
       "      <td>0.276432</td>\n",
       "      <td>0.043543</td>\n",
       "      <td>-0.158794</td>\n",
       "      <td>0.203118</td>\n",
       "      <td>0.170735</td>\n",
       "    </tr>\n",
       "    <tr>\n",
       "      <th>13</th>\n",
       "      <td>0.780973</td>\n",
       "      <td>0.098304</td>\n",
       "      <td>0.014769</td>\n",
       "      <td>-0.125552</td>\n",
       "      <td>-0.115143</td>\n",
       "    </tr>\n",
       "    <tr>\n",
       "      <th>14</th>\n",
       "      <td>0.746075</td>\n",
       "      <td>-0.096932</td>\n",
       "      <td>0.533499</td>\n",
       "      <td>0.086128</td>\n",
       "      <td>-0.280716</td>\n",
       "    </tr>\n",
       "    <tr>\n",
       "      <th>15</th>\n",
       "      <td>0.947506</td>\n",
       "      <td>0.191590</td>\n",
       "      <td>-0.124768</td>\n",
       "      <td>-0.119655</td>\n",
       "      <td>0.537770</td>\n",
       "    </tr>\n",
       "    <tr>\n",
       "      <th>16</th>\n",
       "      <td>NaN</td>\n",
       "      <td>-0.476926</td>\n",
       "      <td>0.280479</td>\n",
       "      <td>-0.113038</td>\n",
       "      <td>0.081141</td>\n",
       "    </tr>\n",
       "    <tr>\n",
       "      <th>17</th>\n",
       "      <td>NaN</td>\n",
       "      <td>0.802413</td>\n",
       "      <td>-0.349887</td>\n",
       "      <td>-0.111761</td>\n",
       "      <td>0.160379</td>\n",
       "    </tr>\n",
       "    <tr>\n",
       "      <th>18</th>\n",
       "      <td>NaN</td>\n",
       "      <td>-0.412172</td>\n",
       "      <td>0.161581</td>\n",
       "      <td>-0.087357</td>\n",
       "      <td>0.124180</td>\n",
       "    </tr>\n",
       "    <tr>\n",
       "      <th>19</th>\n",
       "      <td>NaN</td>\n",
       "      <td>0.856195</td>\n",
       "      <td>-0.494584</td>\n",
       "      <td>0.097458</td>\n",
       "      <td>-0.074899</td>\n",
       "    </tr>\n",
       "    <tr>\n",
       "      <th>20</th>\n",
       "      <td>NaN</td>\n",
       "      <td>0.161158</td>\n",
       "      <td>0.812176</td>\n",
       "      <td>-0.420417</td>\n",
       "      <td>-0.125513</td>\n",
       "    </tr>\n",
       "    <tr>\n",
       "      <th>21</th>\n",
       "      <td>NaN</td>\n",
       "      <td>0.732274</td>\n",
       "      <td>0.158339</td>\n",
       "      <td>-0.484257</td>\n",
       "      <td>-0.023522</td>\n",
       "    </tr>\n",
       "    <tr>\n",
       "      <th>22</th>\n",
       "      <td>NaN</td>\n",
       "      <td>0.936880</td>\n",
       "      <td>0.821880</td>\n",
       "      <td>0.802211</td>\n",
       "      <td>0.079146</td>\n",
       "    </tr>\n",
       "    <tr>\n",
       "      <th>23</th>\n",
       "      <td>NaN</td>\n",
       "      <td>NaN</td>\n",
       "      <td>0.937119</td>\n",
       "      <td>0.030567</td>\n",
       "      <td>-0.569131</td>\n",
       "    </tr>\n",
       "    <tr>\n",
       "      <th>24</th>\n",
       "      <td>NaN</td>\n",
       "      <td>NaN</td>\n",
       "      <td>NaN</td>\n",
       "      <td>0.858226</td>\n",
       "      <td>-0.122089</td>\n",
       "    </tr>\n",
       "    <tr>\n",
       "      <th>25</th>\n",
       "      <td>NaN</td>\n",
       "      <td>NaN</td>\n",
       "      <td>NaN</td>\n",
       "      <td>0.788128</td>\n",
       "      <td>0.796917</td>\n",
       "    </tr>\n",
       "    <tr>\n",
       "      <th>26</th>\n",
       "      <td>NaN</td>\n",
       "      <td>NaN</td>\n",
       "      <td>NaN</td>\n",
       "      <td>0.933873</td>\n",
       "      <td>-0.349409</td>\n",
       "    </tr>\n",
       "    <tr>\n",
       "      <th>27</th>\n",
       "      <td>NaN</td>\n",
       "      <td>NaN</td>\n",
       "      <td>NaN</td>\n",
       "      <td>NaN</td>\n",
       "      <td>0.262013</td>\n",
       "    </tr>\n",
       "    <tr>\n",
       "      <th>28</th>\n",
       "      <td>NaN</td>\n",
       "      <td>NaN</td>\n",
       "      <td>NaN</td>\n",
       "      <td>NaN</td>\n",
       "      <td>0.825173</td>\n",
       "    </tr>\n",
       "    <tr>\n",
       "      <th>29</th>\n",
       "      <td>NaN</td>\n",
       "      <td>NaN</td>\n",
       "      <td>NaN</td>\n",
       "      <td>NaN</td>\n",
       "      <td>0.933714</td>\n",
       "    </tr>\n",
       "  </tbody>\n",
       "</table>\n",
       "</div>"
      ],
      "text/plain": [
       "    silhouette.cleiden.1.0  silhouette.cleiden.1.5  silhouette.cleiden.1.75  \\\n",
       "0                 0.325493                0.316371                 0.320246   \n",
       "1                 0.314097                0.212526                 0.169393   \n",
       "2                 0.250293                0.130227                -0.057439   \n",
       "3                 0.054414                0.220242                 0.268229   \n",
       "4                 0.066223               -0.103481                 0.016166   \n",
       "5                 0.134902               -0.023925                 0.120904   \n",
       "6                -0.085639                0.069228                 0.099612   \n",
       "7                 0.294425                0.386684                 0.311500   \n",
       "8                 0.115398               -0.147404                 0.078021   \n",
       "9                 0.091584                0.081789                -0.107878   \n",
       "10               -0.374093               -0.309042                 0.090791   \n",
       "11                0.805659                0.173206                -0.112128   \n",
       "12                0.276432                0.043543                -0.158794   \n",
       "13                0.780973                0.098304                 0.014769   \n",
       "14                0.746075               -0.096932                 0.533499   \n",
       "15                0.947506                0.191590                -0.124768   \n",
       "16                     NaN               -0.476926                 0.280479   \n",
       "17                     NaN                0.802413                -0.349887   \n",
       "18                     NaN               -0.412172                 0.161581   \n",
       "19                     NaN                0.856195                -0.494584   \n",
       "20                     NaN                0.161158                 0.812176   \n",
       "21                     NaN                0.732274                 0.158339   \n",
       "22                     NaN                0.936880                 0.821880   \n",
       "23                     NaN                     NaN                 0.937119   \n",
       "24                     NaN                     NaN                      NaN   \n",
       "25                     NaN                     NaN                      NaN   \n",
       "26                     NaN                     NaN                      NaN   \n",
       "27                     NaN                     NaN                      NaN   \n",
       "28                     NaN                     NaN                      NaN   \n",
       "29                     NaN                     NaN                      NaN   \n",
       "\n",
       "    silhouette.cleiden.1.85  silhouette.cleiden.2  \n",
       "0                  0.297935              0.311623  \n",
       "1                  0.197664              0.218906  \n",
       "2                  0.283033              0.221286  \n",
       "3                 -0.134856             -0.363323  \n",
       "4                 -0.010915              0.001538  \n",
       "5                  0.195732              0.259844  \n",
       "6                  0.287387             -0.120668  \n",
       "7                 -0.015631              0.342686  \n",
       "8                 -0.222368             -0.044534  \n",
       "9                 -0.105591              0.130834  \n",
       "10                 0.073640             -0.257308  \n",
       "11                 0.183703              0.022186  \n",
       "12                 0.203118              0.170735  \n",
       "13                -0.125552             -0.115143  \n",
       "14                 0.086128             -0.280716  \n",
       "15                -0.119655              0.537770  \n",
       "16                -0.113038              0.081141  \n",
       "17                -0.111761              0.160379  \n",
       "18                -0.087357              0.124180  \n",
       "19                 0.097458             -0.074899  \n",
       "20                -0.420417             -0.125513  \n",
       "21                -0.484257             -0.023522  \n",
       "22                 0.802211              0.079146  \n",
       "23                 0.030567             -0.569131  \n",
       "24                 0.858226             -0.122089  \n",
       "25                 0.788128              0.796917  \n",
       "26                 0.933873             -0.349409  \n",
       "27                      NaN              0.262013  \n",
       "28                      NaN              0.825173  \n",
       "29                      NaN              0.933714  "
      ]
     },
     "execution_count": 70,
     "metadata": {},
     "output_type": "execute_result"
    }
   ],
   "source": [
    "meanie.sort_index(axis=0)"
   ]
  },
  {
   "cell_type": "code",
   "execution_count": 71,
   "metadata": {},
   "outputs": [],
   "source": [
    "meanie.sort_index(axis=0).to_csv('output/20210223_COMBO10_NO_SPL3_ComBat_silhouette_leiden_clusters_galore_mean_scores.txt', sep='\\t')"
   ]
  },
  {
   "cell_type": "markdown",
   "metadata": {},
   "source": [
    "---"
   ]
  }
 ],
 "metadata": {
  "kernelspec": {
   "display_name": "Python 3",
   "language": "python",
   "name": "python3"
  },
  "language_info": {
   "codemirror_mode": {
    "name": "ipython",
    "version": 3
   },
   "file_extension": ".py",
   "mimetype": "text/x-python",
   "name": "python",
   "nbconvert_exporter": "python",
   "pygments_lexer": "ipython3",
   "version": "3.8.6"
  },
  "widgets": {
   "application/vnd.jupyter.widget-state+json": {
    "state": {},
    "version_major": 2,
    "version_minor": 0
   }
  }
 },
 "nbformat": 4,
 "nbformat_minor": 4
}
