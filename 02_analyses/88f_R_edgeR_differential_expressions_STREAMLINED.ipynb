{
 "cells": [
  {
   "cell_type": "markdown",
   "metadata": {},
   "source": [
    "#### Streamlined code to run batch'esque \n",
    "#### differential expressions with edgeR\n",
    "---\n",
    "##### hpb29"
   ]
  },
  {
   "cell_type": "markdown",
   "metadata": {},
   "source": [
    "Date: 2021-01-26"
   ]
  },
  {
   "cell_type": "code",
   "execution_count": 1,
   "metadata": {},
   "outputs": [
    {
     "name": "stderr",
     "output_type": "stream",
     "text": [
      "Loading required package: limma\n",
      "\n"
     ]
    }
   ],
   "source": [
    "library(edgeR)\n",
    "library(data.table)"
   ]
  },
  {
   "cell_type": "code",
   "execution_count": null,
   "metadata": {},
   "outputs": [],
   "source": []
  },
  {
   "cell_type": "code",
   "execution_count": 2,
   "metadata": {},
   "outputs": [],
   "source": [
    "countsfile <- 'gene_x_cells_counts_matrix.txt.gz'"
   ]
  },
  {
   "cell_type": "code",
   "execution_count": 3,
   "metadata": {},
   "outputs": [],
   "source": [
    "datadir <- '2020/SLX19841/analysis/matrices/'"
   ]
  },
  {
   "cell_type": "code",
   "execution_count": null,
   "metadata": {},
   "outputs": [],
   "source": []
  },
  {
   "cell_type": "code",
   "execution_count": 4,
   "metadata": {},
   "outputs": [
    {
     "data": {
      "text/plain": [
       "[1] \"2021-01-26 18:37:00 GMT\""
      ]
     },
     "metadata": {},
     "output_type": "display_data"
    },
    {
     "data": {
      "text/plain": [
       "[1] \"2021-01-26 18:37:17 GMT\""
      ]
     },
     "metadata": {},
     "output_type": "display_data"
    }
   ],
   "source": [
    "Sys.time()\n",
    "counts <- fread( paste(datadir, countsfile, sep='') )\n",
    "Sys.time()"
   ]
  },
  {
   "cell_type": "code",
   "execution_count": null,
   "metadata": {},
   "outputs": [],
   "source": []
  },
  {
   "cell_type": "markdown",
   "metadata": {},
   "source": [
    "First column is genes names"
   ]
  },
  {
   "cell_type": "code",
   "execution_count": 5,
   "metadata": {},
   "outputs": [],
   "source": [
    "genes <- counts$V1"
   ]
  },
  {
   "cell_type": "markdown",
   "metadata": {},
   "source": [
    "Header's second element onwards is cell names "
   ]
  },
  {
   "cell_type": "code",
   "execution_count": 6,
   "metadata": {},
   "outputs": [],
   "source": [
    "cells <- colnames(counts)[2:ncol(counts)]"
   ]
  },
  {
   "cell_type": "code",
   "execution_count": null,
   "metadata": {},
   "outputs": [],
   "source": []
  },
  {
   "cell_type": "markdown",
   "metadata": {},
   "source": [
    "Excise the first column"
   ]
  },
  {
   "cell_type": "code",
   "execution_count": 7,
   "metadata": {},
   "outputs": [],
   "source": [
    "counts <- counts[,2:ncol(counts)]"
   ]
  },
  {
   "cell_type": "code",
   "execution_count": 8,
   "metadata": {},
   "outputs": [
    {
     "data": {
      "text/html": [
       "<style>\n",
       ".list-inline {list-style: none; margin:0; padding: 0}\n",
       ".list-inline>li {display: inline-block}\n",
       ".list-inline>li:not(:last-child)::after {content: \"\\00b7\"; padding: 0 .5ex}\n",
       "</style>\n",
       "<ol class=list-inline><li>22656</li><li>16402</li></ol>\n"
      ],
      "text/latex": [
       "\\begin{enumerate*}\n",
       "\\item 22656\n",
       "\\item 16402\n",
       "\\end{enumerate*}\n"
      ],
      "text/markdown": [
       "1. 22656\n",
       "2. 16402\n",
       "\n",
       "\n"
      ],
      "text/plain": [
       "[1] 22656 16402"
      ]
     },
     "metadata": {},
     "output_type": "display_data"
    }
   ],
   "source": [
    "dim(counts)"
   ]
  },
  {
   "cell_type": "code",
   "execution_count": null,
   "metadata": {},
   "outputs": [],
   "source": []
  },
  {
   "cell_type": "markdown",
   "metadata": {},
   "source": [
    "Turn data.table into a data.frame"
   ]
  },
  {
   "cell_type": "code",
   "execution_count": 9,
   "metadata": {},
   "outputs": [],
   "source": [
    "counts_df = setDF(counts)"
   ]
  },
  {
   "cell_type": "code",
   "execution_count": 10,
   "metadata": {},
   "outputs": [
    {
     "data": {
      "text/html": [
       "22656"
      ],
      "text/latex": [
       "22656"
      ],
      "text/markdown": [
       "22656"
      ],
      "text/plain": [
       "[1] 22656"
      ]
     },
     "metadata": {},
     "output_type": "display_data"
    }
   ],
   "source": [
    "length(genes)"
   ]
  },
  {
   "cell_type": "code",
   "execution_count": 11,
   "metadata": {},
   "outputs": [],
   "source": [
    "rownames(counts_df) <- genes"
   ]
  },
  {
   "cell_type": "code",
   "execution_count": null,
   "metadata": {},
   "outputs": [],
   "source": []
  },
  {
   "cell_type": "code",
   "execution_count": null,
   "metadata": {},
   "outputs": [],
   "source": [
    "# gene_mask <- rowSums(counts_df) > 0\n",
    "# sum(gene_mask)\n",
    "\n",
    "# counts_df <-counts_df[gene_mask,]\n",
    "# dim(counts_df)"
   ]
  },
  {
   "cell_type": "code",
   "execution_count": 13,
   "metadata": {},
   "outputs": [],
   "source": [
    "rm(counts)"
   ]
  },
  {
   "cell_type": "code",
   "execution_count": null,
   "metadata": {},
   "outputs": [],
   "source": []
  },
  {
   "cell_type": "code",
   "execution_count": 14,
   "metadata": {},
   "outputs": [],
   "source": [
    "metafile <- 'metadata.txt'"
   ]
  },
  {
   "cell_type": "code",
   "execution_count": 15,
   "metadata": {},
   "outputs": [
    {
     "data": {
      "text/html": [
       "<table>\n",
       "<caption>A data.frame: 6 x 3</caption>\n",
       "<thead>\n",
       "\t<tr><th></th><th scope=col>donor</th><th scope=col>organ</th><th scope=col>cluster</th></tr>\n",
       "\t<tr><th></th><th scope=col>&lt;chr&gt;</th><th scope=col>&lt;chr&gt;</th><th scope=col>&lt;int&gt;</th></tr>\n",
       "</thead>\n",
       "<tbody>\n",
       "\t<tr><th scope=row>_01_AAACCTGCAAGCCGCT.1.1</th><td>DOD1</td><td>BM</td><td>9</td></tr>\n",
       "\t<tr><th scope=row>_01_AAACCTGTCTGGGCCA.1.1</th><td>DOD1</td><td>BM</td><td>6</td></tr>\n",
       "\t<tr><th scope=row>_01_AAACGGGCACATTCGA.1.1</th><td>DOD1</td><td>BM</td><td>6</td></tr>\n",
       "\t<tr><th scope=row>_01_AAAGATGCATCTCCCA.1.1</th><td>DOD1</td><td>BM</td><td>6</td></tr>\n",
       "\t<tr><th scope=row>_01_AAAGTAGAGACGACGT.1.1</th><td>DOD1</td><td>BM</td><td>9</td></tr>\n",
       "\t<tr><th scope=row>_01_AAAGTAGAGCCGATTT.1.1</th><td>DOD1</td><td>BM</td><td>6</td></tr>\n",
       "</tbody>\n",
       "</table>\n"
      ],
      "text/latex": [
       "A data.frame: 6 x 3\n",
       "\\begin{tabular}{r|lll}\n",
       "  & donor & organ & cluster\\\\\n",
       "  & <chr> & <chr> & <int>\\\\\n",
       "\\hline\n",
       "\t\\_01\\_AAACCTGCAAGCCGCT.1.1 & DOD1 & BM & 9\\\\\n",
       "\t\\_01\\_AAACCTGTCTGGGCCA.1.1 & DOD1 & BM & 6\\\\\n",
       "\t\\_01\\_AAACGGGCACATTCGA.1.1 & DOD1 & BM & 6\\\\\n",
       "\t\\_01\\_AAAGATGCATCTCCCA.1.1 & DOD1 & BM & 6\\\\\n",
       "\t\\_01\\_AAAGTAGAGACGACGT.1.1 & DOD1 & BM & 9\\\\\n",
       "\t\\_01\\_AAAGTAGAGCCGATTT.1.1 & DOD1 & BM & 6\\\\\n",
       "\\end{tabular}\n"
      ],
      "text/markdown": [
       "\n",
       "A data.frame: 6 x 3\n",
       "\n",
       "| <!--/--> | donor &lt;chr&gt; | organ &lt;chr&gt; | cluster &lt;int&gt; |\n",
       "|---|---|---|---|\n",
       "| _01_AAACCTGCAAGCCGCT.1.1 | DOD1 | BM | 9 |\n",
       "| _01_AAACCTGTCTGGGCCA.1.1 | DOD1 | BM | 6 |\n",
       "| _01_AAACGGGCACATTCGA.1.1 | DOD1 | BM | 6 |\n",
       "| _01_AAAGATGCATCTCCCA.1.1 | DOD1 | BM | 6 |\n",
       "| _01_AAAGTAGAGACGACGT.1.1 | DOD1 | BM | 9 |\n",
       "| _01_AAAGTAGAGCCGATTT.1.1 | DOD1 | BM | 6 |\n",
       "\n"
      ],
      "text/plain": [
       "                         donor organ cluster\n",
       "_01_AAACCTGCAAGCCGCT.1.1 DOD1  BM    9      \n",
       "_01_AAACCTGTCTGGGCCA.1.1 DOD1  BM    6      \n",
       "_01_AAACGGGCACATTCGA.1.1 DOD1  BM    6      \n",
       "_01_AAAGATGCATCTCCCA.1.1 DOD1  BM    6      \n",
       "_01_AAAGTAGAGACGACGT.1.1 DOD1  BM    9      \n",
       "_01_AAAGTAGAGCCGATTT.1.1 DOD1  BM    6      "
      ]
     },
     "metadata": {},
     "output_type": "display_data"
    }
   ],
   "source": [
    "coldata <- read.table(paste0(datadir, metafile), \n",
    "                      sep='\\t', header=T)\n",
    "\n",
    "rownames(coldata) <- coldata[,1]\n",
    "coldata[,1] <- NULL\n",
    "head(coldata)"
   ]
  },
  {
   "cell_type": "code",
   "execution_count": 16,
   "metadata": {},
   "outputs": [
    {
     "data": {
      "text/html": [
       "<style>\n",
       ".list-inline {list-style: none; margin:0; padding: 0}\n",
       ".list-inline>li {display: inline-block}\n",
       ".list-inline>li:not(:last-child)::after {content: \"\\00b7\"; padding: 0 .5ex}\n",
       "</style>\n",
       "<ol class=list-inline><li>16402</li><li>3</li></ol>\n"
      ],
      "text/latex": [
       "\\begin{enumerate*}\n",
       "\\item 16402\n",
       "\\item 3\n",
       "\\end{enumerate*}\n"
      ],
      "text/markdown": [
       "1. 16402\n",
       "2. 3\n",
       "\n",
       "\n"
      ],
      "text/plain": [
       "[1] 16402     3"
      ]
     },
     "metadata": {},
     "output_type": "display_data"
    }
   ],
   "source": [
    "dim(coldata)"
   ]
  },
  {
   "cell_type": "markdown",
   "metadata": {},
   "source": [
    "---"
   ]
  },
  {
   "cell_type": "code",
   "execution_count": 17,
   "metadata": {},
   "outputs": [],
   "source": [
    "dex_it_out <- function(data, metadata, targets, outbasename){\n",
    "    \n",
    "    cell_subset <- rownames(metadata[ metadata$cluster %in% targets, ])\n",
    "    selection <- data[ , cell_subset ]\n",
    "    coldata_subset <- metadata[cell_subset, ]\n",
    "    \n",
    "    group <- factor(c(coldata_subset$organ)) # hardcoded / Edit this per comparison batch\n",
    "    \n",
    "    y <- DGEList(counts=selection[, cell_subset], group=group)\n",
    "    print(\"Computing norm factors...\")\n",
    "    y <- calcNormFactors(y)\n",
    "    design <- model.matrix(~0+group)\n",
    "    \n",
    "    y <- estimateDisp(y,design)\n",
    "   \n",
    "    # Edit these per comparison batch\n",
    "    # --------------------------------------------------------------------------------\n",
    "    BM_vs_SPL <- makeContrasts( groupBM-groupSPL, levels=design) # hardcoded\n",
    "    \n",
    "    fit <- glmFit(y,   contrast=as.vector(BM_vs_SPL) )\n",
    "    lrt <- glmLRT(fit, contrast=as.vector(BM_vs_SPL) )\n",
    "    # --------------------------------------------------------------------------------\n",
    "    \n",
    "    group_res <- topTags(lrt, sort.by = \"PValue\", adjust.method=\"fdr\", n=dim(lrt$table)[1])\n",
    "\n",
    "    head(group_res)\n",
    "    \n",
    "    saveRDS(lrt, paste0(datadir, outbasename, \"_LRT.rds\"))\n",
    "\n",
    "    write.table(group_res, \n",
    "            file = paste0('output/', outbasename, '_DEx_results.txt'), \n",
    "            row.names = TRUE, quote = FALSE, sep='\\t')\n",
    "    \n",
    "    #trick to handle maximum floating point accuracy\n",
    "    group_res$table$FDR[group_res$table$FDR == 0.000000e+00 ] <- 1e-323\n",
    "    group_res$table$PValue[group_res$table$PValue == 0.000000e+00 ] <- 1e-323\n",
    "    \n",
    "    er <- group_res$table\n",
    "    er$genes <- rownames(er)\n",
    "\n",
    "    er$fcsign <- sign(er$logFC)\n",
    "    er$logP=-log10(er$PValue)\n",
    "    er$metric= er$logP/er$fcsign\n",
    "\n",
    "\n",
    "    final<-er[,c(\"genes\", \"metric\")]\n",
    "    \n",
    "    write.table(na.exclude( final[order(final$metric, decreasing = TRUE), ] ), \n",
    "            file = paste0('output/', outbasename, '.rnk'), \n",
    "            row.names = FALSE, col.names = FALSE, quote = FALSE, sep='\\t')\n",
    "    \n",
    "}"
   ]
  },
  {
   "cell_type": "code",
   "execution_count": null,
   "metadata": {},
   "outputs": [],
   "source": []
  },
  {
   "cell_type": "markdown",
   "metadata": {},
   "source": [
    "e.g.\n",
    "\n",
    "A) BM vs SPL (using DOD1,2,3,4) for: \n",
    "\n",
    "Cluster 2 "
   ]
  },
  {
   "cell_type": "markdown",
   "metadata": {},
   "source": [
    "## Cluster 2"
   ]
  },
  {
   "cell_type": "code",
   "execution_count": 18,
   "metadata": {},
   "outputs": [
    {
     "data": {
      "text/plain": [
       "[1] \"2021-01-26 18:44:05 GMT\""
      ]
     },
     "metadata": {},
     "output_type": "display_data"
    },
    {
     "name": "stdout",
     "output_type": "stream",
     "text": [
      "[1] \"Computing norm factors...\"\n"
     ]
    },
    {
     "data": {
      "text/plain": [
       "[1] \"2021-01-26 18:49:55 GMT\""
      ]
     },
     "metadata": {},
     "output_type": "display_data"
    }
   ],
   "source": [
    "Sys.time()\n",
    "\n",
    "dex_it_out(counts_df, coldata, \n",
    "           c('2'), \n",
    "           '20210126_COMBO10_Cluster2_BM_vs_SPL')\n",
    "\n",
    "Sys.time()"
   ]
  },
  {
   "cell_type": "code",
   "execution_count": null,
   "metadata": {},
   "outputs": [],
   "source": []
  }
 ],
 "metadata": {
  "kernelspec": {
   "display_name": "R",
   "language": "R",
   "name": "ir"
  },
  "language_info": {
   "codemirror_mode": "r",
   "file_extension": ".r",
   "mimetype": "text/x-r-source",
   "name": "R",
   "pygments_lexer": "r",
   "version": "4.0.3"
  },
  "widgets": {
   "application/vnd.jupyter.widget-state+json": {
    "state": {},
    "version_major": 2,
    "version_minor": 0
   }
  }
 },
 "nbformat": 4,
 "nbformat_minor": 4
}
