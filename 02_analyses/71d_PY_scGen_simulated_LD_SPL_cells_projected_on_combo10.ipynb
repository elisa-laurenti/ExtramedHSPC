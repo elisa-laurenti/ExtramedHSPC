{
 "cells": [
  {
   "cell_type": "markdown",
   "metadata": {},
   "source": [
    "### Projection ('PCA densities') of (scGen) simulated LD-SPL cells \n",
    "\n",
    "### on the combined 10 donors (base normalised) dataset reference \n",
    "\n",
    "---\n",
    "##### hpb29"
   ]
  },
  {
   "cell_type": "markdown",
   "metadata": {},
   "source": [
    "Date: 2021-02-09"
   ]
  },
  {
   "cell_type": "code",
   "execution_count": 1,
   "metadata": {},
   "outputs": [],
   "source": [
    "%matplotlib widget\n",
    "\n",
    "import warnings\n",
    "warnings.filterwarnings('ignore')\n",
    "\n",
    "import os, sys, json, operator, getpass\n",
    "from pathlib import Path\n",
    "from datetime import datetime\n",
    "\n",
    "import numpy as np\n",
    "import pandas as pd\n",
    "import scanpy as sc\n",
    "\n",
    "import matplotlib.pyplot as plt\n",
    "from ipywidgets import widgets\n",
    "\n",
    "from scipy.spatial import distance\n",
    "from collections import Counter\n",
    "\n",
    "from scipy import stats"
   ]
  },
  {
   "cell_type": "code",
   "execution_count": 2,
   "metadata": {},
   "outputs": [],
   "source": [
    "home = str(Path.home())\n",
    "user = getpass.getuser()\n",
    "\n",
    "basedir = os.path.join(home, 'datafloor/users', user, '2020/SLX19841/')\n",
    "\n",
    "sc.settings.writedir = os.path.join(basedir, 'analysis/h5ad/')"
   ]
  },
  {
   "cell_type": "code",
   "execution_count": null,
   "metadata": {},
   "outputs": [],
   "source": []
  },
  {
   "cell_type": "code",
   "execution_count": 3,
   "metadata": {},
   "outputs": [],
   "source": [
    "sc.settings.verbosity = 3\n",
    "sc.settings.file_format_figs = 'svg'\n",
    "sc.settings.savefigs = False\n",
    "sc.set_figure_params(dpi=150)"
   ]
  },
  {
   "cell_type": "markdown",
   "metadata": {},
   "source": [
    "---"
   ]
  },
  {
   "cell_type": "markdown",
   "metadata": {},
   "source": [
    "Read reference dataset"
   ]
  },
  {
   "cell_type": "code",
   "execution_count": 4,
   "metadata": {},
   "outputs": [],
   "source": [
    "data = sc.read('COMBO10_NO_SPL3_Seurat3_lognorm')"
   ]
  },
  {
   "cell_type": "markdown",
   "metadata": {},
   "source": [
    "Read predicted dataset (to project on reference)"
   ]
  },
  {
   "cell_type": "code",
   "execution_count": 5,
   "metadata": {},
   "outputs": [],
   "source": [
    "prediction_100e = sc.read('COMBO10_SPL_lognorm_LD_prediction_hvg')"
   ]
  },
  {
   "cell_type": "markdown",
   "metadata": {},
   "source": [
    "##### transfer annotations from dod SPL cells to predicted LD SPL cells"
   ]
  },
  {
   "cell_type": "code",
   "execution_count": 6,
   "metadata": {},
   "outputs": [],
   "source": [
    "prediction_100e.obs = data[data.obs.organ == 'SPL', :].obs.copy()"
   ]
  },
  {
   "cell_type": "markdown",
   "metadata": {},
   "source": [
    "##### re-adjust indexes in order to distinguish from source SPL cells"
   ]
  },
  {
   "cell_type": "code",
   "execution_count": 8,
   "metadata": {},
   "outputs": [],
   "source": [
    "prediction_100e.obs.index = prediction_100e.obs.index.copy()+'.p'"
   ]
  },
  {
   "cell_type": "markdown",
   "metadata": {},
   "source": [
    "##### annotate condition (measured vs predicted)"
   ]
  },
  {
   "cell_type": "code",
   "execution_count": 9,
   "metadata": {},
   "outputs": [],
   "source": [
    "prediction_100e.obs['condition'] = 'pred_SPL'"
   ]
  },
  {
   "cell_type": "markdown",
   "metadata": {},
   "source": [
    "### 'PCA density' projection"
   ]
  },
  {
   "cell_type": "markdown",
   "metadata": {},
   "source": [
    "---"
   ]
  },
  {
   "cell_type": "code",
   "execution_count": 10,
   "metadata": {},
   "outputs": [],
   "source": [
    "data.obs['condition'] = 'reference'"
   ]
  },
  {
   "cell_type": "markdown",
   "metadata": {},
   "source": [
    "##### Concatenate base normalised dataset reference w/ LD-SPL prediction dataset"
   ]
  },
  {
   "cell_type": "code",
   "execution_count": 11,
   "metadata": {},
   "outputs": [
    {
     "name": "stdout",
     "output_type": "stream",
     "text": [
      "CPU times: user 7.61 s, sys: 1.32 s, total: 8.94 s\n",
      "Wall time: 8.94 s\n"
     ]
    }
   ],
   "source": [
    "%%time\n",
    "concat_data = data.concatenate(prediction_100e)"
   ]
  },
  {
   "cell_type": "code",
   "execution_count": 12,
   "metadata": {},
   "outputs": [
    {
     "name": "stdout",
     "output_type": "stream",
     "text": [
      "... as `zero_center=True`, sparse input is densified and may lead to large memory consumption\n",
      "CPU times: user 7.61 s, sys: 1.29 s, total: 8.9 s\n",
      "Wall time: 8.9 s\n"
     ]
    }
   ],
   "source": [
    "%%time\n",
    "sc.pp.scale(concat_data)"
   ]
  },
  {
   "cell_type": "code",
   "execution_count": 13,
   "metadata": {},
   "outputs": [
    {
     "name": "stdout",
     "output_type": "stream",
     "text": [
      "computing PCA\n",
      "    with n_comps=50\n",
      "    finished (0:01:32)\n",
      "CPU times: user 1min 31s, sys: 1.58 s, total: 1min 32s\n",
      "Wall time: 1min 32s\n"
     ]
    }
   ],
   "source": [
    "%%time\n",
    "sc.pp.pca(concat_data, svd_solver='arpack')"
   ]
  },
  {
   "cell_type": "code",
   "execution_count": 14,
   "metadata": {},
   "outputs": [
    {
     "name": "stdout",
     "output_type": "stream",
     "text": [
      "CPU times: user 7min 29s, sys: 1min 14s, total: 8min 43s\n",
      "Wall time: 8min 43s\n"
     ]
    }
   ],
   "source": [
    "%%time\n",
    "X_pca = concat_data.obsm['X_pca']\n",
    "\n",
    "D = distance.squareform(distance.pdist(X_pca, metric='euclidean'))"
   ]
  },
  {
   "cell_type": "markdown",
   "metadata": {},
   "source": [
    "---"
   ]
  },
  {
   "cell_type": "markdown",
   "metadata": {},
   "source": [
    "### Projection densities"
   ]
  },
  {
   "cell_type": "code",
   "execution_count": 48,
   "metadata": {},
   "outputs": [
    {
     "data": {
      "text/plain": [
       "(22068, 117200)"
      ]
     },
     "execution_count": 48,
     "metadata": {},
     "output_type": "execute_result"
    }
   ],
   "source": [
    "distances = {}\n",
    "\n",
    "distances['pred'] = D[len(data.obs_names):len(data.obs_names)+ len(prediction_100e.obs_names), ]\n",
    "distances['pred'] = distances['pred'].T\n",
    "distances['pred'] = distances['pred'][:len(data.obs_names),]\n",
    "distances['pred'] = distances['pred'].T\n",
    "distances['pred'].shape"
   ]
  },
  {
   "cell_type": "code",
   "execution_count": 49,
   "metadata": {},
   "outputs": [],
   "source": [
    "counts = {}\n",
    "\n",
    "top_ones = {}\n",
    "most_freq = {}\n",
    "    \n",
    "# initialize reference counts matrix with zeros\n",
    "counts['pred'] = np.zeros(len(data.obs_names))\n",
    "\n",
    "# 'proportionate' number of neighbors considered...\n",
    "k = int(100000/len(prediction_100e.obs_names))"
   ]
  },
  {
   "cell_type": "code",
   "execution_count": 45,
   "metadata": {},
   "outputs": [
    {
     "data": {
      "text/plain": [
       "4"
      ]
     },
     "execution_count": 45,
     "metadata": {},
     "output_type": "execute_result"
    }
   ],
   "source": [
    "k"
   ]
  },
  {
   "cell_type": "code",
   "execution_count": 50,
   "metadata": {},
   "outputs": [
    {
     "name": "stdout",
     "output_type": "stream",
     "text": [
      "CPU times: user 20.6 s, sys: 2.59 s, total: 23.1 s\n",
      "Wall time: 23.1 s\n"
     ]
    }
   ],
   "source": [
    "%%time\n",
    "# for each of my sample's cells...\n",
    "for j in range(len(prediction_100e.obs_names)):\n",
    "    #print(j)\n",
    "    dists = distances['pred'][j,]\n",
    "    # retrieve indexes of the top (smallest distances) 'k' elements\n",
    "    ind = np.argpartition(dists, k)[:k]\n",
    "\n",
    "    # Get most freq cluster of interest\n",
    "    most = [ data.obs['leiden.1.2'][x] for x  in ind ]\n",
    "    mf = stats.mode(most).mode[0]\n",
    "    most_freq[ prediction_100e.obs_names[j] ] = mf\n",
    "\n",
    "    # Get the closest cluster of interest\n",
    "    closest = ind[np.argmin(distances['pred'][j, ind])]        \n",
    "    g = data.obs['leiden.1.2'][closest]      \n",
    "    top_ones[ prediction_100e.obs_names[j] ] = g\n",
    "\n",
    "    # increment neighbor counter\n",
    "    for i in range(k):\n",
    "        counts['pred'][ind[i]] += 1\n",
    "\n",
    "data.obs['pred_counts'] = counts['pred']"
   ]
  },
  {
   "cell_type": "code",
   "execution_count": null,
   "metadata": {},
   "outputs": [],
   "source": []
  },
  {
   "cell_type": "code",
   "execution_count": 52,
   "metadata": {},
   "outputs": [],
   "source": [
    "prediction_100e.obs['top'] = pd.Series( top_ones )\n",
    "\n",
    "prediction_100e.obs['freq'] = pd.Series( most_freq )"
   ]
  },
  {
   "cell_type": "code",
   "execution_count": null,
   "metadata": {},
   "outputs": [],
   "source": []
  },
  {
   "cell_type": "code",
   "execution_count": 54,
   "metadata": {},
   "outputs": [
    {
     "name": "stderr",
     "output_type": "stream",
     "text": [
      "... storing 'condition' as categorical\n",
      "... storing 'top' as categorical\n",
      "... storing 'freq' as categorical\n"
     ]
    },
    {
     "name": "stdout",
     "output_type": "stream",
     "text": [
      "CPU times: user 23.5 s, sys: 554 ms, total: 24.1 s\n",
      "Wall time: 24.6 s\n"
     ]
    }
   ],
   "source": [
    "%%time\n",
    "sc.write('COMBO10_SPL_lognorm_LD_prediction_hvg_LABEL_TRANSFERED', prediction_100e)"
   ]
  },
  {
   "cell_type": "code",
   "execution_count": null,
   "metadata": {},
   "outputs": [],
   "source": []
  },
  {
   "cell_type": "code",
   "execution_count": 56,
   "metadata": {},
   "outputs": [
    {
     "name": "stdout",
     "output_type": "stream",
     "text": [
      "CPU times: user 2min 25s, sys: 3.95 s, total: 2min 29s\n",
      "Wall time: 2min 37s\n"
     ]
    }
   ],
   "source": [
    "%%time\n",
    "sc.write('COMBO10_NO_SPL3_Seurat3_lognorm_with_density_projections', data)"
   ]
  }
 ],
 "metadata": {
  "finalized": {
   "timestamp": 1611946505989,
   "trusted": true
  },
  "kernelspec": {
   "display_name": "Python 3",
   "language": "python",
   "name": "python3"
  },
  "language_info": {
   "codemirror_mode": {
    "name": "ipython",
    "version": 3
   },
   "file_extension": ".py",
   "mimetype": "text/x-python",
   "name": "python",
   "nbconvert_exporter": "python",
   "pygments_lexer": "ipython3",
   "version": "3.8.6"
  },
  "widgets": {
   "application/vnd.jupyter.widget-state+json": {
    "state": {},
    "version_major": 2,
    "version_minor": 0
   }
  }
 },
 "nbformat": 4,
 "nbformat_minor": 4
}
