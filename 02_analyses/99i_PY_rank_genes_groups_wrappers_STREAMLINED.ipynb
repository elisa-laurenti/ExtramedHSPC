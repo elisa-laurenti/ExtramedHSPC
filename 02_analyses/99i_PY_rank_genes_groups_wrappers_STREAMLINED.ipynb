{
 "cells": [
  {
   "cell_type": "markdown",
   "metadata": {},
   "source": [
    "#### Wrapper functions for scanpy's ``rank_genes_groups`` method\n",
    "#### to facilitate streamlining of several batches of comparisons\n",
    "---\n",
    "hpb29"
   ]
  },
  {
   "cell_type": "code",
   "execution_count": 1,
   "metadata": {},
   "outputs": [],
   "source": [
    "import warnings\n",
    "warnings.filterwarnings('ignore')\n",
    "\n",
    "import os, sys, json, getpass\n",
    "from pathlib import Path\n",
    "from datetime import datetime\n",
    "\n",
    "import numpy as np\n",
    "import pandas as pd\n",
    "import scanpy as sc"
   ]
  },
  {
   "cell_type": "code",
   "execution_count": 2,
   "metadata": {},
   "outputs": [
    {
     "data": {
      "text/plain": [
       "'metztli.25c'"
      ]
     },
     "execution_count": 2,
     "metadata": {},
     "output_type": "execute_result"
    }
   ],
   "source": [
    "with open('/.singularity.d/labels.json') as fh:\n",
    "    singularity = json.load(fh)\n",
    "    \n",
    "singularity['Version']"
   ]
  },
  {
   "cell_type": "code",
   "execution_count": 3,
   "metadata": {},
   "outputs": [
    {
     "name": "stdout",
     "output_type": "stream",
     "text": [
      "20210226\n"
     ]
    }
   ],
   "source": [
    "now = datetime.now()\n",
    "prefix = now.strftime('%Y%m%d')\n",
    "print(prefix)"
   ]
  },
  {
   "cell_type": "code",
   "execution_count": 4,
   "metadata": {},
   "outputs": [],
   "source": [
    "home = str(Path.home())\n",
    "user = getpass.getuser()\n",
    "\n",
    "basedir = os.path.join(home, 'datafloor/users', user, 'EL/Nicole/2020/SLX19841/')\n",
    "\n",
    "sc.settings.writedir = os.path.join(basedir, 'analysis/h5ad/')"
   ]
  },
  {
   "cell_type": "code",
   "execution_count": 5,
   "metadata": {},
   "outputs": [],
   "source": [
    "output_path='./output/'"
   ]
  },
  {
   "cell_type": "code",
   "execution_count": null,
   "metadata": {},
   "outputs": [],
   "source": []
  },
  {
   "cell_type": "code",
   "execution_count": 6,
   "metadata": {},
   "outputs": [],
   "source": [
    "sc.settings.verbosity = 3"
   ]
  },
  {
   "cell_type": "code",
   "execution_count": null,
   "metadata": {},
   "outputs": [],
   "source": []
  },
  {
   "cell_type": "code",
   "execution_count": 7,
   "metadata": {},
   "outputs": [],
   "source": [
    "def save_dex_results(adata, key, grouping, basename, outpath):\n",
    "    \n",
    "    statcols =['gene_name', 'scores', 'logfoldchanges','pvals', 'pvals_adj' ]\n",
    "    \n",
    "    groups = adata.obs[grouping].unique()   \n",
    "    n = adata.shape[1]\n",
    "    \n",
    "    marker_genes_full = {}   \n",
    "    for g in groups:\n",
    "        marker_genes = np.reshape( np.array(adata.uns[key]['names'][g]), (n,1) )\n",
    "       \n",
    "        marker_genes_full.setdefault(g, None )\n",
    "        marker_genes_full[g] = np.reshape( np.array(adata.uns[key]['names'][g]), (n,1) )\n",
    "        marker_genes_full[g] = np.concatenate( [marker_genes_full[g], \n",
    "                                                   np.reshape(adata.uns[key]['scores'][g], (n,1) ) ], axis=1)\n",
    "        marker_genes_full[g] = np.concatenate( [marker_genes_full[g], \n",
    "                                                   np.reshape(adata.uns[key]['logfoldchanges'][g], (n,1) ) ], axis=1)\n",
    "        marker_genes_full[g] = np.concatenate( [marker_genes_full[g], \n",
    "                                                   np.reshape(adata.uns[key]['pvals'][g], (n,1) ) ], axis=1)\n",
    "        marker_genes_full[g] = np.concatenate( [marker_genes_full[g], \n",
    "                                                   np.reshape(adata.uns[key]['pvals_adj'][g], (n,1) ) ], axis=1)   \n",
    "\n",
    "    for c in marker_genes_full.keys():\n",
    "        temp = pd.DataFrame(marker_genes_full[c], columns=statcols)   \n",
    "        temp.to_csv( os.path.join(outpath,  \n",
    "                    prefix+basename+key+'_group_'+c+'.txt'), \n",
    "                    index=None, sep='\\t')"
   ]
  },
  {
   "cell_type": "code",
   "execution_count": 8,
   "metadata": {},
   "outputs": [],
   "source": [
    "def export_top_n_diff_genes(adata, key, groups, n, basename, outpath):\n",
    "  \n",
    "    marker_genes = np.reshape( np.array(adata.uns[key]['names'][groups[0]][:n]  ), (n,1) )\n",
    "\n",
    "    for c in groups[1:]:\n",
    "        marker_genes = np.concatenate( [marker_genes, np.reshape(adata.uns[key]['names'][c][:n], (n,1) ) ], axis=1)\n",
    "\n",
    "    markers_frame = pd.DataFrame( marker_genes, columns=groups )\n",
    "\n",
    "    markers_frame.to_csv(os.path.join(outpath,\n",
    "                         # note: prefix is being read as a global variable\n",
    "                         prefix+basename+key+'_top'+str(n)+'_gene_markers.txt'), \n",
    "                         index=None, sep='\\t')"
   ]
  },
  {
   "cell_type": "code",
   "execution_count": 9,
   "metadata": {},
   "outputs": [],
   "source": [
    "def bundled_DEx_shenanigans(adata, group, key, bname, outpath, n_top_markers=100):\n",
    "    \n",
    "    # take note of hard-coded variables (and adjust if necessary)\n",
    "    \n",
    "    sc.tl.rank_genes_groups(adata, \n",
    "                        groupby=group,\n",
    "                        key_added=key,\n",
    "                        method='wilcoxon', \n",
    "                        tie_correct=True,     \n",
    "                        use_raw=False)\n",
    "    \n",
    "    save_dex_results(adata, key, group, bname, outpath)\n",
    "    \n",
    "    targets = adata.obs[group].unique()\n",
    "    export_top_n_diff_genes(adata, key, targets, n_top_markers, bname, outpath)"
   ]
  },
  {
   "cell_type": "code",
   "execution_count": null,
   "metadata": {},
   "outputs": [],
   "source": []
  },
  {
   "cell_type": "code",
   "execution_count": null,
   "metadata": {},
   "outputs": [],
   "source": []
  },
  {
   "cell_type": "markdown",
   "metadata": {},
   "source": [
    "e.g.\n",
    "- DEGs using Wilcoxon BM vs LD-PB \n",
    "\n",
    "  universe: combined cells from clusters 10, 12 and 2 \n",
    "\n"
   ]
  },
  {
   "cell_type": "markdown",
   "metadata": {},
   "source": [
    "read data"
   ]
  },
  {
   "cell_type": "code",
   "execution_count": 10,
   "metadata": {},
   "outputs": [],
   "source": [
    "reference = sc.read('COMBO10_NO_SPL3_Seurat3_lognorm')"
   ]
  },
  {
   "cell_type": "markdown",
   "metadata": {},
   "source": [
    "annotate appropriately for desired comparison"
   ]
  },
  {
   "cell_type": "code",
   "execution_count": 16,
   "metadata": {},
   "outputs": [],
   "source": [
    "dods = ['DOD1', 'DOD2', 'DOD3', 'DOD4']\n",
    "\n",
    "reference.obs['state'] = reference.obs.apply(lambda x: 'DOD_'+x[5] if x[4] in dods else 'LD_'+x[5], \n",
    "                                             axis=1)"
   ]
  },
  {
   "cell_type": "markdown",
   "metadata": {},
   "source": [
    "subset your target universe"
   ]
  },
  {
   "cell_type": "code",
   "execution_count": 17,
   "metadata": {},
   "outputs": [
    {
     "data": {
      "text/plain": [
       "(14452, 24332)"
      ]
     },
     "execution_count": 17,
     "metadata": {},
     "output_type": "execute_result"
    }
   ],
   "source": [
    "selection = reference[np.logical_and(reference.obs['leiden.1.2'].isin(['10', '12', '2']),\n",
    "                         reference.obs.state.isin(['DOD_BM', 'LD_PB']) ), :].copy()\n",
    "selection.shape"
   ]
  },
  {
   "cell_type": "markdown",
   "metadata": {},
   "source": [
    "runs the comparisons"
   ]
  },
  {
   "cell_type": "code",
   "execution_count": 18,
   "metadata": {},
   "outputs": [],
   "source": [
    "basename = '_COMBO10_WRS_cls_10_12_2_BM_LDPB_'"
   ]
  },
  {
   "cell_type": "code",
   "execution_count": 19,
   "metadata": {},
   "outputs": [
    {
     "name": "stdout",
     "output_type": "stream",
     "text": [
      "ranking genes\n"
     ]
    },
    {
     "name": "stderr",
     "output_type": "stream",
     "text": [
      "... storing 'state' as categorical\n"
     ]
    },
    {
     "name": "stdout",
     "output_type": "stream",
     "text": [
      "    finished: added to `.uns['DEx_a']`\n",
      "    'names', sorted np.recarray to be indexed by group ids\n",
      "    'scores', sorted np.recarray to be indexed by group ids\n",
      "    'logfoldchanges', sorted np.recarray to be indexed by group ids\n",
      "    'pvals', sorted np.recarray to be indexed by group ids\n",
      "    'pvals_adj', sorted np.recarray to be indexed by group ids (0:01:06)\n"
     ]
    }
   ],
   "source": [
    "bundled_DEx_shenanigans(adata=selection, \n",
    "                        group='state', \n",
    "                        key='DEx_a',\n",
    "                        bname=basename, \n",
    "                        outpath=output_path,\n",
    "                        n_top_markers=100)"
   ]
  },
  {
   "cell_type": "code",
   "execution_count": null,
   "metadata": {},
   "outputs": [],
   "source": []
  }
 ],
 "metadata": {
  "kernelspec": {
   "display_name": "Python 3",
   "language": "python",
   "name": "python3"
  },
  "language_info": {
   "codemirror_mode": {
    "name": "ipython",
    "version": 3
   },
   "file_extension": ".py",
   "mimetype": "text/x-python",
   "name": "python",
   "nbconvert_exporter": "python",
   "pygments_lexer": "ipython3",
   "version": "3.8.6"
  },
  "widgets": {
   "application/vnd.jupyter.widget-state+json": {
    "state": {},
    "version_major": 2,
    "version_minor": 0
   }
  }
 },
 "nbformat": 4,
 "nbformat_minor": 4
}
