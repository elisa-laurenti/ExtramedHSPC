{
 "cells": [
  {
   "cell_type": "markdown",
   "metadata": {},
   "source": [
    "# Seurat integration of PB HSC/MPP cells"
   ]
  },
  {
   "cell_type": "code",
   "execution_count": 1,
   "metadata": {
    "collapsed": true,
    "jupyter": {
     "outputs_hidden": true
    }
   },
   "outputs": [
    {
     "name": "stderr",
     "output_type": "stream",
     "text": [
      "Registered S3 method overwritten by 'spatstat.geom':\n",
      "  method     from\n",
      "  print.boxx cli \n",
      "\n",
      "Attaching SeuratObject\n",
      "\n",
      "Loading required package: SingleCellExperiment\n",
      "\n",
      "Loading required package: SummarizedExperiment\n",
      "\n",
      "Loading required package: MatrixGenerics\n",
      "\n",
      "Loading required package: matrixStats\n",
      "\n",
      "\n",
      "Attaching package: 'MatrixGenerics'\n",
      "\n",
      "\n",
      "The following objects are masked from 'package:matrixStats':\n",
      "\n",
      "    colAlls, colAnyNAs, colAnys, colAvgsPerRowSet, colCollapse,\n",
      "    colCounts, colCummaxs, colCummins, colCumprods, colCumsums,\n",
      "    colDiffs, colIQRDiffs, colIQRs, colLogSumExps, colMadDiffs,\n",
      "    colMads, colMaxs, colMeans2, colMedians, colMins, colOrderStats,\n",
      "    colProds, colQuantiles, colRanges, colRanks, colSdDiffs, colSds,\n",
      "    colSums2, colTabulates, colVarDiffs, colVars, colWeightedMads,\n",
      "    colWeightedMeans, colWeightedMedians, colWeightedSds,\n",
      "    colWeightedVars, rowAlls, rowAnyNAs, rowAnys, rowAvgsPerColSet,\n",
      "    rowCollapse, rowCounts, rowCummaxs, rowCummins, rowCumprods,\n",
      "    rowCumsums, rowDiffs, rowIQRDiffs, rowIQRs, rowLogSumExps,\n",
      "    rowMadDiffs, rowMads, rowMaxs, rowMeans2, rowMedians, rowMins,\n",
      "    rowOrderStats, rowProds, rowQuantiles, rowRanges, rowRanks,\n",
      "    rowSdDiffs, rowSds, rowSums2, rowTabulates, rowVarDiffs, rowVars,\n",
      "    rowWeightedMads, rowWeightedMeans, rowWeightedMedians,\n",
      "    rowWeightedSds, rowWeightedVars\n",
      "\n",
      "\n",
      "Loading required package: GenomicRanges\n",
      "\n",
      "Loading required package: stats4\n",
      "\n",
      "Loading required package: BiocGenerics\n",
      "\n",
      "Loading required package: parallel\n",
      "\n",
      "\n",
      "Attaching package: 'BiocGenerics'\n",
      "\n",
      "\n",
      "The following objects are masked from 'package:parallel':\n",
      "\n",
      "    clusterApply, clusterApplyLB, clusterCall, clusterEvalQ,\n",
      "    clusterExport, clusterMap, parApply, parCapply, parLapply,\n",
      "    parLapplyLB, parRapply, parSapply, parSapplyLB\n",
      "\n",
      "\n",
      "The following objects are masked from 'package:stats':\n",
      "\n",
      "    IQR, mad, sd, var, xtabs\n",
      "\n",
      "\n",
      "The following objects are masked from 'package:base':\n",
      "\n",
      "    Filter, Find, Map, Position, Reduce, anyDuplicated, append,\n",
      "    as.data.frame, basename, cbind, colnames, dirname, do.call,\n",
      "    duplicated, eval, evalq, get, grep, grepl, intersect, is.unsorted,\n",
      "    lapply, mapply, match, mget, order, paste, pmax, pmax.int, pmin,\n",
      "    pmin.int, rank, rbind, rownames, sapply, setdiff, sort, table,\n",
      "    tapply, union, unique, unsplit, which.max, which.min\n",
      "\n",
      "\n",
      "Loading required package: S4Vectors\n",
      "\n",
      "\n",
      "Attaching package: 'S4Vectors'\n",
      "\n",
      "\n",
      "The following object is masked from 'package:future':\n",
      "\n",
      "    values\n",
      "\n",
      "\n",
      "The following object is masked from 'package:base':\n",
      "\n",
      "    expand.grid\n",
      "\n",
      "\n",
      "Loading required package: IRanges\n",
      "\n",
      "Loading required package: GenomeInfoDb\n",
      "\n",
      "Loading required package: Biobase\n",
      "\n",
      "Welcome to Bioconductor\n",
      "\n",
      "    Vignettes contain introductory material; view with\n",
      "    'browseVignettes()'. To cite Bioconductor, see\n",
      "    'citation(\"Biobase\")', and for packages 'citation(\"pkgname\")'.\n",
      "\n",
      "\n",
      "\n",
      "Attaching package: 'Biobase'\n",
      "\n",
      "\n",
      "The following object is masked from 'package:MatrixGenerics':\n",
      "\n",
      "    rowMedians\n",
      "\n",
      "\n",
      "The following objects are masked from 'package:matrixStats':\n",
      "\n",
      "    anyMissing, rowMedians\n",
      "\n",
      "\n",
      "\n",
      "Attaching package: 'SummarizedExperiment'\n",
      "\n",
      "\n",
      "The following object is masked from 'package:SeuratObject':\n",
      "\n",
      "    Assays\n",
      "\n",
      "\n",
      "The following object is masked from 'package:Seurat':\n",
      "\n",
      "    Assays\n",
      "\n",
      "\n",
      "Loading required package: ggplot2\n",
      "\n"
     ]
    }
   ],
   "source": [
    "library(Seurat)\n",
    "library(future)\n",
    "library(anndata)\n",
    "library(batchelor)\n",
    "library(scater)"
   ]
  },
  {
   "cell_type": "code",
   "execution_count": null,
   "metadata": {},
   "outputs": [],
   "source": []
  },
  {
   "cell_type": "code",
   "execution_count": 2,
   "metadata": {},
   "outputs": [],
   "source": [
    "plan(strategy = \"multicore\", workers = 4)\n",
    "\n",
    "options(future.globals.maxSize = +Inf)"
   ]
  },
  {
   "cell_type": "code",
   "execution_count": null,
   "metadata": {},
   "outputs": [],
   "source": []
  },
  {
   "cell_type": "code",
   "execution_count": 3,
   "metadata": {},
   "outputs": [],
   "source": [
    "data.path = '2021/BloodPaper/h5ad/'\n",
    "\n",
    "infile <- paste0(data.path, '20211203_COMBO10_PB_HSCMPP_counts.h5ad')"
   ]
  },
  {
   "cell_type": "code",
   "execution_count": null,
   "metadata": {},
   "outputs": [],
   "source": []
  },
  {
   "cell_type": "code",
   "execution_count": 5,
   "metadata": {},
   "outputs": [
    {
     "data": {
      "text/plain": [
       "[1] \"2021-12-03 14:09:33 GMT\""
      ]
     },
     "metadata": {},
     "output_type": "display_data"
    },
    {
     "data": {
      "text/plain": [
       "[1] \"2021-12-03 14:09:39 GMT\""
      ]
     },
     "metadata": {},
     "output_type": "display_data"
    }
   ],
   "source": [
    "Sys.time()\n",
    "data = read_h5ad(infile)\n",
    "Sys.time()"
   ]
  },
  {
   "cell_type": "code",
   "execution_count": 6,
   "metadata": {},
   "outputs": [
    {
     "data": {
      "text/plain": [
       "AnnData object with n_obs <U+00D7> n_vars = 14978 <U+00D7> 24310\n",
       "    obs: 'batch', 'n_counts', 'n_genes', 'mitoc_fraction', 'doublet_score', 'library', 'donor', 'organ', 'leiden.1.2', 'silhouette.1.2', 'dpt_pseudotime', 'dpt_pseudotime_rank', 'S_score', 'G2M_score', 'phase', 'annot'\n",
       "    var: 'gene_ids', 'n_cells', 'highly_variable', 'means', 'dispersions', 'dispersions_norm', 'mean', 'std'\n",
       "    uns: 'dex_leiden_1_2', 'diffmap_evals', 'donor_colors', 'draw_graph', 'hvg', 'iroot', 'leiden', 'leiden.1.2_colors', 'log1p', 'neighbors', 'phase_colors'\n",
       "    obsm: 'X_diffmap', 'X_draw_graph_fa', 'X_pca', 'X_umap'\n",
       "    layers: 'counts', 'lognorm'\n",
       "    obsp: 'connectivities', 'distances'"
      ]
     },
     "metadata": {},
     "output_type": "display_data"
    }
   ],
   "source": [
    "data"
   ]
  },
  {
   "cell_type": "code",
   "execution_count": null,
   "metadata": {},
   "outputs": [],
   "source": []
  },
  {
   "cell_type": "code",
   "execution_count": 7,
   "metadata": {},
   "outputs": [
    {
     "data": {
      "text/plain": [
       "[1] \"2021-12-03 14:10:07 GMT\""
      ]
     },
     "metadata": {},
     "output_type": "display_data"
    },
    {
     "data": {
      "text/plain": [
       "[1] \"2021-12-03 14:10:14 GMT\""
      ]
     },
     "metadata": {},
     "output_type": "display_data"
    }
   ],
   "source": [
    "Sys.time()\n",
    "\n",
    "obj <- SingleCellExperiment( assays = List(counts = as(t(data$X), \"CsparseMatrix\")),\n",
    "                              colData=data$obs,\n",
    "                              rowData=data$var\n",
    "                           )\n",
    "\n",
    "Sys.time()"
   ]
  },
  {
   "cell_type": "code",
   "execution_count": null,
   "metadata": {},
   "outputs": [],
   "source": []
  },
  {
   "cell_type": "code",
   "execution_count": 8,
   "metadata": {},
   "outputs": [
    {
     "data": {
      "text/plain": [
       "[1] \"2021-12-03 14:10:19 GMT\""
      ]
     },
     "metadata": {},
     "output_type": "display_data"
    },
    {
     "name": "stderr",
     "output_type": "stream",
     "text": [
      "Warning message:\n",
      "\"Feature names cannot have underscores ('_'), replacing with dashes ('-')\"\n",
      "Warning message:\n",
      "\"Feature names cannot have underscores ('_'), replacing with dashes ('-')\"\n"
     ]
    },
    {
     "data": {
      "text/plain": [
       "[1] \"2021-12-03 14:10:20 GMT\""
      ]
     },
     "metadata": {},
     "output_type": "display_data"
    }
   ],
   "source": [
    "Sys.time()\n",
    "obj = as.Seurat(obj, data = 'counts') \n",
    "Sys.time()"
   ]
  },
  {
   "cell_type": "code",
   "execution_count": null,
   "metadata": {},
   "outputs": [],
   "source": []
  },
  {
   "cell_type": "code",
   "execution_count": 9,
   "metadata": {},
   "outputs": [
    {
     "data": {
      "text/plain": [
       "An object of class Seurat \n",
       "24310 features across 14978 samples within 1 assay \n",
       "Active assay: originalexp (24310 features, 0 variable features)"
      ]
     },
     "metadata": {},
     "output_type": "display_data"
    }
   ],
   "source": [
    "obj"
   ]
  },
  {
   "cell_type": "code",
   "execution_count": null,
   "metadata": {},
   "outputs": [],
   "source": []
  },
  {
   "cell_type": "markdown",
   "metadata": {},
   "source": [
    "---"
   ]
  },
  {
   "cell_type": "markdown",
   "metadata": {},
   "source": [
    "---"
   ]
  },
  {
   "cell_type": "code",
   "execution_count": null,
   "metadata": {},
   "outputs": [],
   "source": []
  },
  {
   "cell_type": "code",
   "execution_count": 13,
   "metadata": {},
   "outputs": [],
   "source": [
    "data.rds = '2021/BloodPaper/rds/'"
   ]
  },
  {
   "cell_type": "code",
   "execution_count": 14,
   "metadata": {},
   "outputs": [
    {
     "data": {
      "text/plain": [
       "[1] \"2021-12-03 14:11:40 GMT\""
      ]
     },
     "metadata": {},
     "output_type": "display_data"
    },
    {
     "data": {
      "text/plain": [
       "[1] \"2021-12-03 14:12:06 GMT\""
      ]
     },
     "metadata": {},
     "output_type": "display_data"
    }
   ],
   "source": [
    "Sys.time()\n",
    "saveRDS(file = paste0(data.rds, '20211203_COMBO_only_PB_HSCMPP_filtered_counts_Seurat3_input_obj.rds'), obj)\n",
    "Sys.time()"
   ]
  },
  {
   "cell_type": "code",
   "execution_count": null,
   "metadata": {},
   "outputs": [],
   "source": []
  },
  {
   "cell_type": "code",
   "execution_count": 15,
   "metadata": {},
   "outputs": [],
   "source": [
    "rm(data)\n",
    "rm(obj)"
   ]
  },
  {
   "cell_type": "code",
   "execution_count": null,
   "metadata": {},
   "outputs": [],
   "source": []
  },
  {
   "cell_type": "code",
   "execution_count": 18,
   "metadata": {},
   "outputs": [],
   "source": [
    "data.path = '2021/BloodPaper/'"
   ]
  },
  {
   "cell_type": "code",
   "execution_count": 19,
   "metadata": {},
   "outputs": [],
   "source": [
    "data <- readRDS(file = paste0(data.path, 'rds/20211203_COMBO_only_PB_HSCMPP_filtered_counts_Seurat3_input_obj.rds') ) \n",
    "\n",
    "\n",
    "data.list <- SplitObject(object = data, split.by = \"donor\")\n",
    "\n",
    "\n",
    "for (i in 1:length(x = data.list)) {\n",
    "    data.list[[i]] <- NormalizeData(object = data.list[[i]], verbose = FALSE)\n",
    "    data.list[[i]] <- FindVariableFeatures(object = data.list[[i]], \n",
    "        selection.method = \"vst\", nfeatures = 3000, verbose = FALSE)\n",
    "}\n",
    "\n",
    "reference.list <- data.list[ c(\"DOD1\", \"DOD2\", \"TQ198\", \"BP62j\",\n",
    "                               \"BP37d\", \"BP74\", \"BP1c\", \"BP59h\") ]"
   ]
  },
  {
   "cell_type": "code",
   "execution_count": null,
   "metadata": {},
   "outputs": [],
   "source": []
  },
  {
   "cell_type": "code",
   "execution_count": 20,
   "metadata": {},
   "outputs": [
    {
     "data": {
      "text/plain": [
       "[1] \"2021-12-03 14:17:25 GMT\""
      ]
     },
     "metadata": {},
     "output_type": "display_data"
    },
    {
     "name": "stderr",
     "output_type": "stream",
     "text": [
      "Computing 2000 integration features\n",
      "\n",
      "Scaling features for provided objects\n",
      "\n",
      "Finding all pairwise anchors\n",
      "\n",
      "Running CCA\n",
      "\n",
      "Merging objects\n",
      "\n",
      "Finding neighborhoods\n",
      "\n",
      "Finding anchors\n",
      "\n",
      "\tFound 4868 anchors\n",
      "\n",
      "Filtering anchors\n",
      "\n",
      "\tRetained 1505 anchors\n",
      "\n",
      "Running CCA\n",
      "\n",
      "Merging objects\n",
      "\n",
      "Finding neighborhoods\n",
      "\n",
      "Finding anchors\n",
      "\n",
      "\tFound 3798 anchors\n",
      "\n",
      "Filtering anchors\n",
      "\n",
      "\tRetained 1697 anchors\n",
      "\n",
      "Running CCA\n",
      "\n",
      "Merging objects\n",
      "\n",
      "Finding neighborhoods\n",
      "\n",
      "Finding anchors\n",
      "\n",
      "\tFound 4719 anchors\n",
      "\n",
      "Filtering anchors\n",
      "\n",
      "\tRetained 2048 anchors\n",
      "\n",
      "Running CCA\n",
      "\n",
      "Merging objects\n",
      "\n",
      "Finding neighborhoods\n",
      "\n",
      "Finding anchors\n",
      "\n",
      "\tFound 4761 anchors\n",
      "\n",
      "Filtering anchors\n",
      "\n",
      "\tRetained 1346 anchors\n",
      "\n",
      "Running CCA\n",
      "\n",
      "Merging objects\n",
      "\n",
      "Finding neighborhoods\n",
      "\n",
      "Finding anchors\n",
      "\n",
      "\tFound 7859 anchors\n",
      "\n",
      "Filtering anchors\n",
      "\n",
      "\tRetained 2249 anchors\n",
      "\n",
      "Running CCA\n",
      "\n",
      "Merging objects\n",
      "\n",
      "Finding neighborhoods\n",
      "\n",
      "Finding anchors\n",
      "\n",
      "\tFound 4570 anchors\n",
      "\n",
      "Filtering anchors\n",
      "\n",
      "\tRetained 1745 anchors\n",
      "\n",
      "Running CCA\n",
      "\n",
      "Merging objects\n",
      "\n",
      "Finding neighborhoods\n",
      "\n",
      "Finding anchors\n",
      "\n",
      "\tFound 4212 anchors\n",
      "\n",
      "Filtering anchors\n",
      "\n",
      "\tRetained 1720 anchors\n",
      "\n",
      "Running CCA\n",
      "\n",
      "Merging objects\n",
      "\n",
      "Finding neighborhoods\n",
      "\n",
      "Finding anchors\n",
      "\n",
      "\tFound 5825 anchors\n",
      "\n",
      "Filtering anchors\n",
      "\n",
      "\tRetained 2247 anchors\n",
      "\n",
      "Running CCA\n",
      "\n",
      "Merging objects\n",
      "\n",
      "Finding neighborhoods\n",
      "\n",
      "Finding anchors\n",
      "\n",
      "\tFound 4035 anchors\n",
      "\n",
      "Filtering anchors\n",
      "\n",
      "\tRetained 2092 anchors\n",
      "\n",
      "Running CCA\n",
      "\n",
      "Merging objects\n",
      "\n",
      "Finding neighborhoods\n",
      "\n",
      "Finding anchors\n",
      "\n",
      "\tFound 5592 anchors\n",
      "\n",
      "Filtering anchors\n",
      "\n",
      "\tRetained 3147 anchors\n",
      "\n",
      "Running CCA\n",
      "\n",
      "Merging objects\n",
      "\n",
      "Finding neighborhoods\n",
      "\n",
      "Finding anchors\n",
      "\n",
      "\tFound 4330 anchors\n",
      "\n",
      "Filtering anchors\n",
      "\n",
      "\tRetained 1849 anchors\n",
      "\n",
      "Running CCA\n",
      "\n",
      "Merging objects\n",
      "\n",
      "Finding neighborhoods\n",
      "\n",
      "Finding anchors\n",
      "\n",
      "\tFound 6210 anchors\n",
      "\n",
      "Filtering anchors\n",
      "\n",
      "\tRetained 2702 anchors\n",
      "\n",
      "Running CCA\n",
      "\n",
      "Merging objects\n",
      "\n",
      "Finding neighborhoods\n",
      "\n",
      "Finding anchors\n",
      "\n",
      "\tFound 4184 anchors\n",
      "\n",
      "Filtering anchors\n",
      "\n",
      "\tRetained 2251 anchors\n",
      "\n",
      "Running CCA\n",
      "\n",
      "Merging objects\n",
      "\n",
      "Finding neighborhoods\n",
      "\n",
      "Finding anchors\n",
      "\n",
      "\tFound 5964 anchors\n",
      "\n",
      "Filtering anchors\n",
      "\n",
      "\tRetained 3477 anchors\n",
      "\n",
      "Running CCA\n",
      "\n",
      "Merging objects\n",
      "\n",
      "Finding neighborhoods\n",
      "\n",
      "Finding anchors\n",
      "\n",
      "\tFound 4895 anchors\n",
      "\n",
      "Filtering anchors\n",
      "\n",
      "\tRetained 2668 anchors\n",
      "\n",
      "Running CCA\n",
      "\n",
      "Merging objects\n",
      "\n",
      "Finding neighborhoods\n",
      "\n",
      "Finding anchors\n",
      "\n",
      "\tFound 5105 anchors\n",
      "\n",
      "Filtering anchors\n",
      "\n",
      "\tRetained 708 anchors\n",
      "\n",
      "Running CCA\n",
      "\n",
      "Merging objects\n",
      "\n",
      "Finding neighborhoods\n",
      "\n",
      "Finding anchors\n",
      "\n",
      "\tFound 10191 anchors\n",
      "\n",
      "Filtering anchors\n",
      "\n",
      "\tRetained 1493 anchors\n",
      "\n",
      "Running CCA\n",
      "\n",
      "Merging objects\n",
      "\n",
      "Finding neighborhoods\n",
      "\n",
      "Finding anchors\n",
      "\n",
      "\tFound 4863 anchors\n",
      "\n",
      "Filtering anchors\n",
      "\n",
      "\tRetained 815 anchors\n",
      "\n",
      "Running CCA\n",
      "\n",
      "Merging objects\n",
      "\n",
      "Finding neighborhoods\n",
      "\n",
      "Finding anchors\n",
      "\n",
      "\tFound 9279 anchors\n",
      "\n",
      "Filtering anchors\n",
      "\n",
      "\tRetained 1724 anchors\n",
      "\n",
      "Running CCA\n",
      "\n",
      "Merging objects\n",
      "\n",
      "Finding neighborhoods\n",
      "\n",
      "Finding anchors\n",
      "\n",
      "\tFound 6184 anchors\n",
      "\n",
      "Filtering anchors\n",
      "\n",
      "\tRetained 1173 anchors\n",
      "\n",
      "Running CCA\n",
      "\n",
      "Merging objects\n",
      "\n",
      "Finding neighborhoods\n",
      "\n",
      "Finding anchors\n",
      "\n",
      "\tFound 6843 anchors\n",
      "\n",
      "Filtering anchors\n",
      "\n",
      "\tRetained 1268 anchors\n",
      "\n",
      "Running CCA\n",
      "\n",
      "Merging objects\n",
      "\n",
      "Finding neighborhoods\n",
      "\n",
      "Finding anchors\n",
      "\n",
      "\tFound 4695 anchors\n",
      "\n",
      "Filtering anchors\n",
      "\n",
      "\tRetained 1437 anchors\n",
      "\n",
      "Running CCA\n",
      "\n",
      "Merging objects\n",
      "\n",
      "Finding neighborhoods\n",
      "\n",
      "Finding anchors\n",
      "\n",
      "\tFound 7468 anchors\n",
      "\n",
      "Filtering anchors\n",
      "\n",
      "\tRetained 2206 anchors\n",
      "\n",
      "Running CCA\n",
      "\n",
      "Merging objects\n",
      "\n",
      "Finding neighborhoods\n",
      "\n",
      "Finding anchors\n",
      "\n",
      "\tFound 4510 anchors\n",
      "\n",
      "Filtering anchors\n",
      "\n",
      "\tRetained 1667 anchors\n",
      "\n",
      "Running CCA\n",
      "\n",
      "Merging objects\n",
      "\n",
      "Finding neighborhoods\n",
      "\n",
      "Finding anchors\n",
      "\n",
      "\tFound 6988 anchors\n",
      "\n",
      "Filtering anchors\n",
      "\n",
      "\tRetained 2882 anchors\n",
      "\n",
      "Running CCA\n",
      "\n",
      "Merging objects\n",
      "\n",
      "Finding neighborhoods\n",
      "\n",
      "Finding anchors\n",
      "\n",
      "\tFound 5386 anchors\n",
      "\n",
      "Filtering anchors\n",
      "\n",
      "\tRetained 2308 anchors\n",
      "\n",
      "Running CCA\n",
      "\n",
      "Merging objects\n",
      "\n",
      "Finding neighborhoods\n",
      "\n",
      "Finding anchors\n",
      "\n",
      "\tFound 5755 anchors\n",
      "\n",
      "Filtering anchors\n",
      "\n",
      "\tRetained 2457 anchors\n",
      "\n",
      "Running CCA\n",
      "\n",
      "Merging objects\n",
      "\n",
      "Finding neighborhoods\n",
      "\n",
      "Finding anchors\n",
      "\n",
      "\tFound 8539 anchors\n",
      "\n",
      "Filtering anchors\n",
      "\n",
      "\tRetained 3229 anchors\n",
      "\n"
     ]
    },
    {
     "data": {
      "text/plain": [
       "[1] \"2021-12-03 14:21:11 GMT\""
      ]
     },
     "metadata": {},
     "output_type": "display_data"
    }
   ],
   "source": [
    "# find anchors                               \n",
    "Sys.time()\n",
    "data.anchors <- FindIntegrationAnchors(object.list = reference.list, dims = 1:15\n",
    "                                        )\n",
    "Sys.time()"
   ]
  },
  {
   "cell_type": "code",
   "execution_count": null,
   "metadata": {},
   "outputs": [],
   "source": []
  },
  {
   "cell_type": "code",
   "execution_count": 21,
   "metadata": {},
   "outputs": [],
   "source": [
    "saveRDS(file = paste0(data.path, 'rds/20211203_COMBO_only_PB_HSCMPP_Seurat3_VST_classic_anchors.rds'), data.anchors)        "
   ]
  },
  {
   "cell_type": "code",
   "execution_count": null,
   "metadata": {},
   "outputs": [],
   "source": []
  },
  {
   "cell_type": "code",
   "execution_count": 22,
   "metadata": {},
   "outputs": [
    {
     "data": {
      "text/plain": [
       "[1] \"2021-12-03 14:35:10 GMT\""
      ]
     },
     "metadata": {},
     "output_type": "display_data"
    },
    {
     "name": "stderr",
     "output_type": "stream",
     "text": [
      "Merging dataset 5 into 4\n",
      "\n",
      "Extracting anchors for merged samples\n",
      "\n",
      "Finding integration vectors\n",
      "\n",
      "Finding integration vector weights\n",
      "\n",
      "Integrating data\n",
      "\n",
      "Merging dataset 3 into 6\n",
      "\n",
      "Extracting anchors for merged samples\n",
      "\n",
      "Finding integration vectors\n",
      "\n",
      "Finding integration vector weights\n",
      "\n",
      "Integrating data\n",
      "\n",
      "Merging dataset 6 3 into 2\n",
      "\n",
      "Extracting anchors for merged samples\n",
      "\n",
      "Finding integration vectors\n",
      "\n",
      "Finding integration vector weights\n",
      "\n",
      "Integrating data\n",
      "\n",
      "Merging dataset 8 into 7\n",
      "\n",
      "Extracting anchors for merged samples\n",
      "\n",
      "Finding integration vectors\n",
      "\n",
      "Finding integration vector weights\n",
      "\n",
      "Integrating data\n",
      "\n",
      "Merging dataset 1 into 2 6 3\n",
      "\n",
      "Extracting anchors for merged samples\n",
      "\n",
      "Finding integration vectors\n",
      "\n",
      "Finding integration vector weights\n",
      "\n",
      "Integrating data\n",
      "\n",
      "Merging dataset 4 5 into 2 6 3 1\n",
      "\n",
      "Extracting anchors for merged samples\n",
      "\n",
      "Finding integration vectors\n",
      "\n",
      "Finding integration vector weights\n",
      "\n",
      "Integrating data\n",
      "\n",
      "Merging dataset 7 8 into 2 6 3 1 4 5\n",
      "\n",
      "Extracting anchors for merged samples\n",
      "\n",
      "Finding integration vectors\n",
      "\n",
      "Finding integration vector weights\n",
      "\n",
      "Integrating data\n",
      "\n"
     ]
    },
    {
     "data": {
      "text/plain": [
       "[1] \"2021-12-03 14:36:34 GMT\""
      ]
     },
     "metadata": {},
     "output_type": "display_data"
    }
   ],
   "source": [
    "# integrate features\n",
    "Sys.time()\n",
    "data.integrated <- IntegrateData(anchorset = data.anchors, dims = 1:15)\n",
    "Sys.time()"
   ]
  },
  {
   "cell_type": "code",
   "execution_count": null,
   "metadata": {},
   "outputs": [],
   "source": []
  },
  {
   "cell_type": "code",
   "execution_count": 23,
   "metadata": {},
   "outputs": [],
   "source": [
    "saveRDS(file = paste0(data.path, 'rds/20211203_COMBO_only_PB_HSCMPP_Seurat3_VST_classic_integrated.rds'), data.integrated)"
   ]
  },
  {
   "cell_type": "code",
   "execution_count": null,
   "metadata": {},
   "outputs": [],
   "source": []
  },
  {
   "cell_type": "code",
   "execution_count": 24,
   "metadata": {},
   "outputs": [],
   "source": [
    "#Making sure cell/gene orders are the same\n",
    "data.integrated = data.integrated[row.names(data), colnames(data)]"
   ]
  },
  {
   "cell_type": "code",
   "execution_count": 29,
   "metadata": {},
   "outputs": [],
   "source": [
    "#Convertin to AnnData\n",
    "x = data.integrated@assays$integrated@data\n",
    "x = AnnData(X = t(x),\n",
    "            obs = data.integrated@meta.data\n",
    "           )"
   ]
  },
  {
   "cell_type": "code",
   "execution_count": 30,
   "metadata": {},
   "outputs": [
    {
     "data": {
      "text/plain": [
       "[1] \"2021-12-03 14:48:07 GMT\""
      ]
     },
     "metadata": {},
     "output_type": "display_data"
    },
    {
     "data": {
      "text/plain": [
       "None"
      ]
     },
     "metadata": {},
     "output_type": "display_data"
    },
    {
     "data": {
      "text/plain": [
       "[1] \"2021-12-03 14:48:09 GMT\""
      ]
     },
     "metadata": {},
     "output_type": "display_data"
    }
   ],
   "source": [
    "# Export/save anndata\n",
    "\n",
    "outfile <-  paste0(data.path, 'h5ad/20211203_COMBO_only_PB_HSCMPP_Seurat3_VST_classic_integrated.h5ad')     \n",
    "\n",
    "Sys.time()\n",
    "x$write_h5ad(outfile, compression = 'lzf')\n",
    "Sys.time()"
   ]
  },
  {
   "cell_type": "code",
   "execution_count": null,
   "metadata": {},
   "outputs": [],
   "source": []
  }
 ],
 "metadata": {
  "kernelspec": {
   "display_name": "R",
   "language": "R",
   "name": "ir"
  },
  "language_info": {
   "codemirror_mode": "r",
   "file_extension": ".r",
   "mimetype": "text/x-r-source",
   "name": "R",
   "pygments_lexer": "r",
   "version": "4.0.3"
  },
  "widgets": {
   "application/vnd.jupyter.widget-state+json": {
    "state": {},
    "version_major": 2,
    "version_minor": 0
   }
  }
 },
 "nbformat": 4,
 "nbformat_minor": 4
}
