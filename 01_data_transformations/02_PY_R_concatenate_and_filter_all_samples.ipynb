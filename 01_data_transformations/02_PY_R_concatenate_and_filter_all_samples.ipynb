{
 "cells": [
  {
   "cell_type": "markdown",
   "metadata": {},
   "source": [
    "### Concatenating, filtering the samples from all 10 donors\n",
    "\n",
    "### Convert combined matrix in a Seurat object \n",
    "\n",
    "##### hpb29"
   ]
  },
  {
   "cell_type": "markdown",
   "metadata": {},
   "source": [
    "Date: 2021-01-07"
   ]
  },
  {
   "cell_type": "code",
   "execution_count": null,
   "metadata": {},
   "outputs": [],
   "source": [
    "%matplotlib widget\n",
    "\n",
    "import warnings\n",
    "warnings.filterwarnings('ignore')\n",
    "\n",
    "%load_ext rpy2.ipython\n",
    "\n",
    "import os, sys, json, operator, getpass\n",
    "from pathlib import Path\n",
    "\n",
    "import numpy as np\n",
    "import pandas as pd\n",
    "import scanpy as sc"
   ]
  },
  {
   "cell_type": "code",
   "execution_count": null,
   "metadata": {},
   "outputs": [],
   "source": []
  },
  {
   "cell_type": "code",
   "execution_count": null,
   "metadata": {},
   "outputs": [],
   "source": [
    "import matplotlib.pyplot as plt\n",
    "from ipywidgets import widgets\n",
    "\n",
    "plt.rcParams['figure.figsize']=(8,8) #rescale figures\n",
    "sc.settings.verbosity = 3"
   ]
  },
  {
   "cell_type": "code",
   "execution_count": null,
   "metadata": {},
   "outputs": [],
   "source": []
  },
  {
   "cell_type": "code",
   "execution_count": null,
   "metadata": {},
   "outputs": [],
   "source": [
    "with open('/.singularity.d/labels.json') as fh:\n",
    "    singularity = json.load(fh)\n",
    "    \n",
    "singularity['Version']"
   ]
  },
  {
   "cell_type": "code",
   "execution_count": null,
   "metadata": {},
   "outputs": [],
   "source": []
  },
  {
   "cell_type": "code",
   "execution_count": null,
   "metadata": {},
   "outputs": [],
   "source": [
    "home = str(Path.home())\n",
    "user = getpass.getuser()\n",
    "\n",
    "basedir = os.path.join(home, 'databoard/users', user, '2020/SLX19841/')\n",
    "\n",
    "sc.settings.writedir = os.path.join(basedir, 'analysis/h5ad/')"
   ]
  },
  {
   "cell_type": "markdown",
   "metadata": {},
   "source": [
    "---"
   ]
  },
  {
   "cell_type": "markdown",
   "metadata": {},
   "source": [
    "# DOD"
   ]
  },
  {
   "cell_type": "code",
   "execution_count": null,
   "metadata": {},
   "outputs": [],
   "source": [
    "dod1_2 = sc.read('SLX14831_12978_filtered_gene_bc_expression_minus_putative_doublets')"
   ]
  },
  {
   "cell_type": "code",
   "execution_count": null,
   "metadata": {},
   "outputs": [],
   "source": [
    "dod3_4 = sc.read('SLX19841_DOD_filtered_gene_bc_expression_minus_putative_doublets')"
   ]
  },
  {
   "cell_type": "markdown",
   "metadata": {},
   "source": [
    "# LD"
   ]
  },
  {
   "cell_type": "code",
   "execution_count": null,
   "metadata": {},
   "outputs": [],
   "source": [
    "ld3_4_5 = sc.read('SLX18808_filtered_gene_bc_expression_minus_putative_doublets')"
   ]
  },
  {
   "cell_type": "code",
   "execution_count": null,
   "metadata": {},
   "outputs": [],
   "source": [
    "ld_6_7_8 = sc.read('SLX19286_filtered_gene_bc_expression_minus_putative_doublets' )"
   ]
  },
  {
   "cell_type": "code",
   "execution_count": null,
   "metadata": {},
   "outputs": [],
   "source": [
    "ld9_10 = sc.read('SLX19841_LD_filtered_gene_bc_expression_minus_putative_doublets')"
   ]
  },
  {
   "cell_type": "markdown",
   "metadata": {},
   "source": [
    "---"
   ]
  },
  {
   "cell_type": "markdown",
   "metadata": {},
   "source": [
    "Segregate data by donor"
   ]
  },
  {
   "cell_type": "code",
   "execution_count": null,
   "metadata": {},
   "outputs": [],
   "source": [
    "donor1 = dod1_2[dod1_2.obs.donor == 'DOD1'].copy()\n",
    "donor2 = dod1_2[dod1_2.obs.donor == 'DOD2'].copy()\n",
    "\n",
    "donor3 = dod3_4[dod3_4.obs.donor == 'KSP29'].copy()\n",
    "donor4 = dod3_4[dod3_4.obs.donor == 'KSP32'].copy()\n",
    "\n",
    "donor5 = ld3_4_5[ld3_4_5.obs.donor == 'TQ198'].copy()\n",
    "donor6 = ld3_4_5[ld3_4_5.obs.donor == 'BP62j'].copy()\n",
    "donor7 = ld3_4_5[ld3_4_5.obs.donor == 'BP37d'].copy()\n",
    "\n",
    "donor8 = ld_6_7_8[ld_6_7_8.obs.donor == 'BP74'].copy()\n",
    "\n",
    "donor9 = ld9_10[ld9_10.obs.donor == 'BP1c'].copy()\n",
    "donor10 = ld9_10[ld9_10.obs.donor == 'BP59h'].copy()"
   ]
  },
  {
   "cell_type": "code",
   "execution_count": null,
   "metadata": {},
   "outputs": [],
   "source": []
  },
  {
   "cell_type": "code",
   "execution_count": null,
   "metadata": {},
   "outputs": [],
   "source": [
    "donor1.obs['donor'] = 'DOD1'\n",
    "donor2.obs['donor'] = 'DOD2'\n",
    "donor3.obs['donor'] = 'DOD3'\n",
    "donor4.obs['donor'] = 'DOD4'"
   ]
  },
  {
   "cell_type": "code",
   "execution_count": null,
   "metadata": {},
   "outputs": [],
   "source": []
  },
  {
   "cell_type": "code",
   "execution_count": null,
   "metadata": {},
   "outputs": [],
   "source": [
    "donor5.obs.columns = ['batch', 'donor', 'library', 'organ', 'doublet_scores']\n",
    "donor6.obs.columns = ['batch', 'donor', 'library', 'organ', 'doublet_scores']\n",
    "donor7.obs.columns = ['batch', 'donor', 'library', 'organ', 'doublet_scores']\n",
    "donor8.obs.columns = ['batch', 'donor', 'library', 'organ', 'doublet_scores']"
   ]
  },
  {
   "cell_type": "code",
   "execution_count": null,
   "metadata": {},
   "outputs": [],
   "source": []
  },
  {
   "cell_type": "code",
   "execution_count": null,
   "metadata": {},
   "outputs": [],
   "source": [
    "def adjust_index(adata, prefix):\n",
    "\n",
    "    index = []\n",
    "    for x in adata.obs.index:\n",
    "        x = x.replace('-', '.')\n",
    "        x = prefix + x\n",
    "        index.append(x)\n",
    "\n",
    "    adata.obs.index = index"
   ]
  },
  {
   "cell_type": "code",
   "execution_count": null,
   "metadata": {},
   "outputs": [],
   "source": []
  },
  {
   "cell_type": "code",
   "execution_count": null,
   "metadata": {},
   "outputs": [],
   "source": [
    "adjust_index(donor1, '_01_')\n",
    "adjust_index(donor2, '_02_')\n",
    "adjust_index(donor3, '_03_')\n",
    "adjust_index(donor4, '_04_')\n",
    "adjust_index(donor5, '_05_')\n",
    "adjust_index(donor6, '_06_')\n",
    "adjust_index(donor7, '_07_')\n",
    "adjust_index(donor8, '_08_')\n",
    "adjust_index(donor9, '_09_')\n",
    "adjust_index(donor10, '_10_')"
   ]
  },
  {
   "cell_type": "code",
   "execution_count": null,
   "metadata": {},
   "outputs": [],
   "source": []
  },
  {
   "cell_type": "code",
   "execution_count": null,
   "metadata": {},
   "outputs": [],
   "source": [
    "data = donor1.concatenate(donor2, donor3, donor4, donor5,\n",
    "                          donor6, donor7, donor8, donor9, \n",
    "                          donor10, index_unique=None)"
   ]
  },
  {
   "cell_type": "code",
   "execution_count": null,
   "metadata": {},
   "outputs": [],
   "source": []
  },
  {
   "cell_type": "code",
   "execution_count": null,
   "metadata": {},
   "outputs": [],
   "source": [
    "data.obs.drop(['doublet_scores'], axis=1, inplace=True)"
   ]
  },
  {
   "cell_type": "code",
   "execution_count": null,
   "metadata": {},
   "outputs": [],
   "source": [
    "data.var.drop(['feature_types-2', 'genome-2', 'feature_types-3',\n",
    "       'genome-3', 'feature_types-4', 'genome-4', 'feature_types-5',\n",
    "       'genome-5', 'feature_types-6', 'genome-6', 'feature_types-7',\n",
    "       'genome-7', 'feature_types-8', 'genome-8', 'feature_types-9',\n",
    "       'genome-9'], axis=1, inplace=True)"
   ]
  },
  {
   "cell_type": "code",
   "execution_count": null,
   "metadata": {},
   "outputs": [],
   "source": []
  },
  {
   "cell_type": "code",
   "execution_count": null,
   "metadata": {},
   "outputs": [],
   "source": [
    "%%time\n",
    "sc.pl.highest_expr_genes(data, n_top=20)"
   ]
  },
  {
   "cell_type": "code",
   "execution_count": null,
   "metadata": {},
   "outputs": [],
   "source": []
  },
  {
   "cell_type": "code",
   "execution_count": null,
   "metadata": {},
   "outputs": [],
   "source": [
    "data.layers['counts'] = data.X.copy()"
   ]
  },
  {
   "cell_type": "code",
   "execution_count": null,
   "metadata": {},
   "outputs": [],
   "source": []
  },
  {
   "cell_type": "code",
   "execution_count": null,
   "metadata": {},
   "outputs": [],
   "source": [
    "# add the total counts per cell as sample annotation to adata\n",
    "data.obs['n_counts'] = np.sum(data.X, axis=1).A1\n",
    "data.obs['n_counts_log'] = np.log10(np.sum(data.X, axis=1).A1)"
   ]
  },
  {
   "cell_type": "code",
   "execution_count": null,
   "metadata": {},
   "outputs": [],
   "source": []
  },
  {
   "cell_type": "code",
   "execution_count": null,
   "metadata": {},
   "outputs": [],
   "source": [
    "mitoc_genes = np.array([name for name in data.var_names\n",
    "                       if bool(re.search(\"^MT-\", name))])\n",
    "# for each cell compute fraction of counts in mito genes vs. all genes\n",
    "data.obs['percent_mitoc'] = np.sum(data[:, mitoc_genes].X, axis=1) / np.sum(data.X, axis=1)"
   ]
  },
  {
   "cell_type": "code",
   "execution_count": null,
   "metadata": {},
   "outputs": [],
   "source": []
  },
  {
   "cell_type": "code",
   "execution_count": null,
   "metadata": {},
   "outputs": [],
   "source": [
    "sc.pl.violin(data, ['n_counts', 'n_counts_log', 'percent_mitoc'],\n",
    "             jitter=0.4, multi_panel=True)"
   ]
  },
  {
   "cell_type": "code",
   "execution_count": null,
   "metadata": {},
   "outputs": [],
   "source": [
    "sc.pl.violin(data,\n",
    "             ['percent_mitoc'])"
   ]
  },
  {
   "cell_type": "code",
   "execution_count": null,
   "metadata": {},
   "outputs": [],
   "source": [
    "sc.pl.scatter(data, x='n_counts', y='percent_mitoc')"
   ]
  },
  {
   "cell_type": "code",
   "execution_count": null,
   "metadata": {},
   "outputs": [],
   "source": [
    "print(\"...filtering %d cells with 20 percent or more mitochondrial reads\" %(sum(data.obs['percent_mitoc'] >= 0.2)))"
   ]
  },
  {
   "cell_type": "code",
   "execution_count": null,
   "metadata": {},
   "outputs": [],
   "source": []
  },
  {
   "cell_type": "markdown",
   "metadata": {},
   "source": [
    "Filter:\n",
    "- genes expressed in fewer than 3 cells\n",
    "- based on number of UMI counts per cell\n",
    "- cells expressing fewer than 500 genes\n",
    "- cells w/ more than 20% mitocondrial genes"
   ]
  },
  {
   "cell_type": "code",
   "execution_count": null,
   "metadata": {},
   "outputs": [],
   "source": [
    "sd_counts = np.std(data.obs['n_counts_log'])\n",
    "mean_counts = np.mean(data.obs['n_counts_log'])\n",
    "\n",
    "max_counts_filter = mean_counts + 3*sd_counts\n",
    "min_counts_filter = mean_counts - 3*sd_counts"
   ]
  },
  {
   "cell_type": "code",
   "execution_count": null,
   "metadata": {},
   "outputs": [],
   "source": [
    "counts_filter = np.logical_and(data.obs['n_counts_log'] >= min_counts_filter, data.obs['n_counts_log'] <= max_counts_filter)\n",
    "print(data.X.shape[0] - np.sum(counts_filter), 'cells with outlying counts to be filtered')"
   ]
  },
  {
   "cell_type": "code",
   "execution_count": null,
   "metadata": {},
   "outputs": [],
   "source": [
    "%%time\n",
    "data = data[np.logical_and(data.obs['percent_mitoc'] < 0.20, counts_filter), :].copy()\n",
    "sc.pp.filter_cells(data, min_genes=500)\n",
    "sc.pp.filter_genes(data, min_cells=3)"
   ]
  },
  {
   "cell_type": "code",
   "execution_count": null,
   "metadata": {},
   "outputs": [],
   "source": [
    "nCells = data.X.shape[0]\n",
    "nGenes = data.X.shape[1]\n",
    "print('Data has', nGenes, 'genes in', nCells, 'cells')"
   ]
  },
  {
   "cell_type": "code",
   "execution_count": null,
   "metadata": {},
   "outputs": [],
   "source": []
  },
  {
   "cell_type": "markdown",
   "metadata": {},
   "source": [
    "Exclude sex linked genes"
   ]
  },
  {
   "cell_type": "code",
   "execution_count": null,
   "metadata": {},
   "outputs": [],
   "source": [
    "sex_linked = ['RPS4Y1','NACA2','RPL10L','TIPIN','ZNF90','UQCRHL','DDX3Y','EIF1AY',\n",
    "              'MIF-AS1','ATP5L2','GREM1','EDARADD','AC009501.4','NBEAL1','MTRNR2L12',\n",
    "              'FKBP1C','AC090498.1','NHSL2','LRRC69','MTRNR2L8','HNRNPA1L2','PABPC3',\n",
    "              'RP11-302B13.5','RP5-940J5.9','EIF5AL','XIST']"
   ]
  },
  {
   "cell_type": "code",
   "execution_count": null,
   "metadata": {},
   "outputs": [],
   "source": [
    "data = data[:, [x for x in data.var.index if x not in sex_linked]].copy()"
   ]
  },
  {
   "cell_type": "code",
   "execution_count": null,
   "metadata": {},
   "outputs": [],
   "source": []
  },
  {
   "cell_type": "code",
   "execution_count": null,
   "metadata": {},
   "outputs": [],
   "source": [
    "%%time\n",
    "\n",
    "udf = pd.DataFrame( data[:, data.var.index].X.toarray().T , \n",
    "                      index=list(data.var.index), \n",
    "                      columns=list(data.obs.index) )\n",
    "\n",
    "udf.to_csv( os.path.join(sc.settings.writedir, '..', \n",
    "                           'matrices', 'COMBO10_filtered_gene_x_cells_XFILTERED_matrix.txt.gz'),\n",
    "                           sep='\\t', quotechar='\"')"
   ]
  },
  {
   "cell_type": "code",
   "execution_count": null,
   "metadata": {},
   "outputs": [],
   "source": []
  },
  {
   "cell_type": "code",
   "execution_count": null,
   "metadata": {},
   "outputs": [],
   "source": [
    "meta = data.obs[['donor', 'organ']].copy()"
   ]
  },
  {
   "cell_type": "code",
   "execution_count": null,
   "metadata": {},
   "outputs": [],
   "source": [
    "meta.to_csv('COMBO10_filtered_metadata.txt', sep='\\t')"
   ]
  },
  {
   "cell_type": "code",
   "execution_count": null,
   "metadata": {},
   "outputs": [],
   "source": []
  },
  {
   "cell_type": "markdown",
   "metadata": {},
   "source": [
    "### R"
   ]
  },
  {
   "cell_type": "code",
   "execution_count": null,
   "metadata": {},
   "outputs": [],
   "source": [
    "%%R\n",
    "\n",
    "library(Seurat)\n",
    "\n",
    "data.path = '~/datafloor/users/2020/SLX19841/analysis/matrices/'\n",
    "\n",
    "combo.data <- read.table(file = gzfile( paste0(data.path, \n",
    "                                            \"COMBO10_filtered_gene_x_cells_XFILTERED_matrix.txt.gz\") ) )\n",
    "\n",
    "# Replace first character (X) with nothing\n",
    "colnames(combo.data) <- sub('.', '', colnames(combo.data))"
   ]
  },
  {
   "cell_type": "code",
   "execution_count": null,
   "metadata": {},
   "outputs": [],
   "source": []
  },
  {
   "cell_type": "code",
   "execution_count": null,
   "metadata": {},
   "outputs": [],
   "source": [
    "%%R\n",
    "\n",
    "metadata <- read.table('COMBO10_filtered_metadata.txt', \n",
    "                   sep='\\t', header=T, row.names = 1)\n",
    "\n",
    "common <- intersect( colnames(combo.data), rownames(metadata) )\n",
    "\n",
    "data <- CreateSeuratObject(counts = combo.data[,common], meta.data = metadata[common,])\n",
    "\n",
    "# QC showed donor 3 SPL sample to be contaminated, thus we exclude it henceforth\n",
    "data <- data[ , !(data@meta.data$donor == 'DOD3' & data@meta.data$organ == 'SPL') ]\n",
    "\n",
    "\n",
    "saveRDS(file = paste0(data.path, 'COMBO10_NO_SPL3_filtered_counts_Seurat3_obj.rds'), data)"
   ]
  },
  {
   "cell_type": "code",
   "execution_count": null,
   "metadata": {},
   "outputs": [],
   "source": []
  }
 ],
 "metadata": {
  "kernelspec": {
   "display_name": "Python 3",
   "language": "python",
   "name": "python3"
  },
  "language_info": {
   "codemirror_mode": {
    "name": "ipython",
    "version": 3
   },
   "file_extension": ".py",
   "mimetype": "text/x-python",
   "name": "python",
   "nbconvert_exporter": "python",
   "pygments_lexer": "ipython3",
   "version": "3.8.6"
  },
  "widgets": {
   "application/vnd.jupyter.widget-state+json": {
    "state": {},
    "version_major": 2,
    "version_minor": 0
   }
  }
 },
 "nbformat": 4,
 "nbformat_minor": 4
}
