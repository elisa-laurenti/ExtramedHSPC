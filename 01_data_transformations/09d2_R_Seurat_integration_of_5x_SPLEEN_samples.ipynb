{
 "cells": [
  {
   "cell_type": "markdown",
   "metadata": {},
   "source": [
    "# Seurat integration of 5x SPLEEN samples\n",
    "\n",
    "# OD1, OD2, OD4 + HS1 & HS2"
   ]
  },
  {
   "cell_type": "markdown",
   "metadata": {},
   "source": [
    "Date: 2021-11-02"
   ]
  },
  {
   "cell_type": "code",
   "execution_count": 1,
   "metadata": {},
   "outputs": [
    {
     "name": "stderr",
     "output_type": "stream",
     "text": [
      "Registered S3 method overwritten by 'spatstat.geom':\n",
      "  method     from\n",
      "  print.boxx cli \n",
      "\n",
      "Attaching SeuratObject\n",
      "\n"
     ]
    }
   ],
   "source": [
    "library(Seurat)\n",
    "library(future)"
   ]
  },
  {
   "cell_type": "code",
   "execution_count": null,
   "metadata": {},
   "outputs": [],
   "source": []
  },
  {
   "cell_type": "code",
   "execution_count": 2,
   "metadata": {},
   "outputs": [],
   "source": [
    "plan(strategy = \"multicore\", workers = 6)\n",
    "\n",
    "options(future.globals.maxSize = +Inf)"
   ]
  },
  {
   "cell_type": "code",
   "execution_count": null,
   "metadata": {},
   "outputs": [],
   "source": []
  },
  {
   "cell_type": "code",
   "execution_count": 3,
   "metadata": {},
   "outputs": [],
   "source": [
    "data.path = 'matrices/'\n",
    "\n",
    "data.rds = 'rds/'\n",
    "\n",
    "data.meta = 'notebooks/output/'"
   ]
  },
  {
   "cell_type": "code",
   "execution_count": null,
   "metadata": {},
   "outputs": [],
   "source": []
  },
  {
   "cell_type": "code",
   "execution_count": 4,
   "metadata": {},
   "outputs": [
    {
     "data": {
      "text/plain": [
       "[1] \"2021-11-02 16:13:01 GMT\""
      ]
     },
     "metadata": {},
     "output_type": "display_data"
    },
    {
     "data": {
      "text/plain": [
       "[1] \"2021-11-02 16:18:43 GMT\""
      ]
     },
     "metadata": {},
     "output_type": "display_data"
    }
   ],
   "source": [
    "Sys.time()\n",
    "combo.data <- read.table(file = gzfile( paste0(data.path, \n",
    "                                            \"20211102_COMBO_SPLEEN_filtered_gene_x_cells_XFILTERED_matrix.txt.gz\") ) )\n",
    "Sys.time()"
   ]
  },
  {
   "cell_type": "code",
   "execution_count": null,
   "metadata": {},
   "outputs": [],
   "source": []
  },
  {
   "cell_type": "code",
   "execution_count": 5,
   "metadata": {},
   "outputs": [
    {
     "data": {
      "text/html": [
       "<table>\n",
       "<caption>A data.frame: 6 x 32007</caption>\n",
       "<thead>\n",
       "\t<tr><th></th><th scope=col>X_01_AAACCTGCACTGTTAG.1.3</th><th scope=col>X_01_AAACCTGCAGGGAGAG.1.3</th><th scope=col>X_01_AAACCTGGTTATTCTC.1.3</th><th scope=col>X_01_AAACGGGAGGCCCTTG.1.3</th><th scope=col>X_01_AAACGGGGTCGCCATG.1.3</th><th scope=col>X_01_AAACGGGGTGCCTGCA.1.3</th><th scope=col>X_01_AAACGGGTCATATCGG.1.3</th><th scope=col>X_01_AAACGGGTCCCATTTA.1.3</th><th scope=col>X_01_AAAGATGCATAAAGGT.1.3</th><th scope=col>X_01_AAAGATGGTATAGGGC.1.3</th><th scope=col>...</th><th scope=col>TTTGTTGAGGTGGTTG.1.1</th><th scope=col>TTTGTTGAGTGCCTCG.1.1</th><th scope=col>TTTGTTGCAAGCGAAC.1.1</th><th scope=col>TTTGTTGCACTGTCCT.1.1</th><th scope=col>TTTGTTGCAGCACAAG.1.1</th><th scope=col>TTTGTTGGTCAGGTAG.1.1</th><th scope=col>TTTGTTGTCAAGCTTG.1.1</th><th scope=col>TTTGTTGTCACTTGGA.1.1</th><th scope=col>TTTGTTGTCCTTCTGG.1.1</th><th scope=col>TTTGTTGTCGGTAAGG.1.1</th></tr>\n",
       "\t<tr><th></th><th scope=col>&lt;dbl&gt;</th><th scope=col>&lt;dbl&gt;</th><th scope=col>&lt;dbl&gt;</th><th scope=col>&lt;dbl&gt;</th><th scope=col>&lt;dbl&gt;</th><th scope=col>&lt;dbl&gt;</th><th scope=col>&lt;dbl&gt;</th><th scope=col>&lt;dbl&gt;</th><th scope=col>&lt;dbl&gt;</th><th scope=col>&lt;dbl&gt;</th><th scope=col>...</th><th scope=col>&lt;dbl&gt;</th><th scope=col>&lt;dbl&gt;</th><th scope=col>&lt;dbl&gt;</th><th scope=col>&lt;dbl&gt;</th><th scope=col>&lt;dbl&gt;</th><th scope=col>&lt;dbl&gt;</th><th scope=col>&lt;dbl&gt;</th><th scope=col>&lt;dbl&gt;</th><th scope=col>&lt;dbl&gt;</th><th scope=col>&lt;dbl&gt;</th></tr>\n",
       "</thead>\n",
       "<tbody>\n",
       "\t<tr><th scope=row>RP11-34P13.7</th><td>0</td><td>0</td><td>0</td><td>0</td><td>0</td><td>0</td><td>0</td><td>0</td><td>0</td><td>0</td><td>...</td><td>0</td><td>0</td><td>0</td><td>0</td><td>0</td><td>0</td><td>0</td><td>0</td><td>0</td><td>0</td></tr>\n",
       "\t<tr><th scope=row>AL627309.1</th><td>0</td><td>0</td><td>0</td><td>0</td><td>0</td><td>0</td><td>0</td><td>0</td><td>0</td><td>0</td><td>...</td><td>0</td><td>0</td><td>0</td><td>0</td><td>0</td><td>0</td><td>0</td><td>0</td><td>0</td><td>0</td></tr>\n",
       "\t<tr><th scope=row>RP11-34P13.9</th><td>0</td><td>0</td><td>0</td><td>0</td><td>0</td><td>0</td><td>0</td><td>0</td><td>0</td><td>0</td><td>...</td><td>0</td><td>0</td><td>0</td><td>0</td><td>0</td><td>0</td><td>0</td><td>0</td><td>0</td><td>0</td></tr>\n",
       "\t<tr><th scope=row>AP006222.2</th><td>0</td><td>0</td><td>0</td><td>0</td><td>0</td><td>1</td><td>0</td><td>1</td><td>0</td><td>0</td><td>...</td><td>0</td><td>0</td><td>0</td><td>0</td><td>0</td><td>0</td><td>0</td><td>1</td><td>0</td><td>0</td></tr>\n",
       "\t<tr><th scope=row>RP4-669L17.10</th><td>0</td><td>0</td><td>1</td><td>0</td><td>0</td><td>0</td><td>0</td><td>0</td><td>0</td><td>0</td><td>...</td><td>0</td><td>0</td><td>0</td><td>0</td><td>0</td><td>0</td><td>0</td><td>0</td><td>0</td><td>0</td></tr>\n",
       "\t<tr><th scope=row>RP5-857K21.4</th><td>0</td><td>0</td><td>0</td><td>0</td><td>0</td><td>0</td><td>0</td><td>0</td><td>0</td><td>0</td><td>...</td><td>0</td><td>0</td><td>0</td><td>0</td><td>0</td><td>0</td><td>0</td><td>0</td><td>0</td><td>0</td></tr>\n",
       "</tbody>\n",
       "</table>\n"
      ],
      "text/latex": [
       "A data.frame: 6 x 32007\n",
       "\\begin{tabular}{r|lllllllllllllllllllll}\n",
       "  & X\\_01\\_AAACCTGCACTGTTAG.1.3 & X\\_01\\_AAACCTGCAGGGAGAG.1.3 & X\\_01\\_AAACCTGGTTATTCTC.1.3 & X\\_01\\_AAACGGGAGGCCCTTG.1.3 & X\\_01\\_AAACGGGGTCGCCATG.1.3 & X\\_01\\_AAACGGGGTGCCTGCA.1.3 & X\\_01\\_AAACGGGTCATATCGG.1.3 & X\\_01\\_AAACGGGTCCCATTTA.1.3 & X\\_01\\_AAAGATGCATAAAGGT.1.3 & X\\_01\\_AAAGATGGTATAGGGC.1.3 & ... & TTTGTTGAGGTGGTTG.1.1 & TTTGTTGAGTGCCTCG.1.1 & TTTGTTGCAAGCGAAC.1.1 & TTTGTTGCACTGTCCT.1.1 & TTTGTTGCAGCACAAG.1.1 & TTTGTTGGTCAGGTAG.1.1 & TTTGTTGTCAAGCTTG.1.1 & TTTGTTGTCACTTGGA.1.1 & TTTGTTGTCCTTCTGG.1.1 & TTTGTTGTCGGTAAGG.1.1\\\\\n",
       "  & <dbl> & <dbl> & <dbl> & <dbl> & <dbl> & <dbl> & <dbl> & <dbl> & <dbl> & <dbl> & ... & <dbl> & <dbl> & <dbl> & <dbl> & <dbl> & <dbl> & <dbl> & <dbl> & <dbl> & <dbl>\\\\\n",
       "\\hline\n",
       "\tRP11-34P13.7 & 0 & 0 & 0 & 0 & 0 & 0 & 0 & 0 & 0 & 0 & ... & 0 & 0 & 0 & 0 & 0 & 0 & 0 & 0 & 0 & 0\\\\\n",
       "\tAL627309.1 & 0 & 0 & 0 & 0 & 0 & 0 & 0 & 0 & 0 & 0 & ... & 0 & 0 & 0 & 0 & 0 & 0 & 0 & 0 & 0 & 0\\\\\n",
       "\tRP11-34P13.9 & 0 & 0 & 0 & 0 & 0 & 0 & 0 & 0 & 0 & 0 & ... & 0 & 0 & 0 & 0 & 0 & 0 & 0 & 0 & 0 & 0\\\\\n",
       "\tAP006222.2 & 0 & 0 & 0 & 0 & 0 & 1 & 0 & 1 & 0 & 0 & ... & 0 & 0 & 0 & 0 & 0 & 0 & 0 & 1 & 0 & 0\\\\\n",
       "\tRP4-669L17.10 & 0 & 0 & 1 & 0 & 0 & 0 & 0 & 0 & 0 & 0 & ... & 0 & 0 & 0 & 0 & 0 & 0 & 0 & 0 & 0 & 0\\\\\n",
       "\tRP5-857K21.4 & 0 & 0 & 0 & 0 & 0 & 0 & 0 & 0 & 0 & 0 & ... & 0 & 0 & 0 & 0 & 0 & 0 & 0 & 0 & 0 & 0\\\\\n",
       "\\end{tabular}\n"
      ],
      "text/markdown": [
       "\n",
       "A data.frame: 6 x 32007\n",
       "\n",
       "| <!--/--> | X_01_AAACCTGCACTGTTAG.1.3 &lt;dbl&gt; | X_01_AAACCTGCAGGGAGAG.1.3 &lt;dbl&gt; | X_01_AAACCTGGTTATTCTC.1.3 &lt;dbl&gt; | X_01_AAACGGGAGGCCCTTG.1.3 &lt;dbl&gt; | X_01_AAACGGGGTCGCCATG.1.3 &lt;dbl&gt; | X_01_AAACGGGGTGCCTGCA.1.3 &lt;dbl&gt; | X_01_AAACGGGTCATATCGG.1.3 &lt;dbl&gt; | X_01_AAACGGGTCCCATTTA.1.3 &lt;dbl&gt; | X_01_AAAGATGCATAAAGGT.1.3 &lt;dbl&gt; | X_01_AAAGATGGTATAGGGC.1.3 &lt;dbl&gt; | ... ... | TTTGTTGAGGTGGTTG.1.1 &lt;dbl&gt; | TTTGTTGAGTGCCTCG.1.1 &lt;dbl&gt; | TTTGTTGCAAGCGAAC.1.1 &lt;dbl&gt; | TTTGTTGCACTGTCCT.1.1 &lt;dbl&gt; | TTTGTTGCAGCACAAG.1.1 &lt;dbl&gt; | TTTGTTGGTCAGGTAG.1.1 &lt;dbl&gt; | TTTGTTGTCAAGCTTG.1.1 &lt;dbl&gt; | TTTGTTGTCACTTGGA.1.1 &lt;dbl&gt; | TTTGTTGTCCTTCTGG.1.1 &lt;dbl&gt; | TTTGTTGTCGGTAAGG.1.1 &lt;dbl&gt; |\n",
       "|---|---|---|---|---|---|---|---|---|---|---|---|---|---|---|---|---|---|---|---|---|---|\n",
       "| RP11-34P13.7 | 0 | 0 | 0 | 0 | 0 | 0 | 0 | 0 | 0 | 0 | ... | 0 | 0 | 0 | 0 | 0 | 0 | 0 | 0 | 0 | 0 |\n",
       "| AL627309.1 | 0 | 0 | 0 | 0 | 0 | 0 | 0 | 0 | 0 | 0 | ... | 0 | 0 | 0 | 0 | 0 | 0 | 0 | 0 | 0 | 0 |\n",
       "| RP11-34P13.9 | 0 | 0 | 0 | 0 | 0 | 0 | 0 | 0 | 0 | 0 | ... | 0 | 0 | 0 | 0 | 0 | 0 | 0 | 0 | 0 | 0 |\n",
       "| AP006222.2 | 0 | 0 | 0 | 0 | 0 | 1 | 0 | 1 | 0 | 0 | ... | 0 | 0 | 0 | 0 | 0 | 0 | 0 | 1 | 0 | 0 |\n",
       "| RP4-669L17.10 | 0 | 0 | 1 | 0 | 0 | 0 | 0 | 0 | 0 | 0 | ... | 0 | 0 | 0 | 0 | 0 | 0 | 0 | 0 | 0 | 0 |\n",
       "| RP5-857K21.4 | 0 | 0 | 0 | 0 | 0 | 0 | 0 | 0 | 0 | 0 | ... | 0 | 0 | 0 | 0 | 0 | 0 | 0 | 0 | 0 | 0 |\n",
       "\n"
      ],
      "text/plain": [
       "              X_01_AAACCTGCACTGTTAG.1.3 X_01_AAACCTGCAGGGAGAG.1.3\n",
       "RP11-34P13.7  0                         0                        \n",
       "AL627309.1    0                         0                        \n",
       "RP11-34P13.9  0                         0                        \n",
       "AP006222.2    0                         0                        \n",
       "RP4-669L17.10 0                         0                        \n",
       "RP5-857K21.4  0                         0                        \n",
       "              X_01_AAACCTGGTTATTCTC.1.3 X_01_AAACGGGAGGCCCTTG.1.3\n",
       "RP11-34P13.7  0                         0                        \n",
       "AL627309.1    0                         0                        \n",
       "RP11-34P13.9  0                         0                        \n",
       "AP006222.2    0                         0                        \n",
       "RP4-669L17.10 1                         0                        \n",
       "RP5-857K21.4  0                         0                        \n",
       "              X_01_AAACGGGGTCGCCATG.1.3 X_01_AAACGGGGTGCCTGCA.1.3\n",
       "RP11-34P13.7  0                         0                        \n",
       "AL627309.1    0                         0                        \n",
       "RP11-34P13.9  0                         0                        \n",
       "AP006222.2    0                         1                        \n",
       "RP4-669L17.10 0                         0                        \n",
       "RP5-857K21.4  0                         0                        \n",
       "              X_01_AAACGGGTCATATCGG.1.3 X_01_AAACGGGTCCCATTTA.1.3\n",
       "RP11-34P13.7  0                         0                        \n",
       "AL627309.1    0                         0                        \n",
       "RP11-34P13.9  0                         0                        \n",
       "AP006222.2    0                         1                        \n",
       "RP4-669L17.10 0                         0                        \n",
       "RP5-857K21.4  0                         0                        \n",
       "              X_01_AAAGATGCATAAAGGT.1.3 X_01_AAAGATGGTATAGGGC.1.3 ...\n",
       "RP11-34P13.7  0                         0                         ...\n",
       "AL627309.1    0                         0                         ...\n",
       "RP11-34P13.9  0                         0                         ...\n",
       "AP006222.2    0                         0                         ...\n",
       "RP4-669L17.10 0                         0                         ...\n",
       "RP5-857K21.4  0                         0                         ...\n",
       "              TTTGTTGAGGTGGTTG.1.1 TTTGTTGAGTGCCTCG.1.1 TTTGTTGCAAGCGAAC.1.1\n",
       "RP11-34P13.7  0                    0                    0                   \n",
       "AL627309.1    0                    0                    0                   \n",
       "RP11-34P13.9  0                    0                    0                   \n",
       "AP006222.2    0                    0                    0                   \n",
       "RP4-669L17.10 0                    0                    0                   \n",
       "RP5-857K21.4  0                    0                    0                   \n",
       "              TTTGTTGCACTGTCCT.1.1 TTTGTTGCAGCACAAG.1.1 TTTGTTGGTCAGGTAG.1.1\n",
       "RP11-34P13.7  0                    0                    0                   \n",
       "AL627309.1    0                    0                    0                   \n",
       "RP11-34P13.9  0                    0                    0                   \n",
       "AP006222.2    0                    0                    0                   \n",
       "RP4-669L17.10 0                    0                    0                   \n",
       "RP5-857K21.4  0                    0                    0                   \n",
       "              TTTGTTGTCAAGCTTG.1.1 TTTGTTGTCACTTGGA.1.1 TTTGTTGTCCTTCTGG.1.1\n",
       "RP11-34P13.7  0                    0                    0                   \n",
       "AL627309.1    0                    0                    0                   \n",
       "RP11-34P13.9  0                    0                    0                   \n",
       "AP006222.2    0                    1                    0                   \n",
       "RP4-669L17.10 0                    0                    0                   \n",
       "RP5-857K21.4  0                    0                    0                   \n",
       "              TTTGTTGTCGGTAAGG.1.1\n",
       "RP11-34P13.7  0                   \n",
       "AL627309.1    0                   \n",
       "RP11-34P13.9  0                   \n",
       "AP006222.2    0                   \n",
       "RP4-669L17.10 0                   \n",
       "RP5-857K21.4  0                   "
      ]
     },
     "metadata": {},
     "output_type": "display_data"
    }
   ],
   "source": [
    "head(combo.data)"
   ]
  },
  {
   "cell_type": "code",
   "execution_count": null,
   "metadata": {},
   "outputs": [],
   "source": []
  },
  {
   "cell_type": "markdown",
   "metadata": {},
   "source": [
    "Replace first (all with gsub actually) character (X) with nothing"
   ]
  },
  {
   "cell_type": "code",
   "execution_count": 7,
   "metadata": {},
   "outputs": [],
   "source": [
    "colnames(combo.data) <- gsub('X', '', colnames(combo.data))"
   ]
  },
  {
   "cell_type": "code",
   "execution_count": null,
   "metadata": {},
   "outputs": [],
   "source": []
  },
  {
   "cell_type": "code",
   "execution_count": 8,
   "metadata": {},
   "outputs": [
    {
     "data": {
      "text/html": [
       "<table>\n",
       "<caption>A data.frame: 6 x 32007</caption>\n",
       "<thead>\n",
       "\t<tr><th></th><th scope=col>_01_AAACCTGCACTGTTAG.1.3</th><th scope=col>_01_AAACCTGCAGGGAGAG.1.3</th><th scope=col>_01_AAACCTGGTTATTCTC.1.3</th><th scope=col>_01_AAACGGGAGGCCCTTG.1.3</th><th scope=col>_01_AAACGGGGTCGCCATG.1.3</th><th scope=col>_01_AAACGGGGTGCCTGCA.1.3</th><th scope=col>_01_AAACGGGTCATATCGG.1.3</th><th scope=col>_01_AAACGGGTCCCATTTA.1.3</th><th scope=col>_01_AAAGATGCATAAAGGT.1.3</th><th scope=col>_01_AAAGATGGTATAGGGC.1.3</th><th scope=col>...</th><th scope=col>TTTGTTGAGGTGGTTG.1.1</th><th scope=col>TTTGTTGAGTGCCTCG.1.1</th><th scope=col>TTTGTTGCAAGCGAAC.1.1</th><th scope=col>TTTGTTGCACTGTCCT.1.1</th><th scope=col>TTTGTTGCAGCACAAG.1.1</th><th scope=col>TTTGTTGGTCAGGTAG.1.1</th><th scope=col>TTTGTTGTCAAGCTTG.1.1</th><th scope=col>TTTGTTGTCACTTGGA.1.1</th><th scope=col>TTTGTTGTCCTTCTGG.1.1</th><th scope=col>TTTGTTGTCGGTAAGG.1.1</th></tr>\n",
       "\t<tr><th></th><th scope=col>&lt;dbl&gt;</th><th scope=col>&lt;dbl&gt;</th><th scope=col>&lt;dbl&gt;</th><th scope=col>&lt;dbl&gt;</th><th scope=col>&lt;dbl&gt;</th><th scope=col>&lt;dbl&gt;</th><th scope=col>&lt;dbl&gt;</th><th scope=col>&lt;dbl&gt;</th><th scope=col>&lt;dbl&gt;</th><th scope=col>&lt;dbl&gt;</th><th scope=col>...</th><th scope=col>&lt;dbl&gt;</th><th scope=col>&lt;dbl&gt;</th><th scope=col>&lt;dbl&gt;</th><th scope=col>&lt;dbl&gt;</th><th scope=col>&lt;dbl&gt;</th><th scope=col>&lt;dbl&gt;</th><th scope=col>&lt;dbl&gt;</th><th scope=col>&lt;dbl&gt;</th><th scope=col>&lt;dbl&gt;</th><th scope=col>&lt;dbl&gt;</th></tr>\n",
       "</thead>\n",
       "<tbody>\n",
       "\t<tr><th scope=row>RP11-34P13.7</th><td>0</td><td>0</td><td>0</td><td>0</td><td>0</td><td>0</td><td>0</td><td>0</td><td>0</td><td>0</td><td>...</td><td>0</td><td>0</td><td>0</td><td>0</td><td>0</td><td>0</td><td>0</td><td>0</td><td>0</td><td>0</td></tr>\n",
       "\t<tr><th scope=row>AL627309.1</th><td>0</td><td>0</td><td>0</td><td>0</td><td>0</td><td>0</td><td>0</td><td>0</td><td>0</td><td>0</td><td>...</td><td>0</td><td>0</td><td>0</td><td>0</td><td>0</td><td>0</td><td>0</td><td>0</td><td>0</td><td>0</td></tr>\n",
       "\t<tr><th scope=row>RP11-34P13.9</th><td>0</td><td>0</td><td>0</td><td>0</td><td>0</td><td>0</td><td>0</td><td>0</td><td>0</td><td>0</td><td>...</td><td>0</td><td>0</td><td>0</td><td>0</td><td>0</td><td>0</td><td>0</td><td>0</td><td>0</td><td>0</td></tr>\n",
       "\t<tr><th scope=row>AP006222.2</th><td>0</td><td>0</td><td>0</td><td>0</td><td>0</td><td>1</td><td>0</td><td>1</td><td>0</td><td>0</td><td>...</td><td>0</td><td>0</td><td>0</td><td>0</td><td>0</td><td>0</td><td>0</td><td>1</td><td>0</td><td>0</td></tr>\n",
       "\t<tr><th scope=row>RP4-669L17.10</th><td>0</td><td>0</td><td>1</td><td>0</td><td>0</td><td>0</td><td>0</td><td>0</td><td>0</td><td>0</td><td>...</td><td>0</td><td>0</td><td>0</td><td>0</td><td>0</td><td>0</td><td>0</td><td>0</td><td>0</td><td>0</td></tr>\n",
       "\t<tr><th scope=row>RP5-857K21.4</th><td>0</td><td>0</td><td>0</td><td>0</td><td>0</td><td>0</td><td>0</td><td>0</td><td>0</td><td>0</td><td>...</td><td>0</td><td>0</td><td>0</td><td>0</td><td>0</td><td>0</td><td>0</td><td>0</td><td>0</td><td>0</td></tr>\n",
       "</tbody>\n",
       "</table>\n"
      ],
      "text/latex": [
       "A data.frame: 6 x 32007\n",
       "\\begin{tabular}{r|lllllllllllllllllllll}\n",
       "  & \\_01\\_AAACCTGCACTGTTAG.1.3 & \\_01\\_AAACCTGCAGGGAGAG.1.3 & \\_01\\_AAACCTGGTTATTCTC.1.3 & \\_01\\_AAACGGGAGGCCCTTG.1.3 & \\_01\\_AAACGGGGTCGCCATG.1.3 & \\_01\\_AAACGGGGTGCCTGCA.1.3 & \\_01\\_AAACGGGTCATATCGG.1.3 & \\_01\\_AAACGGGTCCCATTTA.1.3 & \\_01\\_AAAGATGCATAAAGGT.1.3 & \\_01\\_AAAGATGGTATAGGGC.1.3 & ... & TTTGTTGAGGTGGTTG.1.1 & TTTGTTGAGTGCCTCG.1.1 & TTTGTTGCAAGCGAAC.1.1 & TTTGTTGCACTGTCCT.1.1 & TTTGTTGCAGCACAAG.1.1 & TTTGTTGGTCAGGTAG.1.1 & TTTGTTGTCAAGCTTG.1.1 & TTTGTTGTCACTTGGA.1.1 & TTTGTTGTCCTTCTGG.1.1 & TTTGTTGTCGGTAAGG.1.1\\\\\n",
       "  & <dbl> & <dbl> & <dbl> & <dbl> & <dbl> & <dbl> & <dbl> & <dbl> & <dbl> & <dbl> & ... & <dbl> & <dbl> & <dbl> & <dbl> & <dbl> & <dbl> & <dbl> & <dbl> & <dbl> & <dbl>\\\\\n",
       "\\hline\n",
       "\tRP11-34P13.7 & 0 & 0 & 0 & 0 & 0 & 0 & 0 & 0 & 0 & 0 & ... & 0 & 0 & 0 & 0 & 0 & 0 & 0 & 0 & 0 & 0\\\\\n",
       "\tAL627309.1 & 0 & 0 & 0 & 0 & 0 & 0 & 0 & 0 & 0 & 0 & ... & 0 & 0 & 0 & 0 & 0 & 0 & 0 & 0 & 0 & 0\\\\\n",
       "\tRP11-34P13.9 & 0 & 0 & 0 & 0 & 0 & 0 & 0 & 0 & 0 & 0 & ... & 0 & 0 & 0 & 0 & 0 & 0 & 0 & 0 & 0 & 0\\\\\n",
       "\tAP006222.2 & 0 & 0 & 0 & 0 & 0 & 1 & 0 & 1 & 0 & 0 & ... & 0 & 0 & 0 & 0 & 0 & 0 & 0 & 1 & 0 & 0\\\\\n",
       "\tRP4-669L17.10 & 0 & 0 & 1 & 0 & 0 & 0 & 0 & 0 & 0 & 0 & ... & 0 & 0 & 0 & 0 & 0 & 0 & 0 & 0 & 0 & 0\\\\\n",
       "\tRP5-857K21.4 & 0 & 0 & 0 & 0 & 0 & 0 & 0 & 0 & 0 & 0 & ... & 0 & 0 & 0 & 0 & 0 & 0 & 0 & 0 & 0 & 0\\\\\n",
       "\\end{tabular}\n"
      ],
      "text/markdown": [
       "\n",
       "A data.frame: 6 x 32007\n",
       "\n",
       "| <!--/--> | _01_AAACCTGCACTGTTAG.1.3 &lt;dbl&gt; | _01_AAACCTGCAGGGAGAG.1.3 &lt;dbl&gt; | _01_AAACCTGGTTATTCTC.1.3 &lt;dbl&gt; | _01_AAACGGGAGGCCCTTG.1.3 &lt;dbl&gt; | _01_AAACGGGGTCGCCATG.1.3 &lt;dbl&gt; | _01_AAACGGGGTGCCTGCA.1.3 &lt;dbl&gt; | _01_AAACGGGTCATATCGG.1.3 &lt;dbl&gt; | _01_AAACGGGTCCCATTTA.1.3 &lt;dbl&gt; | _01_AAAGATGCATAAAGGT.1.3 &lt;dbl&gt; | _01_AAAGATGGTATAGGGC.1.3 &lt;dbl&gt; | ... ... | TTTGTTGAGGTGGTTG.1.1 &lt;dbl&gt; | TTTGTTGAGTGCCTCG.1.1 &lt;dbl&gt; | TTTGTTGCAAGCGAAC.1.1 &lt;dbl&gt; | TTTGTTGCACTGTCCT.1.1 &lt;dbl&gt; | TTTGTTGCAGCACAAG.1.1 &lt;dbl&gt; | TTTGTTGGTCAGGTAG.1.1 &lt;dbl&gt; | TTTGTTGTCAAGCTTG.1.1 &lt;dbl&gt; | TTTGTTGTCACTTGGA.1.1 &lt;dbl&gt; | TTTGTTGTCCTTCTGG.1.1 &lt;dbl&gt; | TTTGTTGTCGGTAAGG.1.1 &lt;dbl&gt; |\n",
       "|---|---|---|---|---|---|---|---|---|---|---|---|---|---|---|---|---|---|---|---|---|---|\n",
       "| RP11-34P13.7 | 0 | 0 | 0 | 0 | 0 | 0 | 0 | 0 | 0 | 0 | ... | 0 | 0 | 0 | 0 | 0 | 0 | 0 | 0 | 0 | 0 |\n",
       "| AL627309.1 | 0 | 0 | 0 | 0 | 0 | 0 | 0 | 0 | 0 | 0 | ... | 0 | 0 | 0 | 0 | 0 | 0 | 0 | 0 | 0 | 0 |\n",
       "| RP11-34P13.9 | 0 | 0 | 0 | 0 | 0 | 0 | 0 | 0 | 0 | 0 | ... | 0 | 0 | 0 | 0 | 0 | 0 | 0 | 0 | 0 | 0 |\n",
       "| AP006222.2 | 0 | 0 | 0 | 0 | 0 | 1 | 0 | 1 | 0 | 0 | ... | 0 | 0 | 0 | 0 | 0 | 0 | 0 | 1 | 0 | 0 |\n",
       "| RP4-669L17.10 | 0 | 0 | 1 | 0 | 0 | 0 | 0 | 0 | 0 | 0 | ... | 0 | 0 | 0 | 0 | 0 | 0 | 0 | 0 | 0 | 0 |\n",
       "| RP5-857K21.4 | 0 | 0 | 0 | 0 | 0 | 0 | 0 | 0 | 0 | 0 | ... | 0 | 0 | 0 | 0 | 0 | 0 | 0 | 0 | 0 | 0 |\n",
       "\n"
      ],
      "text/plain": [
       "              _01_AAACCTGCACTGTTAG.1.3 _01_AAACCTGCAGGGAGAG.1.3\n",
       "RP11-34P13.7  0                        0                       \n",
       "AL627309.1    0                        0                       \n",
       "RP11-34P13.9  0                        0                       \n",
       "AP006222.2    0                        0                       \n",
       "RP4-669L17.10 0                        0                       \n",
       "RP5-857K21.4  0                        0                       \n",
       "              _01_AAACCTGGTTATTCTC.1.3 _01_AAACGGGAGGCCCTTG.1.3\n",
       "RP11-34P13.7  0                        0                       \n",
       "AL627309.1    0                        0                       \n",
       "RP11-34P13.9  0                        0                       \n",
       "AP006222.2    0                        0                       \n",
       "RP4-669L17.10 1                        0                       \n",
       "RP5-857K21.4  0                        0                       \n",
       "              _01_AAACGGGGTCGCCATG.1.3 _01_AAACGGGGTGCCTGCA.1.3\n",
       "RP11-34P13.7  0                        0                       \n",
       "AL627309.1    0                        0                       \n",
       "RP11-34P13.9  0                        0                       \n",
       "AP006222.2    0                        1                       \n",
       "RP4-669L17.10 0                        0                       \n",
       "RP5-857K21.4  0                        0                       \n",
       "              _01_AAACGGGTCATATCGG.1.3 _01_AAACGGGTCCCATTTA.1.3\n",
       "RP11-34P13.7  0                        0                       \n",
       "AL627309.1    0                        0                       \n",
       "RP11-34P13.9  0                        0                       \n",
       "AP006222.2    0                        1                       \n",
       "RP4-669L17.10 0                        0                       \n",
       "RP5-857K21.4  0                        0                       \n",
       "              _01_AAAGATGCATAAAGGT.1.3 _01_AAAGATGGTATAGGGC.1.3 ...\n",
       "RP11-34P13.7  0                        0                        ...\n",
       "AL627309.1    0                        0                        ...\n",
       "RP11-34P13.9  0                        0                        ...\n",
       "AP006222.2    0                        0                        ...\n",
       "RP4-669L17.10 0                        0                        ...\n",
       "RP5-857K21.4  0                        0                        ...\n",
       "              TTTGTTGAGGTGGTTG.1.1 TTTGTTGAGTGCCTCG.1.1 TTTGTTGCAAGCGAAC.1.1\n",
       "RP11-34P13.7  0                    0                    0                   \n",
       "AL627309.1    0                    0                    0                   \n",
       "RP11-34P13.9  0                    0                    0                   \n",
       "AP006222.2    0                    0                    0                   \n",
       "RP4-669L17.10 0                    0                    0                   \n",
       "RP5-857K21.4  0                    0                    0                   \n",
       "              TTTGTTGCACTGTCCT.1.1 TTTGTTGCAGCACAAG.1.1 TTTGTTGGTCAGGTAG.1.1\n",
       "RP11-34P13.7  0                    0                    0                   \n",
       "AL627309.1    0                    0                    0                   \n",
       "RP11-34P13.9  0                    0                    0                   \n",
       "AP006222.2    0                    0                    0                   \n",
       "RP4-669L17.10 0                    0                    0                   \n",
       "RP5-857K21.4  0                    0                    0                   \n",
       "              TTTGTTGTCAAGCTTG.1.1 TTTGTTGTCACTTGGA.1.1 TTTGTTGTCCTTCTGG.1.1\n",
       "RP11-34P13.7  0                    0                    0                   \n",
       "AL627309.1    0                    0                    0                   \n",
       "RP11-34P13.9  0                    0                    0                   \n",
       "AP006222.2    0                    1                    0                   \n",
       "RP4-669L17.10 0                    0                    0                   \n",
       "RP5-857K21.4  0                    0                    0                   \n",
       "              TTTGTTGTCGGTAAGG.1.1\n",
       "RP11-34P13.7  0                   \n",
       "AL627309.1    0                   \n",
       "RP11-34P13.9  0                   \n",
       "AP006222.2    0                   \n",
       "RP4-669L17.10 0                   \n",
       "RP5-857K21.4  0                   "
      ]
     },
     "metadata": {},
     "output_type": "display_data"
    }
   ],
   "source": [
    "head(combo.data)"
   ]
  },
  {
   "cell_type": "code",
   "execution_count": null,
   "metadata": {},
   "outputs": [],
   "source": []
  },
  {
   "cell_type": "code",
   "execution_count": 9,
   "metadata": {},
   "outputs": [
    {
     "data": {
      "text/html": [
       "<style>\n",
       ".list-inline {list-style: none; margin:0; padding: 0}\n",
       ".list-inline>li {display: inline-block}\n",
       ".list-inline>li:not(:last-child)::after {content: \"\\00b7\"; padding: 0 .5ex}\n",
       "</style>\n",
       "<ol class=list-inline><li>22402</li><li>32007</li></ol>\n"
      ],
      "text/latex": [
       "\\begin{enumerate*}\n",
       "\\item 22402\n",
       "\\item 32007\n",
       "\\end{enumerate*}\n"
      ],
      "text/markdown": [
       "1. 22402\n",
       "2. 32007\n",
       "\n",
       "\n"
      ],
      "text/plain": [
       "[1] 22402 32007"
      ]
     },
     "metadata": {},
     "output_type": "display_data"
    }
   ],
   "source": [
    "dim(combo.data)"
   ]
  },
  {
   "cell_type": "markdown",
   "metadata": {},
   "source": [
    "**Metadata**"
   ]
  },
  {
   "cell_type": "code",
   "execution_count": 10,
   "metadata": {},
   "outputs": [],
   "source": [
    "metadata <- read.table(paste0(data.meta, '20211102_COMBO_SPLEEN_filtered_metadata.txt'), \n",
    "                   sep='\\t', header=T, row.names = 1)"
   ]
  },
  {
   "cell_type": "code",
   "execution_count": 11,
   "metadata": {},
   "outputs": [
    {
     "data": {
      "text/html": [
       "<table>\n",
       "<caption>A data.frame: 6 x 4</caption>\n",
       "<thead>\n",
       "\t<tr><th></th><th scope=col>library</th><th scope=col>donor</th><th scope=col>leiden.1.2</th><th scope=col>annot</th></tr>\n",
       "\t<tr><th></th><th scope=col>&lt;chr&gt;</th><th scope=col>&lt;chr&gt;</th><th scope=col>&lt;int&gt;</th><th scope=col>&lt;chr&gt;</th></tr>\n",
       "</thead>\n",
       "<tbody>\n",
       "\t<tr><th scope=row>_01_AAACCTGCACTGTTAG.1.3</th><td>SIGAG9</td><td>DOD1</td><td> 0</td><td>00_HSC/MPP2</td></tr>\n",
       "\t<tr><th scope=row>_01_AAACCTGCAGGGAGAG.1.3</th><td>SIGAG9</td><td>DOD1</td><td> 6</td><td>06_MyP1    </td></tr>\n",
       "\t<tr><th scope=row>_01_AAACCTGGTTATTCTC.1.3</th><td>SIGAG9</td><td>DOD1</td><td> 3</td><td>03_LyP3    </td></tr>\n",
       "\t<tr><th scope=row>_01_AAACGGGAGGCCCTTG.1.3</th><td>SIGAG9</td><td>DOD1</td><td>12</td><td>12_MEP1    </td></tr>\n",
       "\t<tr><th scope=row>_01_AAACGGGGTCGCCATG.1.3</th><td>SIGAG9</td><td>DOD1</td><td> 6</td><td>06_MyP1    </td></tr>\n",
       "\t<tr><th scope=row>_01_AAACGGGGTGCCTGCA.1.3</th><td>SIGAG9</td><td>DOD1</td><td> 0</td><td>00_HSC/MPP2</td></tr>\n",
       "</tbody>\n",
       "</table>\n"
      ],
      "text/latex": [
       "A data.frame: 6 x 4\n",
       "\\begin{tabular}{r|llll}\n",
       "  & library & donor & leiden.1.2 & annot\\\\\n",
       "  & <chr> & <chr> & <int> & <chr>\\\\\n",
       "\\hline\n",
       "\t\\_01\\_AAACCTGCACTGTTAG.1.3 & SIGAG9 & DOD1 &  0 & 00\\_HSC/MPP2\\\\\n",
       "\t\\_01\\_AAACCTGCAGGGAGAG.1.3 & SIGAG9 & DOD1 &  6 & 06\\_MyP1    \\\\\n",
       "\t\\_01\\_AAACCTGGTTATTCTC.1.3 & SIGAG9 & DOD1 &  3 & 03\\_LyP3    \\\\\n",
       "\t\\_01\\_AAACGGGAGGCCCTTG.1.3 & SIGAG9 & DOD1 & 12 & 12\\_MEP1    \\\\\n",
       "\t\\_01\\_AAACGGGGTCGCCATG.1.3 & SIGAG9 & DOD1 &  6 & 06\\_MyP1    \\\\\n",
       "\t\\_01\\_AAACGGGGTGCCTGCA.1.3 & SIGAG9 & DOD1 &  0 & 00\\_HSC/MPP2\\\\\n",
       "\\end{tabular}\n"
      ],
      "text/markdown": [
       "\n",
       "A data.frame: 6 x 4\n",
       "\n",
       "| <!--/--> | library &lt;chr&gt; | donor &lt;chr&gt; | leiden.1.2 &lt;int&gt; | annot &lt;chr&gt; |\n",
       "|---|---|---|---|---|\n",
       "| _01_AAACCTGCACTGTTAG.1.3 | SIGAG9 | DOD1 |  0 | 00_HSC/MPP2 |\n",
       "| _01_AAACCTGCAGGGAGAG.1.3 | SIGAG9 | DOD1 |  6 | 06_MyP1     |\n",
       "| _01_AAACCTGGTTATTCTC.1.3 | SIGAG9 | DOD1 |  3 | 03_LyP3     |\n",
       "| _01_AAACGGGAGGCCCTTG.1.3 | SIGAG9 | DOD1 | 12 | 12_MEP1     |\n",
       "| _01_AAACGGGGTCGCCATG.1.3 | SIGAG9 | DOD1 |  6 | 06_MyP1     |\n",
       "| _01_AAACGGGGTGCCTGCA.1.3 | SIGAG9 | DOD1 |  0 | 00_HSC/MPP2 |\n",
       "\n"
      ],
      "text/plain": [
       "                         library donor leiden.1.2 annot      \n",
       "_01_AAACCTGCACTGTTAG.1.3 SIGAG9  DOD1   0         00_HSC/MPP2\n",
       "_01_AAACCTGCAGGGAGAG.1.3 SIGAG9  DOD1   6         06_MyP1    \n",
       "_01_AAACCTGGTTATTCTC.1.3 SIGAG9  DOD1   3         03_LyP3    \n",
       "_01_AAACGGGAGGCCCTTG.1.3 SIGAG9  DOD1  12         12_MEP1    \n",
       "_01_AAACGGGGTCGCCATG.1.3 SIGAG9  DOD1   6         06_MyP1    \n",
       "_01_AAACGGGGTGCCTGCA.1.3 SIGAG9  DOD1   0         00_HSC/MPP2"
      ]
     },
     "metadata": {},
     "output_type": "display_data"
    }
   ],
   "source": [
    "head(metadata)"
   ]
  },
  {
   "cell_type": "code",
   "execution_count": 12,
   "metadata": {},
   "outputs": [
    {
     "data": {
      "text/html": [
       "<table>\n",
       "<caption>A data.frame: 6 x 4</caption>\n",
       "<thead>\n",
       "\t<tr><th></th><th scope=col>library</th><th scope=col>donor</th><th scope=col>leiden.1.2</th><th scope=col>annot</th></tr>\n",
       "\t<tr><th></th><th scope=col>&lt;chr&gt;</th><th scope=col>&lt;chr&gt;</th><th scope=col>&lt;int&gt;</th><th scope=col>&lt;chr&gt;</th></tr>\n",
       "</thead>\n",
       "<tbody>\n",
       "\t<tr><th scope=row>TTTGTTGCAGCACAAG-1-1</th><td>SITTB8</td><td>SPL_1</td><td>NA</td><td>unassigned</td></tr>\n",
       "\t<tr><th scope=row>TTTGTTGGTCAGGTAG-1-1</th><td>SITTB8</td><td>SPL_1</td><td>NA</td><td>unassigned</td></tr>\n",
       "\t<tr><th scope=row>TTTGTTGTCAAGCTTG-1-1</th><td>SITTB8</td><td>SPL_1</td><td>NA</td><td>unassigned</td></tr>\n",
       "\t<tr><th scope=row>TTTGTTGTCACTTGGA-1-1</th><td>SITTB8</td><td>SPL_1</td><td>NA</td><td>unassigned</td></tr>\n",
       "\t<tr><th scope=row>TTTGTTGTCCTTCTGG-1-1</th><td>SITTB8</td><td>SPL_1</td><td>NA</td><td>unassigned</td></tr>\n",
       "\t<tr><th scope=row>TTTGTTGTCGGTAAGG-1-1</th><td>SITTB8</td><td>SPL_0</td><td>NA</td><td>unassigned</td></tr>\n",
       "</tbody>\n",
       "</table>\n"
      ],
      "text/latex": [
       "A data.frame: 6 x 4\n",
       "\\begin{tabular}{r|llll}\n",
       "  & library & donor & leiden.1.2 & annot\\\\\n",
       "  & <chr> & <chr> & <int> & <chr>\\\\\n",
       "\\hline\n",
       "\tTTTGTTGCAGCACAAG-1-1 & SITTB8 & SPL\\_1 & NA & unassigned\\\\\n",
       "\tTTTGTTGGTCAGGTAG-1-1 & SITTB8 & SPL\\_1 & NA & unassigned\\\\\n",
       "\tTTTGTTGTCAAGCTTG-1-1 & SITTB8 & SPL\\_1 & NA & unassigned\\\\\n",
       "\tTTTGTTGTCACTTGGA-1-1 & SITTB8 & SPL\\_1 & NA & unassigned\\\\\n",
       "\tTTTGTTGTCCTTCTGG-1-1 & SITTB8 & SPL\\_1 & NA & unassigned\\\\\n",
       "\tTTTGTTGTCGGTAAGG-1-1 & SITTB8 & SPL\\_0 & NA & unassigned\\\\\n",
       "\\end{tabular}\n"
      ],
      "text/markdown": [
       "\n",
       "A data.frame: 6 x 4\n",
       "\n",
       "| <!--/--> | library &lt;chr&gt; | donor &lt;chr&gt; | leiden.1.2 &lt;int&gt; | annot &lt;chr&gt; |\n",
       "|---|---|---|---|---|\n",
       "| TTTGTTGCAGCACAAG-1-1 | SITTB8 | SPL_1 | NA | unassigned |\n",
       "| TTTGTTGGTCAGGTAG-1-1 | SITTB8 | SPL_1 | NA | unassigned |\n",
       "| TTTGTTGTCAAGCTTG-1-1 | SITTB8 | SPL_1 | NA | unassigned |\n",
       "| TTTGTTGTCACTTGGA-1-1 | SITTB8 | SPL_1 | NA | unassigned |\n",
       "| TTTGTTGTCCTTCTGG-1-1 | SITTB8 | SPL_1 | NA | unassigned |\n",
       "| TTTGTTGTCGGTAAGG-1-1 | SITTB8 | SPL_0 | NA | unassigned |\n",
       "\n"
      ],
      "text/plain": [
       "                     library donor leiden.1.2 annot     \n",
       "TTTGTTGCAGCACAAG-1-1 SITTB8  SPL_1 NA         unassigned\n",
       "TTTGTTGGTCAGGTAG-1-1 SITTB8  SPL_1 NA         unassigned\n",
       "TTTGTTGTCAAGCTTG-1-1 SITTB8  SPL_1 NA         unassigned\n",
       "TTTGTTGTCACTTGGA-1-1 SITTB8  SPL_1 NA         unassigned\n",
       "TTTGTTGTCCTTCTGG-1-1 SITTB8  SPL_1 NA         unassigned\n",
       "TTTGTTGTCGGTAAGG-1-1 SITTB8  SPL_0 NA         unassigned"
      ]
     },
     "metadata": {},
     "output_type": "display_data"
    }
   ],
   "source": [
    "tail(metadata)"
   ]
  },
  {
   "cell_type": "code",
   "execution_count": null,
   "metadata": {},
   "outputs": [],
   "source": []
  },
  {
   "cell_type": "code",
   "execution_count": 13,
   "metadata": {},
   "outputs": [],
   "source": [
    "rownames(metadata) <- gsub('-', '.', rownames(metadata))"
   ]
  },
  {
   "cell_type": "code",
   "execution_count": null,
   "metadata": {},
   "outputs": [],
   "source": []
  },
  {
   "cell_type": "code",
   "execution_count": 14,
   "metadata": {},
   "outputs": [
    {
     "data": {
      "text/html": [
       "<style>\n",
       ".list-inline {list-style: none; margin:0; padding: 0}\n",
       ".list-inline>li {display: inline-block}\n",
       ".list-inline>li:not(:last-child)::after {content: \"\\00b7\"; padding: 0 .5ex}\n",
       "</style>\n",
       "<ol class=list-inline><li>'library'</li><li>'donor'</li><li>'leiden.1.2'</li><li>'annot'</li></ol>\n"
      ],
      "text/latex": [
       "\\begin{enumerate*}\n",
       "\\item 'library'\n",
       "\\item 'donor'\n",
       "\\item 'leiden.1.2'\n",
       "\\item 'annot'\n",
       "\\end{enumerate*}\n"
      ],
      "text/markdown": [
       "1. 'library'\n",
       "2. 'donor'\n",
       "3. 'leiden.1.2'\n",
       "4. 'annot'\n",
       "\n",
       "\n"
      ],
      "text/plain": [
       "[1] \"library\"    \"donor\"      \"leiden.1.2\" \"annot\"     "
      ]
     },
     "metadata": {},
     "output_type": "display_data"
    }
   ],
   "source": [
    "colnames(metadata)"
   ]
  },
  {
   "cell_type": "code",
   "execution_count": null,
   "metadata": {},
   "outputs": [],
   "source": []
  },
  {
   "cell_type": "code",
   "execution_count": 15,
   "metadata": {},
   "outputs": [],
   "source": [
    "metadata <- metadata[ ,c('donor','library','leiden.1.2','annot') ]"
   ]
  },
  {
   "cell_type": "code",
   "execution_count": 16,
   "metadata": {},
   "outputs": [
    {
     "data": {
      "text/html": [
       "<style>\n",
       ".list-inline {list-style: none; margin:0; padding: 0}\n",
       ".list-inline>li {display: inline-block}\n",
       ".list-inline>li:not(:last-child)::after {content: \"\\00b7\"; padding: 0 .5ex}\n",
       "</style>\n",
       "<ol class=list-inline><li>32007</li><li>4</li></ol>\n"
      ],
      "text/latex": [
       "\\begin{enumerate*}\n",
       "\\item 32007\n",
       "\\item 4\n",
       "\\end{enumerate*}\n"
      ],
      "text/markdown": [
       "1. 32007\n",
       "2. 4\n",
       "\n",
       "\n"
      ],
      "text/plain": [
       "[1] 32007     4"
      ]
     },
     "metadata": {},
     "output_type": "display_data"
    }
   ],
   "source": [
    "dim(metadata)"
   ]
  },
  {
   "cell_type": "markdown",
   "metadata": {},
   "source": [
    "Common cells between data and metadata"
   ]
  },
  {
   "cell_type": "code",
   "execution_count": 17,
   "metadata": {},
   "outputs": [],
   "source": [
    "common <- intersect( colnames(combo.data), rownames(metadata) )"
   ]
  },
  {
   "cell_type": "code",
   "execution_count": 18,
   "metadata": {},
   "outputs": [
    {
     "data": {
      "text/html": [
       "32007"
      ],
      "text/latex": [
       "32007"
      ],
      "text/markdown": [
       "32007"
      ],
      "text/plain": [
       "[1] 32007"
      ]
     },
     "metadata": {},
     "output_type": "display_data"
    }
   ],
   "source": [
    "length(common)"
   ]
  },
  {
   "cell_type": "code",
   "execution_count": null,
   "metadata": {},
   "outputs": [],
   "source": []
  },
  {
   "cell_type": "code",
   "execution_count": 19,
   "metadata": {},
   "outputs": [
    {
     "data": {
      "text/plain": [
       "[1] \"2021-11-02 16:34:52 GMT\""
      ]
     },
     "metadata": {},
     "output_type": "display_data"
    },
    {
     "name": "stderr",
     "output_type": "stream",
     "text": [
      "Warning message:\n",
      "\"Feature names cannot have underscores ('_'), replacing with dashes ('-')\"\n"
     ]
    },
    {
     "data": {
      "text/plain": [
       "[1] \"2021-11-02 16:35:01 GMT\""
      ]
     },
     "metadata": {},
     "output_type": "display_data"
    }
   ],
   "source": [
    "Sys.time()\n",
    "data <- CreateSeuratObject(counts = combo.data[,common], meta.data = metadata[common,])\n",
    "Sys.time()"
   ]
  },
  {
   "cell_type": "code",
   "execution_count": null,
   "metadata": {},
   "outputs": [],
   "source": []
  },
  {
   "cell_type": "markdown",
   "metadata": {},
   "source": [
    "**Save filtered input counts seurat obj**"
   ]
  },
  {
   "cell_type": "code",
   "execution_count": null,
   "metadata": {},
   "outputs": [],
   "source": []
  },
  {
   "cell_type": "code",
   "execution_count": 20,
   "metadata": {},
   "outputs": [
    {
     "data": {
      "text/plain": [
       "[1] \"2021-11-02 16:35:02 GMT\""
      ]
     },
     "metadata": {},
     "output_type": "display_data"
    },
    {
     "data": {
      "text/plain": [
       "[1] \"2021-11-02 16:36:46 GMT\""
      ]
     },
     "metadata": {},
     "output_type": "display_data"
    }
   ],
   "source": [
    "Sys.time()\n",
    "saveRDS(file = paste0(data.rds, '20211102_COMBO_SPLEEN_filtered_counts_Seurat3_obj.rds'), data)\n",
    "Sys.time()"
   ]
  },
  {
   "cell_type": "code",
   "execution_count": null,
   "metadata": {},
   "outputs": [],
   "source": []
  },
  {
   "cell_type": "code",
   "execution_count": 21,
   "metadata": {},
   "outputs": [
    {
     "data": {
      "text/plain": [
       "An object of class Seurat \n",
       "22402 features across 32007 samples within 1 assay \n",
       "Active assay: RNA (22402 features, 0 variable features)"
      ]
     },
     "metadata": {},
     "output_type": "display_data"
    }
   ],
   "source": [
    "data"
   ]
  },
  {
   "cell_type": "code",
   "execution_count": null,
   "metadata": {},
   "outputs": [],
   "source": []
  },
  {
   "cell_type": "code",
   "execution_count": 22,
   "metadata": {},
   "outputs": [
    {
     "data": {
      "text/html": [
       "<style>\n",
       ".list-inline {list-style: none; margin:0; padding: 0}\n",
       ".list-inline>li {display: inline-block}\n",
       ".list-inline>li:not(:last-child)::after {content: \"\\00b7\"; padding: 0 .5ex}\n",
       "</style>\n",
       "<ol class=list-inline><li>'DOD1'</li><li>'DOD2'</li><li>'DOD4'</li><li>'SPL_1'</li><li>'SPL_0'</li></ol>\n"
      ],
      "text/latex": [
       "\\begin{enumerate*}\n",
       "\\item 'DOD1'\n",
       "\\item 'DOD2'\n",
       "\\item 'DOD4'\n",
       "\\item 'SPL\\_1'\n",
       "\\item 'SPL\\_0'\n",
       "\\end{enumerate*}\n"
      ],
      "text/markdown": [
       "1. 'DOD1'\n",
       "2. 'DOD2'\n",
       "3. 'DOD4'\n",
       "4. 'SPL_1'\n",
       "5. 'SPL_0'\n",
       "\n",
       "\n"
      ],
      "text/plain": [
       "[1] \"DOD1\"  \"DOD2\"  \"DOD4\"  \"SPL_1\" \"SPL_0\""
      ]
     },
     "metadata": {},
     "output_type": "display_data"
    }
   ],
   "source": [
    "unique(metadata$donor)"
   ]
  },
  {
   "cell_type": "code",
   "execution_count": 23,
   "metadata": {},
   "outputs": [
    {
     "data": {
      "text/html": [
       "<style>\n",
       ".list-inline {list-style: none; margin:0; padding: 0}\n",
       ".list-inline>li {display: inline-block}\n",
       ".list-inline>li:not(:last-child)::after {content: \"\\00b7\"; padding: 0 .5ex}\n",
       "</style>\n",
       "<ol class=list-inline><li>'DOD1'</li><li>'DOD2'</li><li>'DOD4'</li><li>'SPL_1'</li><li>'SPL_0'</li></ol>\n"
      ],
      "text/latex": [
       "\\begin{enumerate*}\n",
       "\\item 'DOD1'\n",
       "\\item 'DOD2'\n",
       "\\item 'DOD4'\n",
       "\\item 'SPL\\_1'\n",
       "\\item 'SPL\\_0'\n",
       "\\end{enumerate*}\n"
      ],
      "text/markdown": [
       "1. 'DOD1'\n",
       "2. 'DOD2'\n",
       "3. 'DOD4'\n",
       "4. 'SPL_1'\n",
       "5. 'SPL_0'\n",
       "\n",
       "\n"
      ],
      "text/plain": [
       "[1] \"DOD1\"  \"DOD2\"  \"DOD4\"  \"SPL_1\" \"SPL_0\""
      ]
     },
     "metadata": {},
     "output_type": "display_data"
    }
   ],
   "source": [
    "unique(data@meta.data$donor)"
   ]
  },
  {
   "cell_type": "code",
   "execution_count": null,
   "metadata": {},
   "outputs": [],
   "source": []
  },
  {
   "cell_type": "code",
   "execution_count": 24,
   "metadata": {},
   "outputs": [],
   "source": [
    "data.list <- SplitObject(object = data, split.by = \"donor\")"
   ]
  },
  {
   "cell_type": "code",
   "execution_count": null,
   "metadata": {},
   "outputs": [],
   "source": []
  },
  {
   "cell_type": "code",
   "execution_count": 25,
   "metadata": {},
   "outputs": [],
   "source": [
    "for (i in 1:length(x = data.list)) {\n",
    "    data.list[[i]] <- NormalizeData(object = data.list[[i]], verbose = FALSE)\n",
    "    data.list[[i]] <- FindVariableFeatures(object = data.list[[i]], \n",
    "        selection.method = \"vst\", nfeatures = 3000, verbose = FALSE)\n",
    "}"
   ]
  },
  {
   "cell_type": "code",
   "execution_count": null,
   "metadata": {},
   "outputs": [],
   "source": []
  },
  {
   "cell_type": "code",
   "execution_count": 26,
   "metadata": {},
   "outputs": [],
   "source": [
    "reference.list <- data.list[ c(\"DOD1\", \"DOD2\", \"DOD4\", \"SPL_1\", \"SPL_0\") ]"
   ]
  },
  {
   "cell_type": "code",
   "execution_count": null,
   "metadata": {},
   "outputs": [],
   "source": []
  },
  {
   "cell_type": "code",
   "execution_count": 27,
   "metadata": {},
   "outputs": [
    {
     "data": {
      "text/plain": [
       "[1] \"2021-11-02 16:37:29 GMT\""
      ]
     },
     "metadata": {},
     "output_type": "display_data"
    },
    {
     "name": "stderr",
     "output_type": "stream",
     "text": [
      "Computing 2000 integration features\n",
      "\n",
      "Scaling features for provided objects\n",
      "\n",
      "Finding all pairwise anchors\n",
      "\n",
      "Running CCA\n",
      "\n",
      "Merging objects\n",
      "\n",
      "Finding neighborhoods\n",
      "\n",
      "Finding anchors\n",
      "\n",
      "\tFound 13029 anchors\n",
      "\n",
      "Filtering anchors\n",
      "\n",
      "\tRetained 5541 anchors\n",
      "\n",
      "Running CCA\n",
      "\n",
      "Merging objects\n",
      "\n",
      "Finding neighborhoods\n",
      "\n",
      "Finding anchors\n",
      "\n",
      "\tFound 18686 anchors\n",
      "\n",
      "Filtering anchors\n",
      "\n",
      "\tRetained 5288 anchors\n",
      "\n",
      "Running CCA\n",
      "\n",
      "Merging objects\n",
      "\n",
      "Finding neighborhoods\n",
      "\n",
      "Finding anchors\n",
      "\n",
      "\tFound 16753 anchors\n",
      "\n",
      "Filtering anchors\n",
      "\n",
      "\tRetained 5148 anchors\n",
      "\n",
      "Running CCA\n",
      "\n",
      "Merging objects\n",
      "\n",
      "Finding neighborhoods\n",
      "\n",
      "Finding anchors\n",
      "\n",
      "\tFound 12083 anchors\n",
      "\n",
      "Filtering anchors\n",
      "\n",
      "\tRetained 5617 anchors\n",
      "\n",
      "Running CCA\n",
      "\n",
      "Merging objects\n",
      "\n",
      "Finding neighborhoods\n",
      "\n",
      "Finding anchors\n",
      "\n",
      "\tFound 11455 anchors\n",
      "\n",
      "Filtering anchors\n",
      "\n",
      "\tRetained 5319 anchors\n",
      "\n",
      "Running CCA\n",
      "\n",
      "Merging objects\n",
      "\n",
      "Finding neighborhoods\n",
      "\n",
      "Finding anchors\n",
      "\n",
      "\tFound 15731 anchors\n",
      "\n",
      "Filtering anchors\n",
      "\n",
      "\tRetained 6782 anchors\n",
      "\n",
      "Running CCA\n",
      "\n",
      "Merging objects\n",
      "\n",
      "Finding neighborhoods\n",
      "\n",
      "Finding anchors\n",
      "\n",
      "\tFound 10395 anchors\n",
      "\n",
      "Filtering anchors\n",
      "\n",
      "\tRetained 4214 anchors\n",
      "\n",
      "Running CCA\n",
      "\n",
      "Merging objects\n",
      "\n",
      "Finding neighborhoods\n",
      "\n",
      "Finding anchors\n",
      "\n",
      "\tFound 9788 anchors\n",
      "\n",
      "Filtering anchors\n",
      "\n",
      "\tRetained 3681 anchors\n",
      "\n",
      "Running CCA\n",
      "\n",
      "Merging objects\n",
      "\n",
      "Finding neighborhoods\n",
      "\n",
      "Finding anchors\n",
      "\n",
      "\tFound 13854 anchors\n",
      "\n",
      "Filtering anchors\n",
      "\n",
      "\tRetained 3839 anchors\n",
      "\n",
      "Running CCA\n",
      "\n",
      "Merging objects\n",
      "\n",
      "Finding neighborhoods\n",
      "\n",
      "Finding anchors\n",
      "\n",
      "\tFound 8753 anchors\n",
      "\n",
      "Filtering anchors\n",
      "\n",
      "\tRetained 4617 anchors\n",
      "\n"
     ]
    },
    {
     "data": {
      "text/plain": [
       "[1] \"2021-11-02 16:45:07 GMT\""
      ]
     },
     "metadata": {},
     "output_type": "display_data"
    }
   ],
   "source": [
    "Sys.time()\n",
    "data.anchors <- FindIntegrationAnchors(object.list = reference.list, dims = 1:15)\n",
    "Sys.time()"
   ]
  },
  {
   "cell_type": "code",
   "execution_count": null,
   "metadata": {},
   "outputs": [],
   "source": []
  },
  {
   "cell_type": "code",
   "execution_count": 28,
   "metadata": {},
   "outputs": [],
   "source": [
    "saveRDS(file = paste0(data.rds, '20211102_COMBO_SPLEEN_Seurat3_VST_classic_anchors.rds'), data.anchors)"
   ]
  },
  {
   "cell_type": "code",
   "execution_count": null,
   "metadata": {},
   "outputs": [],
   "source": []
  },
  {
   "cell_type": "code",
   "execution_count": 29,
   "metadata": {},
   "outputs": [
    {
     "data": {
      "text/plain": [
       "[1] \"2021-11-02 16:53:49 GMT\""
      ]
     },
     "metadata": {},
     "output_type": "display_data"
    },
    {
     "name": "stderr",
     "output_type": "stream",
     "text": [
      "Merging dataset 4 into 3\n",
      "\n",
      "Extracting anchors for merged samples\n",
      "\n",
      "Finding integration vectors\n",
      "\n",
      "Finding integration vector weights\n",
      "\n",
      "Integrating data\n",
      "\n",
      "Merging dataset 2 into 1\n",
      "\n",
      "Extracting anchors for merged samples\n",
      "\n",
      "Finding integration vectors\n",
      "\n",
      "Finding integration vector weights\n",
      "\n",
      "Integrating data\n",
      "\n",
      "Merging dataset 1 2 into 3 4\n",
      "\n",
      "Extracting anchors for merged samples\n",
      "\n",
      "Finding integration vectors\n",
      "\n",
      "Finding integration vector weights\n",
      "\n",
      "Integrating data\n",
      "\n",
      "Merging dataset 5 into 3 4 1 2\n",
      "\n",
      "Extracting anchors for merged samples\n",
      "\n",
      "Finding integration vectors\n",
      "\n",
      "Finding integration vector weights\n",
      "\n",
      "Integrating data\n",
      "\n"
     ]
    },
    {
     "data": {
      "text/plain": [
       "[1] \"2021-11-02 16:56:05 GMT\""
      ]
     },
     "metadata": {},
     "output_type": "display_data"
    }
   ],
   "source": [
    "Sys.time()\n",
    "data.integrated <- IntegrateData(anchorset = data.anchors, dims = 1:15)\n",
    "Sys.time()"
   ]
  },
  {
   "cell_type": "code",
   "execution_count": null,
   "metadata": {},
   "outputs": [],
   "source": []
  },
  {
   "cell_type": "code",
   "execution_count": 30,
   "metadata": {},
   "outputs": [],
   "source": [
    "saveRDS(file = paste0(data.rds, '20211102_COMBO_SPLEEN_Seurat3_VST_classic_integrated.rds'), data.integrated)"
   ]
  },
  {
   "cell_type": "code",
   "execution_count": null,
   "metadata": {},
   "outputs": [],
   "source": []
  },
  {
   "cell_type": "code",
   "execution_count": 31,
   "metadata": {},
   "outputs": [],
   "source": [
    "data.integrated@meta.data$orig.ident <- 'WTV'"
   ]
  },
  {
   "cell_type": "code",
   "execution_count": null,
   "metadata": {},
   "outputs": [],
   "source": []
  },
  {
   "cell_type": "code",
   "execution_count": 32,
   "metadata": {},
   "outputs": [
    {
     "name": "stderr",
     "output_type": "stream",
     "text": [
      "Registered S3 method overwritten by 'SeuratDisk':\n",
      "  method            from  \n",
      "  as.sparse.H5Group Seurat\n",
      "\n"
     ]
    }
   ],
   "source": [
    "library(SeuratDisk)"
   ]
  },
  {
   "cell_type": "code",
   "execution_count": null,
   "metadata": {},
   "outputs": [],
   "source": []
  },
  {
   "cell_type": "code",
   "execution_count": 33,
   "metadata": {},
   "outputs": [],
   "source": [
    "transfile = paste0(data.path, \"../h5ad/\", \"20211102_COMBO_SPLEEN_Seurat_VST_classic_integration_processed_minimal.h5Seurat\")"
   ]
  },
  {
   "cell_type": "code",
   "execution_count": null,
   "metadata": {},
   "outputs": [],
   "source": []
  },
  {
   "cell_type": "markdown",
   "metadata": {},
   "source": [
    "# Two-step conversion to h5ad file"
   ]
  },
  {
   "cell_type": "code",
   "execution_count": 34,
   "metadata": {},
   "outputs": [
    {
     "data": {
      "text/plain": [
       "[1] \"2021-11-02 16:58:02 GMT\""
      ]
     },
     "metadata": {},
     "output_type": "display_data"
    },
    {
     "name": "stderr",
     "output_type": "stream",
     "text": [
      "Creating h5Seurat file for version 3.1.5.9900\n",
      "\n",
      "Adding counts for RNA\n",
      "\n",
      "Adding data for RNA\n",
      "\n",
      "No variable features found for RNA\n",
      "\n",
      "No feature-level metadata found for RNA\n",
      "\n",
      "Adding data for integrated\n",
      "\n",
      "Adding variable features for integrated\n",
      "\n",
      "No feature-level metadata found for integrated\n",
      "\n",
      "Validating h5Seurat file\n",
      "\n",
      "Adding data from integrated as X\n",
      "\n",
      "Transfering meta.data to obs\n",
      "\n"
     ]
    },
    {
     "data": {
      "text/plain": [
       "[1] \"2021-11-02 16:58:58 GMT\""
      ]
     },
     "metadata": {},
     "output_type": "display_data"
    }
   ],
   "source": [
    "Sys.time()\n",
    "\n",
    "SaveH5Seurat(data.integrated, filename = transfile)\n",
    "Convert(transfile, dest = \"h5ad\")\n",
    "\n",
    "Sys.time()"
   ]
  },
  {
   "cell_type": "code",
   "execution_count": null,
   "metadata": {},
   "outputs": [],
   "source": []
  },
  {
   "cell_type": "markdown",
   "metadata": {},
   "source": [
    "### Then I went back to nb ``09d_PY_...``"
   ]
  },
  {
   "cell_type": "code",
   "execution_count": null,
   "metadata": {},
   "outputs": [],
   "source": []
  }
 ],
 "metadata": {
  "kernelspec": {
   "display_name": "R",
   "language": "R",
   "name": "ir"
  },
  "language_info": {
   "codemirror_mode": "r",
   "file_extension": ".r",
   "mimetype": "text/x-r-source",
   "name": "R",
   "pygments_lexer": "r",
   "version": "4.0.3"
  },
  "widgets": {
   "application/vnd.jupyter.widget-state+json": {
    "state": {},
    "version_major": 2,
    "version_minor": 0
   }
  }
 },
 "nbformat": 4,
 "nbformat_minor": 4
}
