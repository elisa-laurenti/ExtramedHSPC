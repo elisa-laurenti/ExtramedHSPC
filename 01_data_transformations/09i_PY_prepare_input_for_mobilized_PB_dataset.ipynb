{
 "cells": [
  {
   "cell_type": "markdown",
   "metadata": {},
   "source": [
    "# Create anndata object with counts for:\n",
    "\n",
    "# all our BM, PB and mPB samples"
   ]
  },
  {
   "cell_type": "code",
   "execution_count": 1,
   "metadata": {},
   "outputs": [],
   "source": [
    "%matplotlib widget\n",
    "\n",
    "import warnings\n",
    "warnings.filterwarnings('ignore')\n",
    "\n",
    "import os, sys, math, re\n",
    "import natsort, json, operator, getpass\n",
    "from pathlib import Path\n",
    "from datetime import datetime\n",
    "\n",
    "import numpy as np\n",
    "import pandas as pd\n",
    "\n",
    "import scanpy as sc\n",
    "import scanpy.external as sce\n",
    "\n",
    "import matplotlib\n",
    "import matplotlib.pyplot as plt\n",
    "import seaborn as sns\n",
    "\n",
    "import ipywidgets as widgets"
   ]
  },
  {
   "cell_type": "code",
   "execution_count": 2,
   "metadata": {},
   "outputs": [
    {
     "data": {
      "text/plain": [
       "'metztli.25j'"
      ]
     },
     "execution_count": 2,
     "metadata": {},
     "output_type": "execute_result"
    }
   ],
   "source": [
    "with open('/.singularity.d/labels.json') as fh:\n",
    "    singularity = json.load(fh)\n",
    "    \n",
    "singularity['Version']"
   ]
  },
  {
   "cell_type": "code",
   "execution_count": 3,
   "metadata": {},
   "outputs": [],
   "source": [
    "sc.settings.verbosity = 3             # show some output\n",
    "sc.settings.file_format_figs = 'svg'  # set this to 'svg' (notebook) or 'pdf' (files) if you want vector graphics\n",
    "sc.settings.savefigs = False"
   ]
  },
  {
   "cell_type": "code",
   "execution_count": 4,
   "metadata": {},
   "outputs": [],
   "source": [
    "home = str(Path.home())\n",
    "user = getpass.getuser()"
   ]
  },
  {
   "cell_type": "code",
   "execution_count": 5,
   "metadata": {},
   "outputs": [],
   "source": [
    "\"\"\"\n",
    "Allows to create a persistent png image from\n",
    "the last plotted matplotlib plot widget\n",
    "\"\"\"\n",
    "def perma_plot():\n",
    "    \n",
    "    import base64\n",
    "    from io import BytesIO\n",
    "    from IPython.display import HTML\n",
    "    \n",
    "    # TODO: maybe pass parameters for savefig\n",
    "    #       to control quality/type of img\n",
    "    buffer = BytesIO()\n",
    "    plt.savefig(buffer, format='png')\n",
    "    buffer.seek(0)\n",
    "    \n",
    "    encoded_string = base64.b64encode(buffer.read()).decode('utf-8')\n",
    "    html_string = '<img src=\\'data:image/png;base64,{}\\'>'.format(encoded_string)\n",
    "    \n",
    "    return HTML(html_string)\n",
    "    "
   ]
  },
  {
   "cell_type": "code",
   "execution_count": 6,
   "metadata": {},
   "outputs": [],
   "source": [
    "basedir = os.path.join(home, 'databoard/users', user, '2021/BloodPaper/')\n",
    "\n",
    "sc.settings.writedir = os.path.join(basedir, 'h5ad/')"
   ]
  },
  {
   "cell_type": "code",
   "execution_count": null,
   "metadata": {},
   "outputs": [],
   "source": []
  },
  {
   "cell_type": "code",
   "execution_count": 7,
   "metadata": {},
   "outputs": [
    {
     "name": "stdout",
     "output_type": "stream",
     "text": [
      "20211110\n"
     ]
    }
   ],
   "source": [
    "now = datetime.now()\n",
    "prefix = now.strftime('%Y%m%d')\n",
    "print(prefix)"
   ]
  },
  {
   "cell_type": "code",
   "execution_count": null,
   "metadata": {},
   "outputs": [],
   "source": []
  },
  {
   "cell_type": "code",
   "execution_count": 8,
   "metadata": {},
   "outputs": [],
   "source": [
    "reference = sc.read('20211102_COMBO10_annotated_reference_filtered_and_clean')"
   ]
  },
  {
   "cell_type": "code",
   "execution_count": 9,
   "metadata": {},
   "outputs": [
    {
     "data": {
      "text/plain": [
       "AnnData object with n_obs × n_vars = 117200 × 24332\n",
       "    obs: 'batch', 'n_counts', 'n_genes', 'library', 'donor', 'organ', 'leiden.1.2', 'annot', 'silhouette.1.2', 'is_root', 'dpt_pseudotime', 'dpt_pseudotime_rank', 'S_score', 'G2M_score', 'phase'\n",
       "    var: 'gene_ids', 'n_cells', 'highly_variable', 'means', 'dispersions', 'dispersions_norm'\n",
       "    uns: 'annot_colors', 'dex_leiden_1_2', 'diffmap_evals', 'donor_colors', 'draw_graph', 'hvg', 'iroot', 'leiden', 'leiden.1.2_colors', 'log1p', 'neighbors', 'phase_colors'\n",
       "    obsm: 'X_diffmap', 'X_draw_graph_fa', 'X_pca', 'X_umap'\n",
       "    layers: 'counts', 'lognorm'\n",
       "    obsp: 'connectivities', 'distances'"
      ]
     },
     "execution_count": 9,
     "metadata": {},
     "output_type": "execute_result"
    }
   ],
   "source": [
    "reference"
   ]
  },
  {
   "cell_type": "code",
   "execution_count": null,
   "metadata": {},
   "outputs": [],
   "source": []
  },
  {
   "cell_type": "markdown",
   "metadata": {},
   "source": [
    "Subset to just SPL cells for ref"
   ]
  },
  {
   "cell_type": "code",
   "execution_count": 10,
   "metadata": {},
   "outputs": [
    {
     "data": {
      "text/plain": [
       "(95132, 24332)"
      ]
     },
     "execution_count": 10,
     "metadata": {},
     "output_type": "execute_result"
    }
   ],
   "source": [
    "ref = reference[reference.obs.organ.isin(['BM', 'PB']), :].copy()\n",
    "ref.shape"
   ]
  },
  {
   "cell_type": "code",
   "execution_count": 11,
   "metadata": {},
   "outputs": [
    {
     "data": {
      "text/plain": [
       "(0.0, 9.661618)"
      ]
     },
     "execution_count": 11,
     "metadata": {},
     "output_type": "execute_result"
    }
   ],
   "source": [
    "ref.X.min(), ref.X.max()"
   ]
  },
  {
   "cell_type": "code",
   "execution_count": 16,
   "metadata": {},
   "outputs": [
    {
     "data": {
      "text/html": [
       "<div>\n",
       "<style scoped>\n",
       "    .dataframe tbody tr th:only-of-type {\n",
       "        vertical-align: middle;\n",
       "    }\n",
       "\n",
       "    .dataframe tbody tr th {\n",
       "        vertical-align: top;\n",
       "    }\n",
       "\n",
       "    .dataframe thead th {\n",
       "        text-align: right;\n",
       "    }\n",
       "</style>\n",
       "<table border=\"1\" class=\"dataframe\">\n",
       "  <thead>\n",
       "    <tr style=\"text-align: right;\">\n",
       "      <th></th>\n",
       "      <th>batch</th>\n",
       "      <th>n_counts</th>\n",
       "      <th>n_genes</th>\n",
       "      <th>library</th>\n",
       "      <th>donor</th>\n",
       "      <th>organ</th>\n",
       "      <th>leiden.1.2</th>\n",
       "      <th>annot</th>\n",
       "      <th>silhouette.1.2</th>\n",
       "      <th>is_root</th>\n",
       "      <th>dpt_pseudotime</th>\n",
       "      <th>dpt_pseudotime_rank</th>\n",
       "      <th>S_score</th>\n",
       "      <th>G2M_score</th>\n",
       "      <th>phase</th>\n",
       "    </tr>\n",
       "  </thead>\n",
       "  <tbody>\n",
       "    <tr>\n",
       "      <th>_01_AAACCTGCACGTCTCT.1.0</th>\n",
       "      <td>0</td>\n",
       "      <td>10052.0</td>\n",
       "      <td>2399</td>\n",
       "      <td>SIGAD9</td>\n",
       "      <td>DOD1</td>\n",
       "      <td>PB</td>\n",
       "      <td>2</td>\n",
       "      <td>02_MEP2</td>\n",
       "      <td>-0.095935</td>\n",
       "      <td>False</td>\n",
       "      <td>0.224698</td>\n",
       "      <td>66554.0</td>\n",
       "      <td>-0.156682</td>\n",
       "      <td>-0.062280</td>\n",
       "      <td>G1</td>\n",
       "    </tr>\n",
       "    <tr>\n",
       "      <th>_01_AAACCTGGTGTGACGA.1.0</th>\n",
       "      <td>0</td>\n",
       "      <td>14884.0</td>\n",
       "      <td>3610</td>\n",
       "      <td>SIGAD9</td>\n",
       "      <td>DOD1</td>\n",
       "      <td>PB</td>\n",
       "      <td>13</td>\n",
       "      <td>13_MEP cycle</td>\n",
       "      <td>0.295117</td>\n",
       "      <td>False</td>\n",
       "      <td>0.396628</td>\n",
       "      <td>85875.0</td>\n",
       "      <td>0.383165</td>\n",
       "      <td>0.065524</td>\n",
       "      <td>S</td>\n",
       "    </tr>\n",
       "    <tr>\n",
       "      <th>_01_AAACCTGGTTCCGGCA.1.0</th>\n",
       "      <td>0</td>\n",
       "      <td>5547.0</td>\n",
       "      <td>1544</td>\n",
       "      <td>SIGAD9</td>\n",
       "      <td>DOD1</td>\n",
       "      <td>PB</td>\n",
       "      <td>0</td>\n",
       "      <td>00_HSC/MPP2</td>\n",
       "      <td>0.198961</td>\n",
       "      <td>False</td>\n",
       "      <td>0.082326</td>\n",
       "      <td>23761.0</td>\n",
       "      <td>-0.166414</td>\n",
       "      <td>-0.085699</td>\n",
       "      <td>G1</td>\n",
       "    </tr>\n",
       "    <tr>\n",
       "      <th>_01_AAACGGGGTCAAAGCG.1.0</th>\n",
       "      <td>0</td>\n",
       "      <td>4184.0</td>\n",
       "      <td>1159</td>\n",
       "      <td>SIGAD9</td>\n",
       "      <td>DOD1</td>\n",
       "      <td>PB</td>\n",
       "      <td>0</td>\n",
       "      <td>00_HSC/MPP2</td>\n",
       "      <td>0.031663</td>\n",
       "      <td>False</td>\n",
       "      <td>0.097205</td>\n",
       "      <td>34985.0</td>\n",
       "      <td>-0.096252</td>\n",
       "      <td>-0.099328</td>\n",
       "      <td>G1</td>\n",
       "    </tr>\n",
       "    <tr>\n",
       "      <th>_01_AAAGATGCACATGACT.1.0</th>\n",
       "      <td>0</td>\n",
       "      <td>12027.0</td>\n",
       "      <td>2548</td>\n",
       "      <td>SIGAD9</td>\n",
       "      <td>DOD1</td>\n",
       "      <td>PB</td>\n",
       "      <td>0</td>\n",
       "      <td>00_HSC/MPP2</td>\n",
       "      <td>0.034625</td>\n",
       "      <td>False</td>\n",
       "      <td>0.093352</td>\n",
       "      <td>32259.0</td>\n",
       "      <td>-0.135317</td>\n",
       "      <td>-0.064835</td>\n",
       "      <td>G1</td>\n",
       "    </tr>\n",
       "  </tbody>\n",
       "</table>\n",
       "</div>"
      ],
      "text/plain": [
       "                         batch  n_counts  n_genes library donor organ  \\\n",
       "_01_AAACCTGCACGTCTCT.1.0     0   10052.0     2399  SIGAD9  DOD1    PB   \n",
       "_01_AAACCTGGTGTGACGA.1.0     0   14884.0     3610  SIGAD9  DOD1    PB   \n",
       "_01_AAACCTGGTTCCGGCA.1.0     0    5547.0     1544  SIGAD9  DOD1    PB   \n",
       "_01_AAACGGGGTCAAAGCG.1.0     0    4184.0     1159  SIGAD9  DOD1    PB   \n",
       "_01_AAAGATGCACATGACT.1.0     0   12027.0     2548  SIGAD9  DOD1    PB   \n",
       "\n",
       "                         leiden.1.2         annot  silhouette.1.2  is_root  \\\n",
       "_01_AAACCTGCACGTCTCT.1.0          2       02_MEP2       -0.095935    False   \n",
       "_01_AAACCTGGTGTGACGA.1.0         13  13_MEP cycle        0.295117    False   \n",
       "_01_AAACCTGGTTCCGGCA.1.0          0   00_HSC/MPP2        0.198961    False   \n",
       "_01_AAACGGGGTCAAAGCG.1.0          0   00_HSC/MPP2        0.031663    False   \n",
       "_01_AAAGATGCACATGACT.1.0          0   00_HSC/MPP2        0.034625    False   \n",
       "\n",
       "                          dpt_pseudotime  dpt_pseudotime_rank   S_score  \\\n",
       "_01_AAACCTGCACGTCTCT.1.0        0.224698              66554.0 -0.156682   \n",
       "_01_AAACCTGGTGTGACGA.1.0        0.396628              85875.0  0.383165   \n",
       "_01_AAACCTGGTTCCGGCA.1.0        0.082326              23761.0 -0.166414   \n",
       "_01_AAACGGGGTCAAAGCG.1.0        0.097205              34985.0 -0.096252   \n",
       "_01_AAAGATGCACATGACT.1.0        0.093352              32259.0 -0.135317   \n",
       "\n",
       "                          G2M_score phase  \n",
       "_01_AAACCTGCACGTCTCT.1.0  -0.062280    G1  \n",
       "_01_AAACCTGGTGTGACGA.1.0   0.065524     S  \n",
       "_01_AAACCTGGTTCCGGCA.1.0  -0.085699    G1  \n",
       "_01_AAACGGGGTCAAAGCG.1.0  -0.099328    G1  \n",
       "_01_AAAGATGCACATGACT.1.0  -0.064835    G1  "
      ]
     },
     "execution_count": 16,
     "metadata": {},
     "output_type": "execute_result"
    }
   ],
   "source": [
    "ref.obs.head()"
   ]
  },
  {
   "cell_type": "code",
   "execution_count": null,
   "metadata": {},
   "outputs": [],
   "source": []
  },
  {
   "cell_type": "markdown",
   "metadata": {},
   "source": [
    "---"
   ]
  },
  {
   "cell_type": "markdown",
   "metadata": {},
   "source": [
    "---"
   ]
  },
  {
   "cell_type": "code",
   "execution_count": null,
   "metadata": {},
   "outputs": [],
   "source": []
  },
  {
   "cell_type": "code",
   "execution_count": 12,
   "metadata": {},
   "outputs": [],
   "source": [
    "target = sc.read('20211108_CONCAT_4x_mPB_lognorm')"
   ]
  },
  {
   "cell_type": "code",
   "execution_count": 13,
   "metadata": {},
   "outputs": [
    {
     "data": {
      "text/plain": [
       "(0.0, 11.212971)"
      ]
     },
     "execution_count": 13,
     "metadata": {},
     "output_type": "execute_result"
    }
   ],
   "source": [
    "target.X.min(), target.X.max()"
   ]
  },
  {
   "cell_type": "code",
   "execution_count": 14,
   "metadata": {},
   "outputs": [
    {
     "data": {
      "text/plain": [
       "(28026, 20187)"
      ]
     },
     "execution_count": 14,
     "metadata": {},
     "output_type": "execute_result"
    }
   ],
   "source": [
    "target.shape"
   ]
  },
  {
   "cell_type": "code",
   "execution_count": null,
   "metadata": {},
   "outputs": [],
   "source": []
  },
  {
   "cell_type": "code",
   "execution_count": 15,
   "metadata": {},
   "outputs": [
    {
     "data": {
      "text/html": [
       "<div>\n",
       "<style scoped>\n",
       "    .dataframe tbody tr th:only-of-type {\n",
       "        vertical-align: middle;\n",
       "    }\n",
       "\n",
       "    .dataframe tbody tr th {\n",
       "        vertical-align: top;\n",
       "    }\n",
       "\n",
       "    .dataframe thead th {\n",
       "        text-align: right;\n",
       "    }\n",
       "</style>\n",
       "<table border=\"1\" class=\"dataframe\">\n",
       "  <thead>\n",
       "    <tr style=\"text-align: right;\">\n",
       "      <th></th>\n",
       "      <th>organ</th>\n",
       "      <th>library</th>\n",
       "      <th>doublet_scores</th>\n",
       "      <th>barcode</th>\n",
       "      <th>status</th>\n",
       "      <th>assignment</th>\n",
       "      <th>log_prob_singleton</th>\n",
       "      <th>log_prob_doublet</th>\n",
       "      <th>cluster0</th>\n",
       "      <th>cluster1</th>\n",
       "      <th>genotype</th>\n",
       "      <th>n_counts</th>\n",
       "      <th>n_counts_log</th>\n",
       "      <th>n_genes</th>\n",
       "      <th>percent_mitoc</th>\n",
       "      <th>leiden.1.0</th>\n",
       "      <th>donor</th>\n",
       "      <th>annot</th>\n",
       "      <th>dataset</th>\n",
       "    </tr>\n",
       "  </thead>\n",
       "  <tbody>\n",
       "    <tr>\n",
       "      <th>AAACCCAAGGAGACCT-1-0</th>\n",
       "      <td>PB</td>\n",
       "      <td>SITTA6</td>\n",
       "      <td>0.228916</td>\n",
       "      <td>AAACCCAAGGAGACCT-1</td>\n",
       "      <td>singlet</td>\n",
       "      <td>0</td>\n",
       "      <td>-489.115073</td>\n",
       "      <td>-686.336309</td>\n",
       "      <td>-489.115073</td>\n",
       "      <td>-1615.466288</td>\n",
       "      <td>0</td>\n",
       "      <td>21339.0</td>\n",
       "      <td>4.329174</td>\n",
       "      <td>3882</td>\n",
       "      <td>0.036459</td>\n",
       "      <td>0</td>\n",
       "      <td>a_0</td>\n",
       "      <td>06_MyP1</td>\n",
       "      <td>0</td>\n",
       "    </tr>\n",
       "    <tr>\n",
       "      <th>AAACCCAAGGGAGATA-1-0</th>\n",
       "      <td>PB</td>\n",
       "      <td>SITTA6</td>\n",
       "      <td>0.242637</td>\n",
       "      <td>AAACCCAAGGGAGATA-1</td>\n",
       "      <td>singlet</td>\n",
       "      <td>0</td>\n",
       "      <td>-358.557057</td>\n",
       "      <td>-481.137968</td>\n",
       "      <td>-358.557057</td>\n",
       "      <td>-1107.146993</td>\n",
       "      <td>0</td>\n",
       "      <td>17929.0</td>\n",
       "      <td>4.253556</td>\n",
       "      <td>3197</td>\n",
       "      <td>0.050867</td>\n",
       "      <td>2</td>\n",
       "      <td>a_0</td>\n",
       "      <td>06_MyP1</td>\n",
       "      <td>0</td>\n",
       "    </tr>\n",
       "    <tr>\n",
       "      <th>AAACCCAAGTTGCTCA-1-0</th>\n",
       "      <td>PB</td>\n",
       "      <td>SITTA6</td>\n",
       "      <td>0.142056</td>\n",
       "      <td>AAACCCAAGTTGCTCA-1</td>\n",
       "      <td>singlet</td>\n",
       "      <td>1</td>\n",
       "      <td>-1035.739013</td>\n",
       "      <td>-1471.492468</td>\n",
       "      <td>-3158.403231</td>\n",
       "      <td>-1035.739013</td>\n",
       "      <td>1</td>\n",
       "      <td>25065.0</td>\n",
       "      <td>4.399068</td>\n",
       "      <td>4920</td>\n",
       "      <td>0.055057</td>\n",
       "      <td>9</td>\n",
       "      <td>a_1</td>\n",
       "      <td>09_MyP2</td>\n",
       "      <td>0</td>\n",
       "    </tr>\n",
       "    <tr>\n",
       "      <th>AAACCCAGTACGGCAA-1-0</th>\n",
       "      <td>PB</td>\n",
       "      <td>SITTA6</td>\n",
       "      <td>0.175573</td>\n",
       "      <td>AAACCCAGTACGGCAA-1</td>\n",
       "      <td>singlet</td>\n",
       "      <td>0</td>\n",
       "      <td>-607.267486</td>\n",
       "      <td>-811.240879</td>\n",
       "      <td>-607.267486</td>\n",
       "      <td>-1754.079661</td>\n",
       "      <td>0</td>\n",
       "      <td>18397.0</td>\n",
       "      <td>4.264747</td>\n",
       "      <td>3681</td>\n",
       "      <td>0.068435</td>\n",
       "      <td>6</td>\n",
       "      <td>a_0</td>\n",
       "      <td>06_MyP1</td>\n",
       "      <td>0</td>\n",
       "    </tr>\n",
       "    <tr>\n",
       "      <th>AAACCCAGTCATGCAT-1-0</th>\n",
       "      <td>PB</td>\n",
       "      <td>SITTA6</td>\n",
       "      <td>0.145299</td>\n",
       "      <td>AAACCCAGTCATGCAT-1</td>\n",
       "      <td>singlet</td>\n",
       "      <td>0</td>\n",
       "      <td>-460.927737</td>\n",
       "      <td>-628.601506</td>\n",
       "      <td>-460.927737</td>\n",
       "      <td>-1328.441485</td>\n",
       "      <td>0</td>\n",
       "      <td>15533.0</td>\n",
       "      <td>4.191256</td>\n",
       "      <td>3272</td>\n",
       "      <td>0.040816</td>\n",
       "      <td>0</td>\n",
       "      <td>a_0</td>\n",
       "      <td>05_HSC/MPP3</td>\n",
       "      <td>0</td>\n",
       "    </tr>\n",
       "  </tbody>\n",
       "</table>\n",
       "</div>"
      ],
      "text/plain": [
       "                     organ library  doublet_scores             barcode  \\\n",
       "AAACCCAAGGAGACCT-1-0    PB  SITTA6        0.228916  AAACCCAAGGAGACCT-1   \n",
       "AAACCCAAGGGAGATA-1-0    PB  SITTA6        0.242637  AAACCCAAGGGAGATA-1   \n",
       "AAACCCAAGTTGCTCA-1-0    PB  SITTA6        0.142056  AAACCCAAGTTGCTCA-1   \n",
       "AAACCCAGTACGGCAA-1-0    PB  SITTA6        0.175573  AAACCCAGTACGGCAA-1   \n",
       "AAACCCAGTCATGCAT-1-0    PB  SITTA6        0.145299  AAACCCAGTCATGCAT-1   \n",
       "\n",
       "                       status assignment  log_prob_singleton  \\\n",
       "AAACCCAAGGAGACCT-1-0  singlet          0         -489.115073   \n",
       "AAACCCAAGGGAGATA-1-0  singlet          0         -358.557057   \n",
       "AAACCCAAGTTGCTCA-1-0  singlet          1        -1035.739013   \n",
       "AAACCCAGTACGGCAA-1-0  singlet          0         -607.267486   \n",
       "AAACCCAGTCATGCAT-1-0  singlet          0         -460.927737   \n",
       "\n",
       "                      log_prob_doublet     cluster0     cluster1 genotype  \\\n",
       "AAACCCAAGGAGACCT-1-0       -686.336309  -489.115073 -1615.466288        0   \n",
       "AAACCCAAGGGAGATA-1-0       -481.137968  -358.557057 -1107.146993        0   \n",
       "AAACCCAAGTTGCTCA-1-0      -1471.492468 -3158.403231 -1035.739013        1   \n",
       "AAACCCAGTACGGCAA-1-0       -811.240879  -607.267486 -1754.079661        0   \n",
       "AAACCCAGTCATGCAT-1-0       -628.601506  -460.927737 -1328.441485        0   \n",
       "\n",
       "                      n_counts  n_counts_log  n_genes  percent_mitoc  \\\n",
       "AAACCCAAGGAGACCT-1-0   21339.0      4.329174     3882       0.036459   \n",
       "AAACCCAAGGGAGATA-1-0   17929.0      4.253556     3197       0.050867   \n",
       "AAACCCAAGTTGCTCA-1-0   25065.0      4.399068     4920       0.055057   \n",
       "AAACCCAGTACGGCAA-1-0   18397.0      4.264747     3681       0.068435   \n",
       "AAACCCAGTCATGCAT-1-0   15533.0      4.191256     3272       0.040816   \n",
       "\n",
       "                     leiden.1.0 donor        annot dataset  \n",
       "AAACCCAAGGAGACCT-1-0          0   a_0      06_MyP1       0  \n",
       "AAACCCAAGGGAGATA-1-0          2   a_0      06_MyP1       0  \n",
       "AAACCCAAGTTGCTCA-1-0          9   a_1      09_MyP2       0  \n",
       "AAACCCAGTACGGCAA-1-0          6   a_0      06_MyP1       0  \n",
       "AAACCCAGTCATGCAT-1-0          0   a_0  05_HSC/MPP3       0  "
      ]
     },
     "execution_count": 15,
     "metadata": {},
     "output_type": "execute_result"
    }
   ],
   "source": [
    "target.obs.head()"
   ]
  },
  {
   "cell_type": "code",
   "execution_count": null,
   "metadata": {},
   "outputs": [],
   "source": []
  },
  {
   "cell_type": "markdown",
   "metadata": {},
   "source": [
    "Adjust index for 'Seurat compliance'"
   ]
  },
  {
   "cell_type": "code",
   "execution_count": 19,
   "metadata": {},
   "outputs": [],
   "source": [
    "target.obs.index = [ x.replace('-', '.') for x in target.obs.index ]"
   ]
  },
  {
   "cell_type": "code",
   "execution_count": null,
   "metadata": {},
   "outputs": [],
   "source": []
  },
  {
   "cell_type": "code",
   "execution_count": 20,
   "metadata": {},
   "outputs": [],
   "source": [
    "combo = ref.concatenate(target, batch_key='groupset', batch_categories=['ref', 'target'], index_unique=None)"
   ]
  },
  {
   "cell_type": "code",
   "execution_count": 21,
   "metadata": {},
   "outputs": [
    {
     "data": {
      "text/plain": [
       "AnnData object with n_obs × n_vars = 123158 × 20169\n",
       "    obs: 'batch', 'n_counts', 'n_genes', 'library', 'donor', 'organ', 'leiden.1.2', 'annot', 'silhouette.1.2', 'is_root', 'dpt_pseudotime', 'dpt_pseudotime_rank', 'S_score', 'G2M_score', 'phase', 'doublet_scores', 'barcode', 'status', 'assignment', 'log_prob_singleton', 'log_prob_doublet', 'cluster0', 'cluster1', 'genotype', 'n_counts_log', 'percent_mitoc', 'leiden.1.0', 'dataset', 'groupset'\n",
       "    var: 'gene_ids', 'n_cells-ref', 'highly_variable-ref', 'means-ref', 'dispersions-ref', 'dispersions_norm-ref', 'feature_types-target', 'genome-target', 'n_cells-0-target', 'highly_variable-0-target', 'means-0-target', 'dispersions-0-target', 'dispersions_norm-0-target', 'mean-0-target', 'std-0-target', 'n_cells-1-target', 'highly_variable-1-target', 'means-1-target', 'dispersions-1-target', 'dispersions_norm-1-target', 'mean-1-target', 'std-1-target'\n",
       "    obsm: 'X_pca', 'X_umap'\n",
       "    layers: 'counts', 'lognorm'"
      ]
     },
     "execution_count": 21,
     "metadata": {},
     "output_type": "execute_result"
    }
   ],
   "source": [
    "combo"
   ]
  },
  {
   "cell_type": "code",
   "execution_count": null,
   "metadata": {},
   "outputs": [],
   "source": []
  },
  {
   "cell_type": "code",
   "execution_count": 22,
   "metadata": {},
   "outputs": [
    {
     "data": {
      "text/html": [
       "<div>\n",
       "<style scoped>\n",
       "    .dataframe tbody tr th:only-of-type {\n",
       "        vertical-align: middle;\n",
       "    }\n",
       "\n",
       "    .dataframe tbody tr th {\n",
       "        vertical-align: top;\n",
       "    }\n",
       "\n",
       "    .dataframe thead th {\n",
       "        text-align: right;\n",
       "    }\n",
       "</style>\n",
       "<table border=\"1\" class=\"dataframe\">\n",
       "  <thead>\n",
       "    <tr style=\"text-align: right;\">\n",
       "      <th></th>\n",
       "      <th>batch</th>\n",
       "      <th>n_counts</th>\n",
       "      <th>n_genes</th>\n",
       "      <th>library</th>\n",
       "      <th>donor</th>\n",
       "      <th>organ</th>\n",
       "      <th>leiden.1.2</th>\n",
       "      <th>annot</th>\n",
       "      <th>silhouette.1.2</th>\n",
       "      <th>is_root</th>\n",
       "      <th>...</th>\n",
       "      <th>log_prob_singleton</th>\n",
       "      <th>log_prob_doublet</th>\n",
       "      <th>cluster0</th>\n",
       "      <th>cluster1</th>\n",
       "      <th>genotype</th>\n",
       "      <th>n_counts_log</th>\n",
       "      <th>percent_mitoc</th>\n",
       "      <th>leiden.1.0</th>\n",
       "      <th>dataset</th>\n",
       "      <th>groupset</th>\n",
       "    </tr>\n",
       "  </thead>\n",
       "  <tbody>\n",
       "    <tr>\n",
       "      <th>_01_AAACCTGCACGTCTCT.1.0</th>\n",
       "      <td>0</td>\n",
       "      <td>10052.0</td>\n",
       "      <td>2399</td>\n",
       "      <td>SIGAD9</td>\n",
       "      <td>DOD1</td>\n",
       "      <td>PB</td>\n",
       "      <td>2</td>\n",
       "      <td>02_MEP2</td>\n",
       "      <td>-0.095935</td>\n",
       "      <td>False</td>\n",
       "      <td>...</td>\n",
       "      <td>NaN</td>\n",
       "      <td>NaN</td>\n",
       "      <td>NaN</td>\n",
       "      <td>NaN</td>\n",
       "      <td>NaN</td>\n",
       "      <td>NaN</td>\n",
       "      <td>NaN</td>\n",
       "      <td>NaN</td>\n",
       "      <td>NaN</td>\n",
       "      <td>ref</td>\n",
       "    </tr>\n",
       "    <tr>\n",
       "      <th>_01_AAACCTGGTGTGACGA.1.0</th>\n",
       "      <td>0</td>\n",
       "      <td>14884.0</td>\n",
       "      <td>3610</td>\n",
       "      <td>SIGAD9</td>\n",
       "      <td>DOD1</td>\n",
       "      <td>PB</td>\n",
       "      <td>13</td>\n",
       "      <td>13_MEP cycle</td>\n",
       "      <td>0.295117</td>\n",
       "      <td>False</td>\n",
       "      <td>...</td>\n",
       "      <td>NaN</td>\n",
       "      <td>NaN</td>\n",
       "      <td>NaN</td>\n",
       "      <td>NaN</td>\n",
       "      <td>NaN</td>\n",
       "      <td>NaN</td>\n",
       "      <td>NaN</td>\n",
       "      <td>NaN</td>\n",
       "      <td>NaN</td>\n",
       "      <td>ref</td>\n",
       "    </tr>\n",
       "    <tr>\n",
       "      <th>_01_AAACCTGGTTCCGGCA.1.0</th>\n",
       "      <td>0</td>\n",
       "      <td>5547.0</td>\n",
       "      <td>1544</td>\n",
       "      <td>SIGAD9</td>\n",
       "      <td>DOD1</td>\n",
       "      <td>PB</td>\n",
       "      <td>0</td>\n",
       "      <td>00_HSC/MPP2</td>\n",
       "      <td>0.198961</td>\n",
       "      <td>False</td>\n",
       "      <td>...</td>\n",
       "      <td>NaN</td>\n",
       "      <td>NaN</td>\n",
       "      <td>NaN</td>\n",
       "      <td>NaN</td>\n",
       "      <td>NaN</td>\n",
       "      <td>NaN</td>\n",
       "      <td>NaN</td>\n",
       "      <td>NaN</td>\n",
       "      <td>NaN</td>\n",
       "      <td>ref</td>\n",
       "    </tr>\n",
       "    <tr>\n",
       "      <th>_01_AAACGGGGTCAAAGCG.1.0</th>\n",
       "      <td>0</td>\n",
       "      <td>4184.0</td>\n",
       "      <td>1159</td>\n",
       "      <td>SIGAD9</td>\n",
       "      <td>DOD1</td>\n",
       "      <td>PB</td>\n",
       "      <td>0</td>\n",
       "      <td>00_HSC/MPP2</td>\n",
       "      <td>0.031663</td>\n",
       "      <td>False</td>\n",
       "      <td>...</td>\n",
       "      <td>NaN</td>\n",
       "      <td>NaN</td>\n",
       "      <td>NaN</td>\n",
       "      <td>NaN</td>\n",
       "      <td>NaN</td>\n",
       "      <td>NaN</td>\n",
       "      <td>NaN</td>\n",
       "      <td>NaN</td>\n",
       "      <td>NaN</td>\n",
       "      <td>ref</td>\n",
       "    </tr>\n",
       "    <tr>\n",
       "      <th>_01_AAAGATGCACATGACT.1.0</th>\n",
       "      <td>0</td>\n",
       "      <td>12027.0</td>\n",
       "      <td>2548</td>\n",
       "      <td>SIGAD9</td>\n",
       "      <td>DOD1</td>\n",
       "      <td>PB</td>\n",
       "      <td>0</td>\n",
       "      <td>00_HSC/MPP2</td>\n",
       "      <td>0.034625</td>\n",
       "      <td>False</td>\n",
       "      <td>...</td>\n",
       "      <td>NaN</td>\n",
       "      <td>NaN</td>\n",
       "      <td>NaN</td>\n",
       "      <td>NaN</td>\n",
       "      <td>NaN</td>\n",
       "      <td>NaN</td>\n",
       "      <td>NaN</td>\n",
       "      <td>NaN</td>\n",
       "      <td>NaN</td>\n",
       "      <td>ref</td>\n",
       "    </tr>\n",
       "  </tbody>\n",
       "</table>\n",
       "<p>5 rows × 29 columns</p>\n",
       "</div>"
      ],
      "text/plain": [
       "                         batch  n_counts  n_genes library donor organ  \\\n",
       "_01_AAACCTGCACGTCTCT.1.0     0   10052.0     2399  SIGAD9  DOD1    PB   \n",
       "_01_AAACCTGGTGTGACGA.1.0     0   14884.0     3610  SIGAD9  DOD1    PB   \n",
       "_01_AAACCTGGTTCCGGCA.1.0     0    5547.0     1544  SIGAD9  DOD1    PB   \n",
       "_01_AAACGGGGTCAAAGCG.1.0     0    4184.0     1159  SIGAD9  DOD1    PB   \n",
       "_01_AAAGATGCACATGACT.1.0     0   12027.0     2548  SIGAD9  DOD1    PB   \n",
       "\n",
       "                         leiden.1.2         annot  silhouette.1.2 is_root  \\\n",
       "_01_AAACCTGCACGTCTCT.1.0          2       02_MEP2       -0.095935   False   \n",
       "_01_AAACCTGGTGTGACGA.1.0         13  13_MEP cycle        0.295117   False   \n",
       "_01_AAACCTGGTTCCGGCA.1.0          0   00_HSC/MPP2        0.198961   False   \n",
       "_01_AAACGGGGTCAAAGCG.1.0          0   00_HSC/MPP2        0.031663   False   \n",
       "_01_AAAGATGCACATGACT.1.0          0   00_HSC/MPP2        0.034625   False   \n",
       "\n",
       "                          ...  log_prob_singleton  log_prob_doublet  cluster0  \\\n",
       "_01_AAACCTGCACGTCTCT.1.0  ...                 NaN               NaN       NaN   \n",
       "_01_AAACCTGGTGTGACGA.1.0  ...                 NaN               NaN       NaN   \n",
       "_01_AAACCTGGTTCCGGCA.1.0  ...                 NaN               NaN       NaN   \n",
       "_01_AAACGGGGTCAAAGCG.1.0  ...                 NaN               NaN       NaN   \n",
       "_01_AAAGATGCACATGACT.1.0  ...                 NaN               NaN       NaN   \n",
       "\n",
       "                          cluster1 genotype  n_counts_log percent_mitoc  \\\n",
       "_01_AAACCTGCACGTCTCT.1.0       NaN      NaN           NaN           NaN   \n",
       "_01_AAACCTGGTGTGACGA.1.0       NaN      NaN           NaN           NaN   \n",
       "_01_AAACCTGGTTCCGGCA.1.0       NaN      NaN           NaN           NaN   \n",
       "_01_AAACGGGGTCAAAGCG.1.0       NaN      NaN           NaN           NaN   \n",
       "_01_AAAGATGCACATGACT.1.0       NaN      NaN           NaN           NaN   \n",
       "\n",
       "                         leiden.1.0 dataset  groupset  \n",
       "_01_AAACCTGCACGTCTCT.1.0        NaN     NaN       ref  \n",
       "_01_AAACCTGGTGTGACGA.1.0        NaN     NaN       ref  \n",
       "_01_AAACCTGGTTCCGGCA.1.0        NaN     NaN       ref  \n",
       "_01_AAACGGGGTCAAAGCG.1.0        NaN     NaN       ref  \n",
       "_01_AAAGATGCACATGACT.1.0        NaN     NaN       ref  \n",
       "\n",
       "[5 rows x 29 columns]"
      ]
     },
     "execution_count": 22,
     "metadata": {},
     "output_type": "execute_result"
    }
   ],
   "source": [
    "combo.obs.head()"
   ]
  },
  {
   "cell_type": "code",
   "execution_count": 23,
   "metadata": {},
   "outputs": [
    {
     "data": {
      "text/html": [
       "<div>\n",
       "<style scoped>\n",
       "    .dataframe tbody tr th:only-of-type {\n",
       "        vertical-align: middle;\n",
       "    }\n",
       "\n",
       "    .dataframe tbody tr th {\n",
       "        vertical-align: top;\n",
       "    }\n",
       "\n",
       "    .dataframe thead th {\n",
       "        text-align: right;\n",
       "    }\n",
       "</style>\n",
       "<table border=\"1\" class=\"dataframe\">\n",
       "  <thead>\n",
       "    <tr style=\"text-align: right;\">\n",
       "      <th></th>\n",
       "      <th>batch</th>\n",
       "      <th>n_counts</th>\n",
       "      <th>n_genes</th>\n",
       "      <th>library</th>\n",
       "      <th>donor</th>\n",
       "      <th>organ</th>\n",
       "      <th>leiden.1.2</th>\n",
       "      <th>annot</th>\n",
       "      <th>silhouette.1.2</th>\n",
       "      <th>is_root</th>\n",
       "      <th>...</th>\n",
       "      <th>log_prob_singleton</th>\n",
       "      <th>log_prob_doublet</th>\n",
       "      <th>cluster0</th>\n",
       "      <th>cluster1</th>\n",
       "      <th>genotype</th>\n",
       "      <th>n_counts_log</th>\n",
       "      <th>percent_mitoc</th>\n",
       "      <th>leiden.1.0</th>\n",
       "      <th>dataset</th>\n",
       "      <th>groupset</th>\n",
       "    </tr>\n",
       "  </thead>\n",
       "  <tbody>\n",
       "    <tr>\n",
       "      <th>TTTGTTGCAAGCTACT.1.1</th>\n",
       "      <td>NaN</td>\n",
       "      <td>27911.0</td>\n",
       "      <td>4841</td>\n",
       "      <td>SITTC8</td>\n",
       "      <td>b_1</td>\n",
       "      <td>PB</td>\n",
       "      <td>NaN</td>\n",
       "      <td>07_MPP-to-CMP</td>\n",
       "      <td>NaN</td>\n",
       "      <td>NaN</td>\n",
       "      <td>...</td>\n",
       "      <td>-1275.609930</td>\n",
       "      <td>-1605.203130</td>\n",
       "      <td>-3526.124283</td>\n",
       "      <td>-1275.609930</td>\n",
       "      <td>1</td>\n",
       "      <td>4.445776</td>\n",
       "      <td>0.038121</td>\n",
       "      <td>1</td>\n",
       "      <td>1</td>\n",
       "      <td>target</td>\n",
       "    </tr>\n",
       "    <tr>\n",
       "      <th>TTTGTTGCACACGGTC.1.1</th>\n",
       "      <td>NaN</td>\n",
       "      <td>29528.0</td>\n",
       "      <td>5371</td>\n",
       "      <td>SITTC8</td>\n",
       "      <td>b_0</td>\n",
       "      <td>PB</td>\n",
       "      <td>NaN</td>\n",
       "      <td>06_MyP1</td>\n",
       "      <td>NaN</td>\n",
       "      <td>NaN</td>\n",
       "      <td>...</td>\n",
       "      <td>-1277.471931</td>\n",
       "      <td>-1836.788855</td>\n",
       "      <td>-1277.471931</td>\n",
       "      <td>-3733.587694</td>\n",
       "      <td>0</td>\n",
       "      <td>4.470234</td>\n",
       "      <td>0.044771</td>\n",
       "      <td>0</td>\n",
       "      <td>1</td>\n",
       "      <td>target</td>\n",
       "    </tr>\n",
       "    <tr>\n",
       "      <th>TTTGTTGGTGGTCTAT.1.1</th>\n",
       "      <td>NaN</td>\n",
       "      <td>9930.0</td>\n",
       "      <td>2662</td>\n",
       "      <td>SITTC8</td>\n",
       "      <td>b_0</td>\n",
       "      <td>PB</td>\n",
       "      <td>NaN</td>\n",
       "      <td>06_MyP1</td>\n",
       "      <td>NaN</td>\n",
       "      <td>NaN</td>\n",
       "      <td>...</td>\n",
       "      <td>-409.008240</td>\n",
       "      <td>-598.676178</td>\n",
       "      <td>-409.008240</td>\n",
       "      <td>-1195.806278</td>\n",
       "      <td>0</td>\n",
       "      <td>3.996949</td>\n",
       "      <td>0.037664</td>\n",
       "      <td>0</td>\n",
       "      <td>1</td>\n",
       "      <td>target</td>\n",
       "    </tr>\n",
       "    <tr>\n",
       "      <th>TTTGTTGTCACTTGTT.1.1</th>\n",
       "      <td>NaN</td>\n",
       "      <td>17219.0</td>\n",
       "      <td>3893</td>\n",
       "      <td>SITTC8</td>\n",
       "      <td>b_0</td>\n",
       "      <td>PB</td>\n",
       "      <td>NaN</td>\n",
       "      <td>06_MyP1</td>\n",
       "      <td>NaN</td>\n",
       "      <td>NaN</td>\n",
       "      <td>...</td>\n",
       "      <td>-816.248605</td>\n",
       "      <td>-1210.665789</td>\n",
       "      <td>-816.248605</td>\n",
       "      <td>-2389.389793</td>\n",
       "      <td>0</td>\n",
       "      <td>4.236008</td>\n",
       "      <td>0.041001</td>\n",
       "      <td>0</td>\n",
       "      <td>1</td>\n",
       "      <td>target</td>\n",
       "    </tr>\n",
       "    <tr>\n",
       "      <th>TTTGTTGTCGCAGTCG.1.1</th>\n",
       "      <td>NaN</td>\n",
       "      <td>12823.0</td>\n",
       "      <td>3016</td>\n",
       "      <td>SITTC8</td>\n",
       "      <td>b_0</td>\n",
       "      <td>PB</td>\n",
       "      <td>NaN</td>\n",
       "      <td>00_HSC/MPP2</td>\n",
       "      <td>NaN</td>\n",
       "      <td>NaN</td>\n",
       "      <td>...</td>\n",
       "      <td>-428.890376</td>\n",
       "      <td>-616.488900</td>\n",
       "      <td>-428.890376</td>\n",
       "      <td>-1231.941425</td>\n",
       "      <td>0</td>\n",
       "      <td>4.107990</td>\n",
       "      <td>0.057709</td>\n",
       "      <td>2</td>\n",
       "      <td>1</td>\n",
       "      <td>target</td>\n",
       "    </tr>\n",
       "  </tbody>\n",
       "</table>\n",
       "<p>5 rows × 29 columns</p>\n",
       "</div>"
      ],
      "text/plain": [
       "                     batch  n_counts  n_genes library donor organ leiden.1.2  \\\n",
       "TTTGTTGCAAGCTACT.1.1   NaN   27911.0     4841  SITTC8   b_1    PB        NaN   \n",
       "TTTGTTGCACACGGTC.1.1   NaN   29528.0     5371  SITTC8   b_0    PB        NaN   \n",
       "TTTGTTGGTGGTCTAT.1.1   NaN    9930.0     2662  SITTC8   b_0    PB        NaN   \n",
       "TTTGTTGTCACTTGTT.1.1   NaN   17219.0     3893  SITTC8   b_0    PB        NaN   \n",
       "TTTGTTGTCGCAGTCG.1.1   NaN   12823.0     3016  SITTC8   b_0    PB        NaN   \n",
       "\n",
       "                              annot  silhouette.1.2 is_root  ...  \\\n",
       "TTTGTTGCAAGCTACT.1.1  07_MPP-to-CMP             NaN     NaN  ...   \n",
       "TTTGTTGCACACGGTC.1.1        06_MyP1             NaN     NaN  ...   \n",
       "TTTGTTGGTGGTCTAT.1.1        06_MyP1             NaN     NaN  ...   \n",
       "TTTGTTGTCACTTGTT.1.1        06_MyP1             NaN     NaN  ...   \n",
       "TTTGTTGTCGCAGTCG.1.1    00_HSC/MPP2             NaN     NaN  ...   \n",
       "\n",
       "                      log_prob_singleton  log_prob_doublet     cluster0  \\\n",
       "TTTGTTGCAAGCTACT.1.1        -1275.609930      -1605.203130 -3526.124283   \n",
       "TTTGTTGCACACGGTC.1.1        -1277.471931      -1836.788855 -1277.471931   \n",
       "TTTGTTGGTGGTCTAT.1.1         -409.008240       -598.676178  -409.008240   \n",
       "TTTGTTGTCACTTGTT.1.1         -816.248605      -1210.665789  -816.248605   \n",
       "TTTGTTGTCGCAGTCG.1.1         -428.890376       -616.488900  -428.890376   \n",
       "\n",
       "                         cluster1 genotype  n_counts_log percent_mitoc  \\\n",
       "TTTGTTGCAAGCTACT.1.1 -1275.609930        1      4.445776      0.038121   \n",
       "TTTGTTGCACACGGTC.1.1 -3733.587694        0      4.470234      0.044771   \n",
       "TTTGTTGGTGGTCTAT.1.1 -1195.806278        0      3.996949      0.037664   \n",
       "TTTGTTGTCACTTGTT.1.1 -2389.389793        0      4.236008      0.041001   \n",
       "TTTGTTGTCGCAGTCG.1.1 -1231.941425        0      4.107990      0.057709   \n",
       "\n",
       "                     leiden.1.0 dataset  groupset  \n",
       "TTTGTTGCAAGCTACT.1.1          1       1    target  \n",
       "TTTGTTGCACACGGTC.1.1          0       1    target  \n",
       "TTTGTTGGTGGTCTAT.1.1          0       1    target  \n",
       "TTTGTTGTCACTTGTT.1.1          0       1    target  \n",
       "TTTGTTGTCGCAGTCG.1.1          2       1    target  \n",
       "\n",
       "[5 rows x 29 columns]"
      ]
     },
     "execution_count": 23,
     "metadata": {},
     "output_type": "execute_result"
    }
   ],
   "source": [
    "combo.obs.tail()"
   ]
  },
  {
   "cell_type": "code",
   "execution_count": null,
   "metadata": {},
   "outputs": [],
   "source": []
  },
  {
   "cell_type": "code",
   "execution_count": 24,
   "metadata": {},
   "outputs": [],
   "source": [
    "sex_linked = ['RPS4Y1','NACA2','RPL10L','TIPIN','ZNF90','UQCRHL','DDX3Y','EIF1AY',\n",
    "              'MIF-AS1','ATP5L2','GREM1','EDARADD','AC009501.4','NBEAL1','MTRNR2L12',\n",
    "              'FKBP1C','AC090498.1','NHSL2','LRRC69','MTRNR2L8','HNRNPA1L2','PABPC3',\n",
    "              'RP11-302B13.5','RP5-940J5.9','EIF5AL','XIST']"
   ]
  },
  {
   "cell_type": "code",
   "execution_count": null,
   "metadata": {},
   "outputs": [],
   "source": []
  },
  {
   "cell_type": "code",
   "execution_count": 25,
   "metadata": {},
   "outputs": [],
   "source": [
    "combo = combo[:, [x for x in combo.var.index if x not in sex_linked]].copy()"
   ]
  },
  {
   "cell_type": "code",
   "execution_count": null,
   "metadata": {},
   "outputs": [],
   "source": []
  },
  {
   "cell_type": "code",
   "execution_count": 26,
   "metadata": {},
   "outputs": [
    {
     "data": {
      "text/plain": [
       "<123158x20150 sparse matrix of type '<class 'numpy.float32'>'\n",
       "\twith 284958961 stored elements in Compressed Sparse Row format>"
      ]
     },
     "execution_count": 26,
     "metadata": {},
     "output_type": "execute_result"
    }
   ],
   "source": [
    "combo[:, combo.var.index].X"
   ]
  },
  {
   "cell_type": "code",
   "execution_count": null,
   "metadata": {},
   "outputs": [],
   "source": []
  },
  {
   "cell_type": "code",
   "execution_count": 27,
   "metadata": {},
   "outputs": [
    {
     "data": {
      "text/plain": [
       "Index(['batch', 'n_counts', 'n_genes', 'library', 'donor', 'organ',\n",
       "       'leiden.1.2', 'annot', 'silhouette.1.2', 'is_root', 'dpt_pseudotime',\n",
       "       'dpt_pseudotime_rank', 'S_score', 'G2M_score', 'phase',\n",
       "       'doublet_scores', 'barcode', 'status', 'assignment',\n",
       "       'log_prob_singleton', 'log_prob_doublet', 'cluster0', 'cluster1',\n",
       "       'genotype', 'n_counts_log', 'percent_mitoc', 'leiden.1.0', 'dataset',\n",
       "       'groupset'],\n",
       "      dtype='object')"
      ]
     },
     "execution_count": 27,
     "metadata": {},
     "output_type": "execute_result"
    }
   ],
   "source": [
    "combo.obs.columns"
   ]
  },
  {
   "cell_type": "code",
   "execution_count": null,
   "metadata": {},
   "outputs": [],
   "source": []
  },
  {
   "cell_type": "code",
   "execution_count": 29,
   "metadata": {},
   "outputs": [
    {
     "data": {
      "text/html": [
       "<div>\n",
       "<style scoped>\n",
       "    .dataframe tbody tr th:only-of-type {\n",
       "        vertical-align: middle;\n",
       "    }\n",
       "\n",
       "    .dataframe tbody tr th {\n",
       "        vertical-align: top;\n",
       "    }\n",
       "\n",
       "    .dataframe thead th {\n",
       "        text-align: right;\n",
       "    }\n",
       "</style>\n",
       "<table border=\"1\" class=\"dataframe\">\n",
       "  <thead>\n",
       "    <tr style=\"text-align: right;\">\n",
       "      <th></th>\n",
       "      <th>groupset</th>\n",
       "      <th>library</th>\n",
       "      <th>donor</th>\n",
       "      <th>organ</th>\n",
       "      <th>annot</th>\n",
       "    </tr>\n",
       "  </thead>\n",
       "  <tbody>\n",
       "    <tr>\n",
       "      <th>_01_AAACCTGCACGTCTCT.1.0</th>\n",
       "      <td>ref</td>\n",
       "      <td>SIGAD9</td>\n",
       "      <td>DOD1</td>\n",
       "      <td>PB</td>\n",
       "      <td>02_MEP2</td>\n",
       "    </tr>\n",
       "    <tr>\n",
       "      <th>_01_AAACCTGGTGTGACGA.1.0</th>\n",
       "      <td>ref</td>\n",
       "      <td>SIGAD9</td>\n",
       "      <td>DOD1</td>\n",
       "      <td>PB</td>\n",
       "      <td>13_MEP cycle</td>\n",
       "    </tr>\n",
       "    <tr>\n",
       "      <th>_01_AAACCTGGTTCCGGCA.1.0</th>\n",
       "      <td>ref</td>\n",
       "      <td>SIGAD9</td>\n",
       "      <td>DOD1</td>\n",
       "      <td>PB</td>\n",
       "      <td>00_HSC/MPP2</td>\n",
       "    </tr>\n",
       "    <tr>\n",
       "      <th>_01_AAACGGGGTCAAAGCG.1.0</th>\n",
       "      <td>ref</td>\n",
       "      <td>SIGAD9</td>\n",
       "      <td>DOD1</td>\n",
       "      <td>PB</td>\n",
       "      <td>00_HSC/MPP2</td>\n",
       "    </tr>\n",
       "    <tr>\n",
       "      <th>_01_AAAGATGCACATGACT.1.0</th>\n",
       "      <td>ref</td>\n",
       "      <td>SIGAD9</td>\n",
       "      <td>DOD1</td>\n",
       "      <td>PB</td>\n",
       "      <td>00_HSC/MPP2</td>\n",
       "    </tr>\n",
       "    <tr>\n",
       "      <th>...</th>\n",
       "      <td>...</td>\n",
       "      <td>...</td>\n",
       "      <td>...</td>\n",
       "      <td>...</td>\n",
       "      <td>...</td>\n",
       "    </tr>\n",
       "    <tr>\n",
       "      <th>TTTGTTGCAAGCTACT.1.1</th>\n",
       "      <td>target</td>\n",
       "      <td>SITTC8</td>\n",
       "      <td>b_1</td>\n",
       "      <td>PB</td>\n",
       "      <td>07_MPP-to-CMP</td>\n",
       "    </tr>\n",
       "    <tr>\n",
       "      <th>TTTGTTGCACACGGTC.1.1</th>\n",
       "      <td>target</td>\n",
       "      <td>SITTC8</td>\n",
       "      <td>b_0</td>\n",
       "      <td>PB</td>\n",
       "      <td>06_MyP1</td>\n",
       "    </tr>\n",
       "    <tr>\n",
       "      <th>TTTGTTGGTGGTCTAT.1.1</th>\n",
       "      <td>target</td>\n",
       "      <td>SITTC8</td>\n",
       "      <td>b_0</td>\n",
       "      <td>PB</td>\n",
       "      <td>06_MyP1</td>\n",
       "    </tr>\n",
       "    <tr>\n",
       "      <th>TTTGTTGTCACTTGTT.1.1</th>\n",
       "      <td>target</td>\n",
       "      <td>SITTC8</td>\n",
       "      <td>b_0</td>\n",
       "      <td>PB</td>\n",
       "      <td>06_MyP1</td>\n",
       "    </tr>\n",
       "    <tr>\n",
       "      <th>TTTGTTGTCGCAGTCG.1.1</th>\n",
       "      <td>target</td>\n",
       "      <td>SITTC8</td>\n",
       "      <td>b_0</td>\n",
       "      <td>PB</td>\n",
       "      <td>00_HSC/MPP2</td>\n",
       "    </tr>\n",
       "  </tbody>\n",
       "</table>\n",
       "<p>123158 rows × 5 columns</p>\n",
       "</div>"
      ],
      "text/plain": [
       "                         groupset library donor organ          annot\n",
       "_01_AAACCTGCACGTCTCT.1.0      ref  SIGAD9  DOD1    PB        02_MEP2\n",
       "_01_AAACCTGGTGTGACGA.1.0      ref  SIGAD9  DOD1    PB   13_MEP cycle\n",
       "_01_AAACCTGGTTCCGGCA.1.0      ref  SIGAD9  DOD1    PB    00_HSC/MPP2\n",
       "_01_AAACGGGGTCAAAGCG.1.0      ref  SIGAD9  DOD1    PB    00_HSC/MPP2\n",
       "_01_AAAGATGCACATGACT.1.0      ref  SIGAD9  DOD1    PB    00_HSC/MPP2\n",
       "...                           ...     ...   ...   ...            ...\n",
       "TTTGTTGCAAGCTACT.1.1       target  SITTC8   b_1    PB  07_MPP-to-CMP\n",
       "TTTGTTGCACACGGTC.1.1       target  SITTC8   b_0    PB        06_MyP1\n",
       "TTTGTTGGTGGTCTAT.1.1       target  SITTC8   b_0    PB        06_MyP1\n",
       "TTTGTTGTCACTTGTT.1.1       target  SITTC8   b_0    PB        06_MyP1\n",
       "TTTGTTGTCGCAGTCG.1.1       target  SITTC8   b_0    PB    00_HSC/MPP2\n",
       "\n",
       "[123158 rows x 5 columns]"
      ]
     },
     "execution_count": 29,
     "metadata": {},
     "output_type": "execute_result"
    }
   ],
   "source": [
    "combo.obs[['groupset', 'library', 'donor', 'organ', 'annot']]"
   ]
  },
  {
   "cell_type": "code",
   "execution_count": null,
   "metadata": {},
   "outputs": [],
   "source": []
  },
  {
   "cell_type": "code",
   "execution_count": 30,
   "metadata": {},
   "outputs": [],
   "source": [
    "meta = combo.obs[['groupset', 'library', 'donor', 'organ', 'annot']].copy()"
   ]
  },
  {
   "cell_type": "code",
   "execution_count": null,
   "metadata": {},
   "outputs": [],
   "source": []
  },
  {
   "cell_type": "code",
   "execution_count": 31,
   "metadata": {},
   "outputs": [],
   "source": [
    "meta.to_csv('output/'+prefix+'_COMBO_PB10PLUS_filtered_metadata.txt', sep='\\t')"
   ]
  },
  {
   "cell_type": "code",
   "execution_count": null,
   "metadata": {},
   "outputs": [],
   "source": []
  },
  {
   "cell_type": "code",
   "execution_count": 32,
   "metadata": {},
   "outputs": [
    {
     "data": {
      "text/plain": [
       "((123158, 20150), (123158, 5))"
      ]
     },
     "execution_count": 32,
     "metadata": {},
     "output_type": "execute_result"
    }
   ],
   "source": [
    "combo.shape, meta.shape"
   ]
  },
  {
   "cell_type": "code",
   "execution_count": null,
   "metadata": {},
   "outputs": [],
   "source": []
  },
  {
   "cell_type": "code",
   "execution_count": 34,
   "metadata": {},
   "outputs": [
    {
     "data": {
      "text/plain": [
       "(0.0, 11.212971)"
      ]
     },
     "execution_count": 34,
     "metadata": {},
     "output_type": "execute_result"
    }
   ],
   "source": [
    "combo.X.min(), combo.X.max()"
   ]
  },
  {
   "cell_type": "code",
   "execution_count": null,
   "metadata": {},
   "outputs": [],
   "source": []
  },
  {
   "cell_type": "code",
   "execution_count": 35,
   "metadata": {},
   "outputs": [],
   "source": [
    "combo.X = combo.layers['counts'].copy()"
   ]
  },
  {
   "cell_type": "code",
   "execution_count": null,
   "metadata": {},
   "outputs": [],
   "source": []
  },
  {
   "cell_type": "code",
   "execution_count": 36,
   "metadata": {},
   "outputs": [],
   "source": [
    "combo.obs = combo.obs[['groupset', 'library', 'donor', 'organ', 'annot']].copy()"
   ]
  },
  {
   "cell_type": "code",
   "execution_count": null,
   "metadata": {},
   "outputs": [],
   "source": []
  },
  {
   "cell_type": "code",
   "execution_count": 37,
   "metadata": {},
   "outputs": [
    {
     "data": {
      "text/html": [
       "<div>\n",
       "<style scoped>\n",
       "    .dataframe tbody tr th:only-of-type {\n",
       "        vertical-align: middle;\n",
       "    }\n",
       "\n",
       "    .dataframe tbody tr th {\n",
       "        vertical-align: top;\n",
       "    }\n",
       "\n",
       "    .dataframe thead th {\n",
       "        text-align: right;\n",
       "    }\n",
       "</style>\n",
       "<table border=\"1\" class=\"dataframe\">\n",
       "  <thead>\n",
       "    <tr style=\"text-align: right;\">\n",
       "      <th></th>\n",
       "      <th>groupset</th>\n",
       "      <th>library</th>\n",
       "      <th>donor</th>\n",
       "      <th>organ</th>\n",
       "      <th>annot</th>\n",
       "    </tr>\n",
       "  </thead>\n",
       "  <tbody>\n",
       "    <tr>\n",
       "      <th>_01_AAACCTGCACGTCTCT.1.0</th>\n",
       "      <td>ref</td>\n",
       "      <td>SIGAD9</td>\n",
       "      <td>DOD1</td>\n",
       "      <td>PB</td>\n",
       "      <td>02_MEP2</td>\n",
       "    </tr>\n",
       "    <tr>\n",
       "      <th>_01_AAACCTGGTGTGACGA.1.0</th>\n",
       "      <td>ref</td>\n",
       "      <td>SIGAD9</td>\n",
       "      <td>DOD1</td>\n",
       "      <td>PB</td>\n",
       "      <td>13_MEP cycle</td>\n",
       "    </tr>\n",
       "    <tr>\n",
       "      <th>_01_AAACCTGGTTCCGGCA.1.0</th>\n",
       "      <td>ref</td>\n",
       "      <td>SIGAD9</td>\n",
       "      <td>DOD1</td>\n",
       "      <td>PB</td>\n",
       "      <td>00_HSC/MPP2</td>\n",
       "    </tr>\n",
       "    <tr>\n",
       "      <th>_01_AAACGGGGTCAAAGCG.1.0</th>\n",
       "      <td>ref</td>\n",
       "      <td>SIGAD9</td>\n",
       "      <td>DOD1</td>\n",
       "      <td>PB</td>\n",
       "      <td>00_HSC/MPP2</td>\n",
       "    </tr>\n",
       "    <tr>\n",
       "      <th>_01_AAAGATGCACATGACT.1.0</th>\n",
       "      <td>ref</td>\n",
       "      <td>SIGAD9</td>\n",
       "      <td>DOD1</td>\n",
       "      <td>PB</td>\n",
       "      <td>00_HSC/MPP2</td>\n",
       "    </tr>\n",
       "  </tbody>\n",
       "</table>\n",
       "</div>"
      ],
      "text/plain": [
       "                         groupset library donor organ         annot\n",
       "_01_AAACCTGCACGTCTCT.1.0      ref  SIGAD9  DOD1    PB       02_MEP2\n",
       "_01_AAACCTGGTGTGACGA.1.0      ref  SIGAD9  DOD1    PB  13_MEP cycle\n",
       "_01_AAACCTGGTTCCGGCA.1.0      ref  SIGAD9  DOD1    PB   00_HSC/MPP2\n",
       "_01_AAACGGGGTCAAAGCG.1.0      ref  SIGAD9  DOD1    PB   00_HSC/MPP2\n",
       "_01_AAAGATGCACATGACT.1.0      ref  SIGAD9  DOD1    PB   00_HSC/MPP2"
      ]
     },
     "execution_count": 37,
     "metadata": {},
     "output_type": "execute_result"
    }
   ],
   "source": [
    "combo.obs.head()"
   ]
  },
  {
   "cell_type": "code",
   "execution_count": null,
   "metadata": {},
   "outputs": [],
   "source": []
  },
  {
   "cell_type": "code",
   "execution_count": 38,
   "metadata": {},
   "outputs": [
    {
     "name": "stderr",
     "output_type": "stream",
     "text": [
      "... storing 'library' as categorical\n",
      "... storing 'donor' as categorical\n",
      "... storing 'organ' as categorical\n",
      "... storing 'annot' as categorical\n"
     ]
    },
    {
     "name": "stdout",
     "output_type": "stream",
     "text": [
      "CPU times: user 2min 39s, sys: 2.99 s, total: 2min 42s\n",
      "Wall time: 2min 42s\n"
     ]
    }
   ],
   "source": [
    "%%time\n",
    "sc.write(prefix+'_COMBO_PB10PLUS_clean', combo)"
   ]
  },
  {
   "cell_type": "code",
   "execution_count": 40,
   "metadata": {},
   "outputs": [
    {
     "data": {
      "text/plain": [
       "'20211110_COMBO_PB10PLUS_clean'"
      ]
     },
     "execution_count": 40,
     "metadata": {},
     "output_type": "execute_result"
    }
   ],
   "source": [
    "prefix+'_COMBO_PB10PLUS_clean'"
   ]
  },
  {
   "cell_type": "code",
   "execution_count": null,
   "metadata": {},
   "outputs": [],
   "source": []
  }
 ],
 "metadata": {
  "kernelspec": {
   "display_name": "Python 3",
   "language": "python",
   "name": "python3"
  },
  "language_info": {
   "codemirror_mode": {
    "name": "ipython",
    "version": 3
   },
   "file_extension": ".py",
   "mimetype": "text/x-python",
   "name": "python",
   "nbconvert_exporter": "python",
   "pygments_lexer": "ipython3",
   "version": "3.8.6"
  },
  "widgets": {
   "application/vnd.jupyter.widget-state+json": {
    "state": {},
    "version_major": 2,
    "version_minor": 0
   }
  }
 },
 "nbformat": 4,
 "nbformat_minor": 4
}
